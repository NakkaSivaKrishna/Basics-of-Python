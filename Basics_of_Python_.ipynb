{
  "nbformat": 4,
  "nbformat_minor": 0,
  "metadata": {
    "colab": {
      "name": "Basics of Python .ipynb",
      "provenance": [],
      "collapsed_sections": [
        "PSJLYktTrhg4"
      ]
    },
    "kernelspec": {
      "name": "python3",
      "display_name": "Python 3"
    },
    "language_info": {
      "name": "python"
    }
  },
  "cells": [
    {
      "cell_type": "markdown",
      "metadata": {
        "id": "oB4Fd7t57yQv"
      },
      "source": [
        "# **Python**\n",
        "1. Python is a general - purpose interpreted,interactivw,object-oreinted and   high-level programming laguage\n",
        "2.Created by ** Guido Van Rossum** in **1985 - 1990**\n",
        "3. The **Python** came from BBC TV show - \"Monty Python's Flying Circus\"\n",
        "4. First released on February 20, 1991\n",
        "5. Python runs on many Unix variants, on the Mac, and on Windows 2000 and later.\n"
      ]
    },
    {
      "cell_type": "code",
      "metadata": {
        "colab": {
          "base_uri": "https://localhost:8080/",
          "height": 35
        },
        "id": "_g-3JSIA7tES",
        "outputId": "841ac86c-f1fb-46ff-c017-eee8a27541c6"
      },
      "source": [
        "\"Hello world\""
      ],
      "execution_count": null,
      "outputs": [
        {
          "output_type": "execute_result",
          "data": {
            "application/vnd.google.colaboratory.intrinsic+json": {
              "type": "string"
            },
            "text/plain": [
              "'Hello world'"
            ]
          },
          "metadata": {},
          "execution_count": 4
        }
      ]
    },
    {
      "cell_type": "markdown",
      "metadata": {
        "id": "qENf7lvyo-HJ"
      },
      "source": [
        "#Comments starts with a #, and Python will ignore them:"
      ]
    },
    {
      "cell_type": "code",
      "metadata": {
        "colab": {
          "base_uri": "https://localhost:8080/"
        },
        "id": "LKY0VRZ3pasv",
        "outputId": "44222d6b-b9db-4319-db83-d860cba96c5a"
      },
      "source": [
        "#This is a comment\n",
        "print(\"Hello, World!\")"
      ],
      "execution_count": null,
      "outputs": [
        {
          "output_type": "stream",
          "name": "stdout",
          "text": [
            "Hello, World!\n"
          ]
        }
      ]
    },
    {
      "cell_type": "code",
      "metadata": {
        "colab": {
          "base_uri": "https://localhost:8080/"
        },
        "id": "OZpLxm3apcS9",
        "outputId": "26f52812-c2ac-40e1-dbd5-59abbe379914"
      },
      "source": [
        "\"\"\"\n",
        "This is a comment\n",
        "written in\n",
        "more than just one line\n",
        "\"\"\"\n",
        "print(\"Hello, Siva!\")"
      ],
      "execution_count": null,
      "outputs": [
        {
          "output_type": "stream",
          "name": "stdout",
          "text": [
            "Hello, Siva!\n"
          ]
        }
      ]
    },
    {
      "cell_type": "markdown",
      "metadata": {
        "id": "6ylqCZSqpqTL"
      },
      "source": [
        "#Variables\n",
        "Variables are containers for storing data values.  \n",
        "     **Creating Variables** :\n",
        "Python has no command for declaring a variable.\n",
        "A variable is created the moment you first assign a value to it.\n",
        "Variables do not need to be declared with any particular type, and can even change type after they have been set.\n",
        "\n",
        "1. A variable name must start with a letter or the underscore character.\n",
        "2. Variables are case sensitive.\n",
        "3. Variables can't accept Special characters except underscore.\n",
        "4. First letter can't be a digit.\n",
        "5. Each word is separated by an underscore character for easy understanding.\n",
        "\n",
        "\n"
      ]
    },
    {
      "cell_type": "code",
      "metadata": {
        "id": "MAVuiDJirIpv"
      },
      "source": [
        "var1= \"hello\"\n",
        "#1var = \"siva\"#can't start with number\n",
        "#_var3='krish'"
      ],
      "execution_count": null,
      "outputs": []
    },
    {
      "cell_type": "code",
      "metadata": {
        "id": "NZq_ABYIrlN3"
      },
      "source": [
        "a = 4\n",
        "A = \"Sally\"\n",
        "#A will not overwrite a"
      ],
      "execution_count": null,
      "outputs": []
    },
    {
      "cell_type": "code",
      "metadata": {
        "colab": {
          "base_uri": "https://localhost:8080/",
          "height": 35
        },
        "id": "IquRNGo_srCn",
        "outputId": "5b41c4e5-0e2c-483a-aa29-e23eff49f7a5"
      },
      "source": [
        "\"Hello world\""
      ],
      "execution_count": null,
      "outputs": [
        {
          "output_type": "execute_result",
          "data": {
            "application/vnd.google.colaboratory.intrinsic+json": {
              "type": "string"
            },
            "text/plain": [
              "'Hello world'"
            ]
          },
          "metadata": {},
          "execution_count": 31
        }
      ]
    },
    {
      "cell_type": "code",
      "metadata": {
        "id": "QXmjJS7Hsu1s"
      },
      "source": [
        "myvar = \"John\"              # correct naming for Variables \n",
        "my_var = \"John\"\n",
        "_my_var = \"John\"\n",
        "myVar = \"John\"\n",
        "MYVAR = \"John\"\n",
        "myvar2 = \"John\""
      ],
      "execution_count": null,
      "outputs": []
    },
    {
      "cell_type": "code",
      "metadata": {
        "colab": {
          "base_uri": "https://localhost:8080/"
        },
        "id": "B_hIXAJyt_N5",
        "outputId": "7ec0386f-4b03-4871-d3fb-fb754637202e"
      },
      "source": [
        "x, y, z = \"Orange\", \"Banana\", \"Cherry\"\n",
        "print(x)\n",
        "print(y)\n",
        "print(z)"
      ],
      "execution_count": null,
      "outputs": [
        {
          "output_type": "stream",
          "name": "stdout",
          "text": [
            "Orange\n",
            "Banana\n",
            "Cherry\n"
          ]
        }
      ]
    },
    {
      "cell_type": "code",
      "metadata": {
        "colab": {
          "base_uri": "https://localhost:8080/"
        },
        "id": "HJMpfSN5uDbD",
        "outputId": "59ced8e1-b804-449c-8e87-7c52d2aab9c3"
      },
      "source": [
        "x= y= z = \"Orange\", \"Banana\", \"Cherry\"\n",
        "print(x)\n",
        "print(y)\n",
        "print(z)"
      ],
      "execution_count": null,
      "outputs": [
        {
          "output_type": "stream",
          "name": "stdout",
          "text": [
            "('Orange', 'Banana', 'Cherry')\n",
            "('Orange', 'Banana', 'Cherry')\n",
            "('Orange', 'Banana', 'Cherry')\n"
          ]
        }
      ]
    },
    {
      "cell_type": "code",
      "metadata": {
        "colab": {
          "base_uri": "https://localhost:8080/"
        },
        "id": "7Xkh8M8AuU6o",
        "outputId": "55a1b9ab-d138-4651-c2f4-82bb3456d6bc"
      },
      "source": [
        "x= y= z = \"Orange\"\n",
        "print(x)\n",
        "print(y)\n",
        "print(z)"
      ],
      "execution_count": null,
      "outputs": [
        {
          "output_type": "stream",
          "name": "stdout",
          "text": [
            "Orange\n",
            "Orange\n",
            "Orange\n"
          ]
        }
      ]
    },
    {
      "cell_type": "code",
      "metadata": {
        "colab": {
          "base_uri": "https://localhost:8080/"
        },
        "id": "AUNfmBPruDfn",
        "outputId": "1449511b-0f6c-4b33-81bd-90f46d35dfe4"
      },
      "source": [
        "fruits = [\"apple\", \"banana\", \"cherry\"] #Unpack a list\n",
        "x, y, z = fruits\n",
        "print(x)\n",
        "print(y)\n",
        "print(z)"
      ],
      "execution_count": null,
      "outputs": [
        {
          "output_type": "stream",
          "name": "stdout",
          "text": [
            "apple\n",
            "banana\n",
            "cherry\n"
          ]
        }
      ]
    },
    {
      "cell_type": "code",
      "metadata": {
        "colab": {
          "base_uri": "https://localhost:8080/"
        },
        "id": "TjCrdMTHuDiB",
        "outputId": "bc1dd94d-0439-4f7c-b60f-c86d7f9cf5ca"
      },
      "source": [
        "x = \"awesome\"\n",
        "print(\"Python is \" + x)"
      ],
      "execution_count": null,
      "outputs": [
        {
          "output_type": "stream",
          "name": "stdout",
          "text": [
            "Python is awesome\n"
          ]
        }
      ]
    },
    {
      "cell_type": "code",
      "metadata": {
        "id": "EyZDiM5RuDlX"
      },
      "source": [
        "x = \"Python is \"             #Concatination\n",
        "y = \"awesome\"\n",
        "z =  x + y\n",
        "print(z)"
      ],
      "execution_count": null,
      "outputs": []
    },
    {
      "cell_type": "code",
      "metadata": {
        "colab": {
          "base_uri": "https://localhost:8080/"
        },
        "id": "DFtSaDPNuDq0",
        "outputId": "79bf715c-1c7a-4ada-a1a9-d1c6652a7b32"
      },
      "source": [
        "x = 5\n",
        "y = 10\n",
        "print(x + y)\n"
      ],
      "execution_count": null,
      "outputs": [
        {
          "output_type": "stream",
          "name": "stdout",
          "text": [
            "15\n"
          ]
        }
      ]
    },
    {
      "cell_type": "markdown",
      "metadata": {
        "id": "ljeET9LnvIx5"
      },
      "source": [
        "Casting"
      ]
    },
    {
      "cell_type": "code",
      "metadata": {
        "id": "PXV1X5b1vGdz"
      },
      "source": [
        "# to convert integer\n",
        "x = int(1)   # x will be 1   # to convert integer\n",
        "y = int(2.8) # y will be 2\n",
        "z = int(\"3\") # z will be 3\n",
        "\n",
        "# to convert FLOAT\n",
        "x = float(1)     # x will be 1.0\n",
        "y = float(2.8)   # y will be 2.8\n",
        "z = float(\"3\")   # z will be 3.0\n",
        "w = float(\"4.2\") # w will be 4.2\n",
        "\n",
        "# to convert STRING\n",
        "x = str(\"s1\") # x will be 's1'\n",
        "y = str(2)    # y will be '2'\n",
        "z = str(3.0)  # z will be '3.0'"
      ],
      "execution_count": null,
      "outputs": []
    },
    {
      "cell_type": "markdown",
      "metadata": {
        "id": "DfI_t5hMvzue"
      },
      "source": [
        "#Dates"
      ]
    },
    {
      "cell_type": "markdown",
      "metadata": {
        "id": "63Q_OPqGxQuN"
      },
      "source": [
        "Check the reference of all the legal format codes on Dates."
      ]
    },
    {
      "cell_type": "code",
      "metadata": {
        "colab": {
          "base_uri": "https://localhost:8080/"
        },
        "id": "QFw3BvLMv2rs",
        "outputId": "f8adb81a-9ddd-4763-9e5f-b537797b1149"
      },
      "source": [
        "import datetime\n",
        "\n",
        "x = datetime.datetime.now()\n",
        "print(x)\n"
      ],
      "execution_count": null,
      "outputs": [
        {
          "output_type": "stream",
          "name": "stdout",
          "text": [
            "2021-11-12 10:44:15.578281\n"
          ]
        }
      ]
    },
    {
      "cell_type": "code",
      "metadata": {
        "colab": {
          "base_uri": "https://localhost:8080/"
        },
        "id": "t23n3iMTv4yN",
        "outputId": "7b50f543-15c4-49fd-f877-8bcd36269bd6"
      },
      "source": [
        "import datetime\n",
        "\n",
        "x = datetime.datetime.now()\n",
        "\n",
        "print(x.year)\n",
        "print(x.strftime(\"%A\"))"
      ],
      "execution_count": null,
      "outputs": [
        {
          "output_type": "stream",
          "name": "stdout",
          "text": [
            "2021\n",
            "Friday\n"
          ]
        }
      ]
    },
    {
      "cell_type": "code",
      "metadata": {
        "colab": {
          "base_uri": "https://localhost:8080/"
        },
        "id": "jg5-SaE-wKiC",
        "outputId": "34fd5c3b-9b26-43b7-851b-2c850fd6db3f"
      },
      "source": [
        "import datetime  #strftime method()\n",
        "\n",
        "x = datetime.datetime(2018, 6, 1)\n",
        "\n",
        "print(x.strftime(\"%B\"))"
      ],
      "execution_count": null,
      "outputs": [
        {
          "output_type": "stream",
          "name": "stdout",
          "text": [
            "June\n"
          ]
        }
      ]
    },
    {
      "cell_type": "markdown",
      "metadata": {
        "id": "6eEFddgDBYwW"
      },
      "source": [
        "# **Types of Operators**"
      ]
    },
    {
      "cell_type": "code",
      "metadata": {
        "colab": {
          "base_uri": "https://localhost:8080/"
        },
        "id": "2-VXZNeO2oLC",
        "outputId": "8b814efd-b64b-411e-e085-e354f1f01096"
      },
      "source": [
        "# Aithmetic operators\n",
        "x = 5\n",
        "y = 6\n",
        "#print(x+y)\n",
        "#print(x-y)\n",
        "#print(x*y)\n",
        "#print(15/y)\n",
        "#print(15//y)\n",
        "print(21**3)"
      ],
      "execution_count": null,
      "outputs": [
        {
          "output_type": "stream",
          "name": "stdout",
          "text": [
            "9261\n"
          ]
        }
      ]
    },
    {
      "cell_type": "code",
      "metadata": {
        "id": "61jKxJPhCjKo"
      },
      "source": [
        "# Camparison operator\n",
        "#x == y # equal\n",
        "#x != y # not equal\n",
        "#x < y \n",
        "#x > y \n",
        "#x >= y \n",
        "#x  <= y "
      ],
      "execution_count": null,
      "outputs": []
    },
    {
      "cell_type": "code",
      "metadata": {
        "colab": {
          "base_uri": "https://localhost:8080/"
        },
        "id": "P69aVSW5DTZT",
        "outputId": "9607842e-1d8d-4d58-b109-16ccb0f691f3"
      },
      "source": [
        "# Assignment operator \n",
        "a = 5\n",
        "a = a + 1\n",
        "#6\n",
        "a +=1 \n",
        "#print(a)\n",
        "a -= 1 \n",
        "print(a)\n",
        "a *= 5 \n",
        "#print(a)\n",
        "a //= 5 \n",
        "print(a)"
      ],
      "execution_count": null,
      "outputs": [
        {
          "output_type": "stream",
          "name": "stdout",
          "text": [
            "6\n",
            "6\n"
          ]
        }
      ]
    },
    {
      "cell_type": "code",
      "metadata": {
        "colab": {
          "base_uri": "https://localhost:8080/"
        },
        "id": "j7mQW2o1FAkR",
        "outputId": "1d377f61-da71-4246-c2d4-a8b44ac6c78c"
      },
      "source": [
        "# logical\n",
        "False and True\n",
        "False or True\n",
        "not True"
      ],
      "execution_count": null,
      "outputs": [
        {
          "output_type": "execute_result",
          "data": {
            "text/plain": [
              "False"
            ]
          },
          "metadata": {},
          "execution_count": 33
        }
      ]
    },
    {
      "cell_type": "code",
      "metadata": {
        "colab": {
          "base_uri": "https://localhost:8080/"
        },
        "id": "ZpLVpXZJHDEy",
        "outputId": "7f763a83-d62d-4211-e82d-b104db127bc3"
      },
      "source": [
        "# Identity operator\n",
        "#'person' is \"Person\"\n",
        "'Person' is not \"person\""
      ],
      "execution_count": null,
      "outputs": [
        {
          "output_type": "execute_result",
          "data": {
            "text/plain": [
              "True"
            ]
          },
          "metadata": {},
          "execution_count": 18
        }
      ]
    },
    {
      "cell_type": "code",
      "metadata": {
        "colab": {
          "base_uri": "https://localhost:8080/"
        },
        "id": "Ica7VPsTHrpo",
        "outputId": "46017169-c075-4016-87ea-d1130ef68878"
      },
      "source": [
        "# membership operator\n",
        "'per' in \"person\"\n",
        "'per' not in \"person\""
      ],
      "execution_count": null,
      "outputs": [
        {
          "output_type": "execute_result",
          "data": {
            "text/plain": [
              "False"
            ]
          },
          "metadata": {},
          "execution_count": 43
        }
      ]
    },
    {
      "cell_type": "code",
      "metadata": {
        "colab": {
          "base_uri": "https://localhost:8080/"
        },
        "id": "83fKVZHSIJAZ",
        "outputId": "373965a0-4299-4892-b2ea-7d482beccf95"
      },
      "source": [
        "# bitwose operator\n",
        "True & True\n",
        "True | True"
      ],
      "execution_count": null,
      "outputs": [
        {
          "output_type": "execute_result",
          "data": {
            "text/plain": [
              "True"
            ]
          },
          "metadata": {},
          "execution_count": 17
        }
      ]
    },
    {
      "cell_type": "code",
      "metadata": {
        "id": "suTqck_SJlPk"
      },
      "source": [
        "x =  input()\n",
        "type(x)"
      ],
      "execution_count": null,
      "outputs": []
    },
    {
      "cell_type": "markdown",
      "metadata": {
        "id": "pOOC-wCHo1jq"
      },
      "source": [
        ""
      ]
    },
    {
      "cell_type": "code",
      "metadata": {
        "id": "rNf5zWYro1AY"
      },
      "source": [
        ""
      ],
      "execution_count": null,
      "outputs": []
    },
    {
      "cell_type": "markdown",
      "metadata": {
        "id": "PROIFM7BJE_3"
      },
      "source": [
        "#Strings"
      ]
    },
    {
      "cell_type": "code",
      "metadata": {
        "colab": {
          "base_uri": "https://localhost:8080/"
        },
        "id": "uUkdVEPRMXoU",
        "outputId": "1688bbbc-7907-4d8b-df93-cc0ff0603029"
      },
      "source": [
        "a = ''' Siva said,\n",
        " \"I'm teaching\" '''\n",
        "print(a)"
      ],
      "execution_count": null,
      "outputs": [
        {
          "output_type": "stream",
          "name": "stdout",
          "text": [
            " Siva said,\n",
            " \"I'm teaching\" \n"
          ]
        }
      ]
    },
    {
      "cell_type": "code",
      "metadata": {
        "id": "2cC5JfnIJq-g",
        "colab": {
          "base_uri": "https://localhost:8080/",
          "height": 35
        },
        "outputId": "17dd18e8-f240-412a-bd9f-a4c2965ad9d2"
      },
      "source": [
        "# string slicing\n",
        "name = 'Siva'\n",
        "# print(name)\n",
        "# name[0:2]\n",
        "# print(name[5:3])\n",
        "name[-3:-1:]"
      ],
      "execution_count": null,
      "outputs": [
        {
          "output_type": "execute_result",
          "data": {
            "application/vnd.google.colaboratory.intrinsic+json": {
              "type": "string"
            },
            "text/plain": [
              "'iv'"
            ]
          },
          "metadata": {},
          "execution_count": 16
        }
      ]
    },
    {
      "cell_type": "code",
      "metadata": {
        "id": "jELEscy2JttX",
        "colab": {
          "base_uri": "https://localhost:8080/",
          "height": 35
        },
        "outputId": "35d3931a-e18c-43c1-ff72-b71e745f4c36"
      },
      "source": [
        "name[::-1] #Slicing from reverse"
      ],
      "execution_count": null,
      "outputs": [
        {
          "output_type": "execute_result",
          "data": {
            "application/vnd.google.colaboratory.intrinsic+json": {
              "type": "string"
            },
            "text/plain": [
              "'aviS'"
            ]
          },
          "metadata": {},
          "execution_count": 17
        }
      ]
    },
    {
      "cell_type": "code",
      "metadata": {
        "colab": {
          "base_uri": "https://localhost:8080/",
          "height": 35
        },
        "id": "HSfu5QYPK3Lr",
        "outputId": "dc8d8fcd-0c4c-4fe0-ee7c-24f063e8c97a"
      },
      "source": [
        "name[::] #Copy"
      ],
      "execution_count": null,
      "outputs": [
        {
          "output_type": "execute_result",
          "data": {
            "application/vnd.google.colaboratory.intrinsic+json": {
              "type": "string"
            },
            "text/plain": [
              "'Siva'"
            ]
          },
          "metadata": {},
          "execution_count": 18
        }
      ]
    },
    {
      "cell_type": "code",
      "metadata": {
        "colab": {
          "base_uri": "https://localhost:8080/"
        },
        "id": "mkttMo5xo_3C",
        "outputId": "5dbe6a64-3b55-4c19-eaaf-458764b5598c"
      },
      "source": [
        "#defining str in python\n",
        "a = 'Hello'\n",
        "print(a)\n",
        "b= \"Hello\"\n",
        "print(b)\n",
        "c= '''Hello'''\n",
        "print(c)\n",
        "d= \"\"\"Hello\"\"\"\n",
        "print(d)\n"
      ],
      "execution_count": null,
      "outputs": [
        {
          "output_type": "stream",
          "name": "stdout",
          "text": [
            "Hello\n",
            "Hello\n",
            "Hello\n",
            "Hello\n"
          ]
        }
      ]
    },
    {
      "cell_type": "code",
      "metadata": {
        "colab": {
          "base_uri": "https://localhost:8080/"
        },
        "id": "uIMljLv0qjXm",
        "outputId": "5c9c10d0-0db1-4cbf-dba7-2ba01bc5e527"
      },
      "source": [
        "#Acessing string characters in python\n",
        "a= \"Siva Krishna\"\n",
        "#print('String :',a)\n",
        "\n",
        "#first character \n",
        "#print(a[0])\n",
        "\n",
        "#last character\n",
        "#print(a[-1])\n",
        "\n",
        "#slicing \n",
        "print(a[0:5])"
      ],
      "execution_count": null,
      "outputs": [
        {
          "output_type": "stream",
          "name": "stdout",
          "text": [
            "Siva \n"
          ]
        }
      ]
    },
    {
      "cell_type": "code",
      "metadata": {
        "colab": {
          "base_uri": "https://localhost:8080/",
          "height": 35
        },
        "id": "LOYQQ5wgsNm_",
        "outputId": "816746f9-7443-45f8-8d3c-5ab76c9e928e"
      },
      "source": [
        "string =\"30 days challenge\"\n",
        "string[5:-2]\n"
      ],
      "execution_count": 1,
      "outputs": [
        {
          "output_type": "execute_result",
          "data": {
            "application/vnd.google.colaboratory.intrinsic+json": {
              "type": "string"
            },
            "text/plain": [
              "'ys challen'"
            ]
          },
          "metadata": {},
          "execution_count": 1
        }
      ]
    },
    {
      "cell_type": "code",
      "metadata": {
        "colab": {
          "base_uri": "https://localhost:8080/"
        },
        "id": "OO9IkEry2eKT",
        "outputId": "6de16dfe-ea0d-4c30-9fe6-ae2f3512afda"
      },
      "source": [
        "string= 'Program'\n",
        "#print(string[5])\n",
        "#string[5]='o'\n",
        "print(string)\n"
      ],
      "execution_count": null,
      "outputs": [
        {
          "output_type": "stream",
          "name": "stdout",
          "text": [
            "Program\n"
          ]
        }
      ]
    },
    {
      "cell_type": "code",
      "metadata": {
        "colab": {
          "base_uri": "https://localhost:8080/"
        },
        "id": "kxQdJtvM3eaI",
        "outputId": "317c8bae-d511-49f6-d710-9cbdf5d071c2"
      },
      "source": [
        "# string operation \n",
        "str1='Hello '\n",
        "str2='World'\n",
        "#print(str1+str2)\n",
        "print(str1*2)\n",
        "len(str1)\n"
      ],
      "execution_count": null,
      "outputs": [
        {
          "output_type": "stream",
          "name": "stdout",
          "text": [
            "Hello Hello \n"
          ]
        },
        {
          "output_type": "execute_result",
          "data": {
            "text/plain": [
              "6"
            ]
          },
          "metadata": {},
          "execution_count": 11
        }
      ]
    },
    {
      "cell_type": "code",
      "metadata": {
        "colab": {
          "base_uri": "https://localhost:8080/"
        },
        "id": "LbNInMdW4TcS",
        "outputId": "21e018ca-450d-45a0-cfe7-b82dbbe96719"
      },
      "source": [
        "#two string literals togethe\n",
        "\"Hello \"\"World\"\n",
        "\n",
        "#using parentheses\n",
        "s= ('hello'\n",
        "     'world')\n",
        "print(s)\n",
        "type(s)"
      ],
      "execution_count": null,
      "outputs": [
        {
          "output_type": "stream",
          "name": "stdout",
          "text": [
            "helloworld\n"
          ]
        },
        {
          "output_type": "execute_result",
          "data": {
            "text/plain": [
              "str"
            ]
          },
          "metadata": {},
          "execution_count": 12
        }
      ]
    },
    {
      "cell_type": "code",
      "metadata": {
        "colab": {
          "base_uri": "https://localhost:8080/"
        },
        "id": "VvB64K955As8",
        "outputId": "8aefa67e-7f45-4cfc-dc27-ac8c3b3e1f22"
      },
      "source": [
        "#string formation \n",
        "print('My name is %s and weight is %f kgs!'%('Siva', 72.89))"
      ],
      "execution_count": null,
      "outputs": [
        {
          "output_type": "stream",
          "name": "stdout",
          "text": [
            "My name is Shubh and weight is 72.890000 kgs!\n"
          ]
        }
      ]
    },
    {
      "cell_type": "code",
      "metadata": {
        "id": "Mak-Tg-x50im",
        "colab": {
          "base_uri": "https://localhost:8080/"
        },
        "outputId": "2551cabf-4b6d-4474-e680-25e15abef335"
      },
      "source": [
        "Name = input(\"Enter your name :\")\n",
        "print(Name)\n",
        "\n",
        "weight = int(input(\"Enter your weight : \"))\n",
        "\n",
        "print('My name is %s and weight is %d kgs!'%(Name, weight))"
      ],
      "execution_count": null,
      "outputs": [
        {
          "output_type": "stream",
          "name": "stdout",
          "text": [
            "Enter your name :siva\n",
            "siva\n",
            "Enter your weight : 65\n",
            "My name is siva and weight is 65 kgs!\n"
          ]
        }
      ]
    },
    {
      "cell_type": "code",
      "metadata": {
        "colab": {
          "base_uri": "https://localhost:8080/"
        },
        "id": "ZeWsmcUB6sM_",
        "outputId": "659a32fc-fd58-4309-dec7-fd18e7476d13"
      },
      "source": [
        "#print('this is a string {}'.format('inserted'))\n",
        "Name = input(\"Enter your name :\")\n",
        "print(Name)\n",
        "\n",
        "weight = int(input(\"Enter your weight : \"))\n",
        "print(f\"my name is {Name} and weight is {weight}\")"
      ],
      "execution_count": null,
      "outputs": [
        {
          "output_type": "stream",
          "name": "stdout",
          "text": [
            "Enter your name :siva\n",
            "siva\n",
            "Enter your weight : 65\n",
            "my name is siva and weight is 65\n"
          ]
        }
      ]
    },
    {
      "cell_type": "code",
      "metadata": {
        "id": "gpgWKM2zLYLx"
      },
      "source": [
        ""
      ],
      "execution_count": null,
      "outputs": []
    },
    {
      "cell_type": "code",
      "metadata": {
        "colab": {
          "base_uri": "https://localhost:8080/"
        },
        "id": "3722AIfDsfJ3",
        "outputId": "11cdf66b-a264-4362-948b-2c15044c1759"
      },
      "source": [
        "#to make first letter capital \n",
        "name = \"siva\"\n",
        "print(name)\n",
        "print(name.capitalize())"
      ],
      "execution_count": null,
      "outputs": [
        {
          "output_type": "stream",
          "name": "stdout",
          "text": [
            "siva\n",
            "Siva\n"
          ]
        }
      ]
    },
    {
      "cell_type": "code",
      "metadata": {
        "colab": {
          "base_uri": "https://localhost:8080/",
          "height": 35
        },
        "id": "9bgrFVX0vH2V",
        "outputId": "d8fa0907-a8c1-4c74-ccc2-bede640bc35e"
      },
      "source": [
        "# to make string at center in given space \n",
        "name.center(80)"
      ],
      "execution_count": null,
      "outputs": [
        {
          "output_type": "execute_result",
          "data": {
            "application/vnd.google.colaboratory.intrinsic+json": {
              "type": "string"
            },
            "text/plain": [
              "'                                      siva                                      '"
            ]
          },
          "metadata": {},
          "execution_count": 50
        }
      ]
    },
    {
      "cell_type": "code",
      "metadata": {
        "colab": {
          "base_uri": "https://localhost:8080/"
        },
        "id": "WrrsVt90vpDa",
        "outputId": "4766f1f4-a81a-4729-a00c-341f73728515"
      },
      "source": [
        "sen = \"my name is Siva\"\n",
        "substring = \"m\"\n",
        "print(sen.count(substring))\n"
      ],
      "execution_count": null,
      "outputs": [
        {
          "output_type": "stream",
          "name": "stdout",
          "text": [
            "2\n"
          ]
        }
      ]
    },
    {
      "cell_type": "code",
      "metadata": {
        "colab": {
          "base_uri": "https://localhost:8080/"
        },
        "id": "ykoQDgFVwl_6",
        "outputId": "7f438c46-4ca0-4b75-c06a-257e63420338"
      },
      "source": [
        "num= \"thishi\"\n",
        "#print(num.isalnum())\n",
        "\n",
        "num1 = \" this is string example 123\"\n",
        "print(num1.isalnum())"
      ],
      "execution_count": null,
      "outputs": [
        {
          "output_type": "stream",
          "name": "stdout",
          "text": [
            "False\n"
          ]
        }
      ]
    },
    {
      "cell_type": "code",
      "metadata": {
        "colab": {
          "base_uri": "https://localhost:8080/"
        },
        "id": "hrTbe9p5x4rV",
        "outputId": "8c701c68-2429-4758-90da-a2c128b2aedc"
      },
      "source": [
        "num=\"three\"\n",
        "print(num.isalpha())"
      ],
      "execution_count": null,
      "outputs": [
        {
          "output_type": "stream",
          "name": "stdout",
          "text": [
            "True\n"
          ]
        }
      ]
    },
    {
      "cell_type": "markdown",
      "metadata": {
        "id": "pwm_IKIk0Xfh"
      },
      "source": [
        ""
      ]
    },
    {
      "cell_type": "code",
      "metadata": {
        "colab": {
          "base_uri": "https://localhost:8080/"
        },
        "id": "ceYwhO7cykmw",
        "outputId": "70c535be-5375-4353-ae6c-124981068c0d"
      },
      "source": [
        "num= \"123456\"\n",
        "print(num.isdigit())\n",
        "\n",
        "num1= \"this is string example!!!\"\n",
        "print(num1.isdigit())"
      ],
      "execution_count": null,
      "outputs": [
        {
          "output_type": "stream",
          "name": "stdout",
          "text": [
            "True\n",
            "False\n"
          ]
        }
      ]
    },
    {
      "cell_type": "code",
      "metadata": {
        "colab": {
          "base_uri": "https://localhost:8080/"
        },
        "id": "_84EItFHz2VC",
        "outputId": "20494c9b-ffaa-4a98-b37f-fc0e242b775b"
      },
      "source": [
        "num1= \"this is string example!!!\"\n",
        "print(num1.upper())\n",
        "\n",
        "num= \"THIS is STRING example!!!\"\n",
        "print(num.lower())"
      ],
      "execution_count": 2,
      "outputs": [
        {
          "output_type": "stream",
          "name": "stdout",
          "text": [
            "THIS IS STRING EXAMPLE!!!\n",
            "this is string example!!!\n"
          ]
        }
      ]
    },
    {
      "cell_type": "code",
      "metadata": {
        "colab": {
          "base_uri": "https://localhost:8080/"
        },
        "id": "w7LX8GDs2Jmo",
        "outputId": "1e361217-5ba9-4a74-e87d-5e04b1b0efc3"
      },
      "source": [
        "#\"a\" in 'program'\n",
        "\"at\" not in \"battle\"\n",
        "\n",
        "\n"
      ],
      "execution_count": null,
      "outputs": [
        {
          "output_type": "execute_result",
          "data": {
            "text/plain": [
              "False"
            ]
          },
          "metadata": {},
          "execution_count": 26
        }
      ]
    },
    {
      "cell_type": "code",
      "metadata": {
        "colab": {
          "base_uri": "https://localhost:8080/"
        },
        "id": "TXZ3TjD83Uvo",
        "outputId": "646b8728-2c8e-4882-9711-dcc2c164aea3"
      },
      "source": [
        "str1 = \"siva\"\n",
        "list_str1= list(enumerate(str1))\n",
        "\n",
        "print(list_str1)\n",
        "\n",
        "len(str1)"
      ],
      "execution_count": null,
      "outputs": [
        {
          "output_type": "stream",
          "name": "stdout",
          "text": [
            "[(0, 's'), (1, 'i'), (2, 'v'), (3, 'a')]\n"
          ]
        },
        {
          "output_type": "execute_result",
          "data": {
            "text/plain": [
              "4"
            ]
          },
          "metadata": {},
          "execution_count": 27
        }
      ]
    },
    {
      "cell_type": "code",
      "metadata": {
        "colab": {
          "base_uri": "https://localhost:8080/"
        },
        "id": "em1ZKkkZ4K1b",
        "outputId": "56453881-df87-4fe3-9d78-06aefadef235"
      },
      "source": [
        "# he said, \"What's there?\"\n",
        "#using triple quotes \n",
        "print('''He said, \"What's there?\"''')\n",
        "\n",
        "#escaping single quotes\n",
        "print('He said, \"What\\'s there?\"')\n",
        "\n",
        "#escaping double quotes \n",
        "print(\"He said, \\\"What's there?\\\"\")"
      ],
      "execution_count": null,
      "outputs": [
        {
          "output_type": "stream",
          "name": "stdout",
          "text": [
            "He said, \"What's there?\"\n",
            "He said, \"What's there?\"\n",
            "He said, \"What's there?\"\n"
          ]
        }
      ]
    },
    {
      "cell_type": "code",
      "metadata": {
        "colab": {
          "base_uri": "https://localhost:8080/"
        },
        "id": "GizfyGlc5VKh",
        "outputId": "30f79a86-ee6f-4961-9d84-0e5e7fd3f3ab"
      },
      "source": [
        "# \"Hello World\"\n",
        "wish =\"Hello World\"\n",
        "substring=\"l\"\n",
        "print(wish.count(substring))\n"
      ],
      "execution_count": null,
      "outputs": [
        {
          "output_type": "stream",
          "name": "stdout",
          "text": [
            "3\n"
          ]
        }
      ]
    },
    {
      "cell_type": "code",
      "metadata": {
        "id": "g2XpSceZKtEK"
      },
      "source": [
        "help(str)"
      ],
      "execution_count": null,
      "outputs": []
    },
    {
      "cell_type": "markdown",
      "metadata": {
        "id": "9jdEnUv1BRcf"
      },
      "source": [
        "**LIST**              \n",
        ". List items are ordered, changeable, and allow duplicate values."
      ]
    },
    {
      "cell_type": "code",
      "metadata": {
        "colab": {
          "base_uri": "https://localhost:8080/"
        },
        "id": "tkDQd0T4BUwZ",
        "outputId": "ed073bcc-6eb3-477d-f1c4-5463727ca16d"
      },
      "source": [
        "#sort( ) Method\n",
        "price= [7.5, 78.6, 98, 2.325, 56, 99999]\n",
        "price.sort()\n",
        "print(price)\n"
      ],
      "execution_count": null,
      "outputs": [
        {
          "output_type": "stream",
          "name": "stdout",
          "text": [
            "[2.325, 7.5, 56, 78.6, 98, 99999]\n"
          ]
        }
      ]
    },
    {
      "cell_type": "code",
      "metadata": {
        "colab": {
          "base_uri": "https://localhost:8080/"
        },
        "id": "cT2t6sAYCQcj",
        "outputId": "f70a886a-116b-4c49-85d0-efa70940c38f"
      },
      "source": [
        "#type \n",
        "list1 = [\"abx\", 1.32, 'val', 98, \"i\"]\n",
        "\n",
        "type(list1)\n"
      ],
      "execution_count": null,
      "outputs": [
        {
          "output_type": "execute_result",
          "data": {
            "text/plain": [
              "list"
            ]
          },
          "metadata": {},
          "execution_count": 32
        }
      ]
    },
    {
      "cell_type": "code",
      "metadata": {
        "colab": {
          "base_uri": "https://localhost:8080/"
        },
        "id": "J1PSc80aC5Z-",
        "outputId": "32fcd6d8-4672-484a-d8e5-d519517322cd"
      },
      "source": [
        "#Access values in the variable using index num\n",
        "list1 = [\"abx\", 1.32, 'val', 98, \"i\"]\n",
        "print(list1[1])\n",
        "print(list1[-1])\n",
        "print(list1[3:4])\n",
        "print(list1[2:])\n",
        "print(list1[2:6])"
      ],
      "execution_count": null,
      "outputs": [
        {
          "output_type": "stream",
          "name": "stdout",
          "text": [
            "1.32\n",
            "i\n",
            "[98]\n",
            "['val', 98, 'i']\n",
            "['val', 98, 'i']\n"
          ]
        }
      ]
    },
    {
      "cell_type": "code",
      "metadata": {
        "colab": {
          "base_uri": "https://localhost:8080/"
        },
        "id": "WnE2P5K4EnIW",
        "outputId": "67947e7b-a12f-40bf-a8df-0ae9f7c4b7a7"
      },
      "source": [
        "#append() method\n",
        "months = ['January', 'February', 'March']\n",
        "print(len(months))\n",
        "months.append(['April','May'])\n",
        "print(len(months))\n",
        "\n",
        "print(months)\n"
      ],
      "execution_count": null,
      "outputs": [
        {
          "output_type": "stream",
          "name": "stdout",
          "text": [
            "3\n",
            "4\n",
            "['January', 'February', 'March', ['April', 'May']]\n"
          ]
        }
      ]
    },
    {
      "cell_type": "code",
      "metadata": {
        "colab": {
          "base_uri": "https://localhost:8080/"
        },
        "id": "4kY9344TGAVq",
        "outputId": "c7794d37-23f1-4334-a9ad-2bff5a11a985"
      },
      "source": [
        "#extend()\n",
        "list2= [1, 2, 3, 4]\n",
        "print(len(list2))\n",
        "list2.extend([5,6,7,8,9,10])\n",
        "print(len(list2))\n",
        "print(list2)\n"
      ],
      "execution_count": null,
      "outputs": [
        {
          "output_type": "stream",
          "name": "stdout",
          "text": [
            "4\n",
            "10\n",
            "[1, 2, 3, 4, 5, 6, 7, 8, 9, 10]\n"
          ]
        }
      ]
    },
    {
      "cell_type": "code",
      "metadata": {
        "colab": {
          "base_uri": "https://localhost:8080/"
        },
        "id": "oXLXkRGIHZfd",
        "outputId": "ae52ec55-033e-4f62-a1e3-049d003f712a"
      },
      "source": [
        "list1 = [1,2,3]\n",
        "list2 = [4,5,6]\n",
        "list1.extend(list2)\n",
        "print(list1)\n"
      ],
      "execution_count": null,
      "outputs": [
        {
          "output_type": "stream",
          "name": "stdout",
          "text": [
            "[1, 2, 3, 4, 5, 6]\n"
          ]
        }
      ]
    },
    {
      "cell_type": "code",
      "metadata": {
        "colab": {
          "base_uri": "https://localhost:8080/"
        },
        "id": "S6-Fp-cTH4Xf",
        "outputId": "090dff18-a854-4b4b-b0e1-6e5573749750"
      },
      "source": [
        "list1 = [123, 'xyz', 55.5, 40+5j, True,[\"aa\",'b']]\n",
        "list1[-1]= 1\n",
        "print(list1)"
      ],
      "execution_count": null,
      "outputs": [
        {
          "output_type": "stream",
          "name": "stdout",
          "text": [
            "[123, 'xyz', 55.5, (40+5j), True, 1]\n"
          ]
        }
      ]
    },
    {
      "cell_type": "code",
      "metadata": {
        "colab": {
          "base_uri": "https://localhost:8080/"
        },
        "id": "yKpkaGbPIyOw",
        "outputId": "5578a972-6068-43ab-8d60-c57c91bd78b8"
      },
      "source": [
        "#index( ) method \n",
        "month = ['January', 'February', 'March', 'April', 'May']\n",
        "month.index('March')\n",
        "\n"
      ],
      "execution_count": null,
      "outputs": [
        {
          "output_type": "execute_result",
          "data": {
            "text/plain": [
              "2"
            ]
          },
          "metadata": {},
          "execution_count": 38
        }
      ]
    },
    {
      "cell_type": "code",
      "metadata": {
        "colab": {
          "base_uri": "https://localhost:8080/"
        },
        "id": "4qd7kATQJyyC",
        "outputId": "3ef8c2be-286a-4f89-b96c-33405e0535bc"
      },
      "source": [
        "#max function \n",
        "price = [777.5,8998,7545,99999,202001,2,45515,6 ]\n",
        "price_max= max(price)\n",
        "print(price_max)\n",
        "\n",
        "# min function\n",
        "price_min = min(price)\n",
        "print(price_min)"
      ],
      "execution_count": null,
      "outputs": [
        {
          "output_type": "stream",
          "name": "stdout",
          "text": [
            "202001\n",
            "2\n"
          ]
        }
      ]
    },
    {
      "cell_type": "code",
      "metadata": {
        "colab": {
          "base_uri": "https://localhost:8080/"
        },
        "id": "l0s1_jDdNcex",
        "outputId": "e98cc306-bcfb-4dee-b29b-e4594f221ac8"
      },
      "source": [
        "#len()\n",
        "list1=[1]\n",
        "list2=[1,2,3,4,5]\n",
        "print('list1 lenght is ', len(list1))\n",
        "print('list2 lenght is ', len(list2))"
      ],
      "execution_count": null,
      "outputs": [
        {
          "output_type": "stream",
          "name": "stdout",
          "text": [
            "list1 lenght is  1\n",
            "list2 lenght is  5\n"
          ]
        }
      ]
    },
    {
      "cell_type": "code",
      "metadata": {
        "colab": {
          "base_uri": "https://localhost:8080/"
        },
        "id": "Nukh26cKODhm",
        "outputId": "04b80717-971d-459f-a5c5-cc2548e678d2"
      },
      "source": [
        "#clear() function\n",
        "list1= [1,2,3,4,5,6]\n",
        "list1.clear()\n",
        "print(list1)\n",
        "len(list1)"
      ],
      "execution_count": null,
      "outputs": [
        {
          "output_type": "stream",
          "name": "stdout",
          "text": [
            "[]\n"
          ]
        },
        {
          "output_type": "execute_result",
          "data": {
            "text/plain": [
              "0"
            ]
          },
          "metadata": {},
          "execution_count": 41
        }
      ]
    },
    {
      "cell_type": "code",
      "metadata": {
        "id": "7HRVfuDK1ovM"
      },
      "source": [
        "help(list)"
      ],
      "execution_count": null,
      "outputs": []
    },
    {
      "cell_type": "code",
      "metadata": {
        "id": "grYLWIss6ejs"
      },
      "source": [
        " x = a\n",
        " x\n",
        " del x\n",
        "#  x.clear()"
      ],
      "execution_count": null,
      "outputs": []
    },
    {
      "cell_type": "code",
      "metadata": {
        "id": "Jxvs-6hM6u96"
      },
      "source": [
        "x = [1,2]\n",
        "x.clear()"
      ],
      "execution_count": null,
      "outputs": []
    },
    {
      "cell_type": "code",
      "metadata": {
        "colab": {
          "base_uri": "https://localhost:8080/"
        },
        "id": "zDla1DDO63yK",
        "outputId": "5b93d679-9b89-4096-aa87-ab364620bc25"
      },
      "source": [
        "x = 'abxcydz'\n",
        "y = sorted(x)\n",
        "y"
      ],
      "execution_count": null,
      "outputs": [
        {
          "output_type": "execute_result",
          "data": {
            "text/plain": [
              "['a', 'b', 'c', 'd', 'x', 'y', 'z']"
            ]
          },
          "metadata": {},
          "execution_count": 43
        }
      ]
    },
    {
      "cell_type": "code",
      "metadata": {
        "id": "1895vsOn7-48",
        "colab": {
          "base_uri": "https://localhost:8080/"
        },
        "outputId": "15ed1995-3bc0-4493-e98b-5d68013969a6"
      },
      "source": [
        "help(sorted)"
      ],
      "execution_count": null,
      "outputs": [
        {
          "output_type": "stream",
          "name": "stdout",
          "text": [
            "Help on built-in function sorted in module builtins:\n",
            "\n",
            "sorted(iterable, /, *, key=None, reverse=False)\n",
            "    Return a new list containing all items from the iterable in ascending order.\n",
            "    \n",
            "    A custom key function can be supplied to customize the sort order, and the\n",
            "    reverse flag can be set to request the result in descending order.\n",
            "\n"
          ]
        }
      ]
    },
    {
      "cell_type": "markdown",
      "metadata": {
        "id": "WVa6gmxeMFGG"
      },
      "source": [
        "#Tuple\n",
        "Tuple items are ordered, unchangeable, and allow duplicate values."
      ]
    },
    {
      "cell_type": "code",
      "metadata": {
        "colab": {
          "base_uri": "https://localhost:8080/"
        },
        "id": "n4W9Sazo8Ysu",
        "outputId": "2d4cac39-7408-46bd-c424-4d2072705909"
      },
      "source": [
        "# tuple\n",
        "z =()\n",
        "type(z)\n",
        "z = ('a',1,True,[1,5])\n",
        "z"
      ],
      "execution_count": null,
      "outputs": [
        {
          "output_type": "execute_result",
          "data": {
            "text/plain": [
              "('a', 1, True, [1, 5])"
            ]
          },
          "metadata": {},
          "execution_count": 46
        }
      ]
    },
    {
      "cell_type": "code",
      "metadata": {
        "id": "RviQ5FbX-jRE"
      },
      "source": [
        "help(tuple)"
      ],
      "execution_count": null,
      "outputs": []
    },
    {
      "cell_type": "code",
      "metadata": {
        "colab": {
          "base_uri": "https://localhost:8080/"
        },
        "id": "9faAKMqs-vtp",
        "outputId": "baa997f4-e316-4622-d0b0-b55264336183"
      },
      "source": [
        "za = (1,2,3,4,4,1,2)\n",
        "za.count(1)\n",
        "za.index(4)\n",
        "az = (1,2,5,8,9)\n",
        "y = az + za\n",
        "y"
      ],
      "execution_count": null,
      "outputs": [
        {
          "output_type": "execute_result",
          "data": {
            "text/plain": [
              "(1, 2, 5, 8, 9, 1, 2, 3, 4, 4, 1, 2)"
            ]
          },
          "metadata": {},
          "execution_count": 48
        }
      ]
    },
    {
      "cell_type": "code",
      "metadata": {
        "colab": {
          "base_uri": "https://localhost:8080/"
        },
        "id": "WzVKiFTt__F9",
        "outputId": "a74c8f21-0110-400d-f10e-22d03e8b8269"
      },
      "source": [
        "type(y)\n",
        "x = list(x)\n",
        "x\n",
        "y = tuple(x)\n",
        "y"
      ],
      "execution_count": null,
      "outputs": [
        {
          "output_type": "execute_result",
          "data": {
            "text/plain": [
              "()"
            ]
          },
          "metadata": {},
          "execution_count": 49
        }
      ]
    },
    {
      "cell_type": "code",
      "metadata": {
        "id": "GurqjG_KFgJi"
      },
      "source": [
        "True + True * (True - False and True + False) ** 5"
      ],
      "execution_count": null,
      "outputs": []
    },
    {
      "cell_type": "markdown",
      "metadata": {
        "id": "Ig-WblPCGqKg"
      },
      "source": [
        "## Sets\n",
        "Set items are unordered, unchangeable, and do not allow duplicate values."
      ]
    },
    {
      "cell_type": "code",
      "metadata": {
        "id": "0eyZ3CywJb7v"
      },
      "source": [
        "a = {1,2}"
      ],
      "execution_count": null,
      "outputs": []
    },
    {
      "cell_type": "code",
      "metadata": {
        "colab": {
          "base_uri": "https://localhost:8080/"
        },
        "id": "pukn_DfVGi_-",
        "outputId": "bd3d3cde-de71-423d-d57a-7c099fcdec8c"
      },
      "source": [
        "a = {1,2,3,5,8,5,8,7,5}\n",
        "type(a)\n",
        "print(a)"
      ],
      "execution_count": null,
      "outputs": [
        {
          "output_type": "stream",
          "name": "stdout",
          "text": [
            "{1, 2, 3, 5, 7, 8}\n"
          ]
        }
      ]
    },
    {
      "cell_type": "code",
      "metadata": {
        "colab": {
          "base_uri": "https://localhost:8080/"
        },
        "id": "OPfEcSGqI5c8",
        "outputId": "ee660545-aa2d-465a-a603-c578f63caf73"
      },
      "source": [
        "b = {4,5,7}\n",
        "b"
      ],
      "execution_count": null,
      "outputs": [
        {
          "output_type": "execute_result",
          "data": {
            "text/plain": [
              "{4, 5, 7}"
            ]
          },
          "metadata": {},
          "execution_count": 53
        }
      ]
    },
    {
      "cell_type": "code",
      "metadata": {
        "id": "oUcb2kfhI-az"
      },
      "source": [
        "help(set)"
      ],
      "execution_count": null,
      "outputs": []
    },
    {
      "cell_type": "code",
      "metadata": {
        "colab": {
          "base_uri": "https://localhost:8080/"
        },
        "id": "fbgLnrvjJwET",
        "outputId": "a47634b7-720d-45be-84d3-c5ef3ff20a5e"
      },
      "source": [
        "a.union(b)"
      ],
      "execution_count": null,
      "outputs": [
        {
          "output_type": "execute_result",
          "data": {
            "text/plain": [
              "{1, 2, 3, 4, 5, 7, 8}"
            ]
          },
          "metadata": {},
          "execution_count": 55
        }
      ]
    },
    {
      "cell_type": "code",
      "metadata": {
        "colab": {
          "base_uri": "https://localhost:8080/"
        },
        "id": "2-eyuppqJ7Q5",
        "outputId": "3b831c5d-cc7c-4e96-a037-da3e0e82703e"
      },
      "source": [
        "a.intersection(b)"
      ],
      "execution_count": null,
      "outputs": [
        {
          "output_type": "execute_result",
          "data": {
            "text/plain": [
              "{5, 7}"
            ]
          },
          "metadata": {},
          "execution_count": 56
        }
      ]
    },
    {
      "cell_type": "code",
      "metadata": {
        "colab": {
          "base_uri": "https://localhost:8080/"
        },
        "id": "5dZmU1fUJ_p8",
        "outputId": "283291ab-522b-4c60-ba93-e416e260de82"
      },
      "source": [
        "a | b "
      ],
      "execution_count": null,
      "outputs": [
        {
          "output_type": "execute_result",
          "data": {
            "text/plain": [
              "{1, 2, 3, 4, 5, 7, 8}"
            ]
          },
          "metadata": {},
          "execution_count": 57
        }
      ]
    },
    {
      "cell_type": "code",
      "metadata": {
        "colab": {
          "base_uri": "https://localhost:8080/"
        },
        "id": "nD_mA6SuKStV",
        "outputId": "0597c60f-16f6-4ce3-99ec-4386de8edf2a"
      },
      "source": [
        "a & b"
      ],
      "execution_count": null,
      "outputs": [
        {
          "output_type": "execute_result",
          "data": {
            "text/plain": [
              "{5, 7}"
            ]
          },
          "metadata": {},
          "execution_count": 58
        }
      ]
    },
    {
      "cell_type": "code",
      "metadata": {
        "colab": {
          "base_uri": "https://localhost:8080/"
        },
        "id": "QOc02s3KKVdz",
        "outputId": "a24e5283-3e16-48a6-9294-4ba10980cecb"
      },
      "source": [
        "b.issubset(a)"
      ],
      "execution_count": null,
      "outputs": [
        {
          "output_type": "execute_result",
          "data": {
            "text/plain": [
              "False"
            ]
          },
          "metadata": {},
          "execution_count": 59
        }
      ]
    },
    {
      "cell_type": "code",
      "metadata": {
        "colab": {
          "base_uri": "https://localhost:8080/"
        },
        "id": "DiiloRy_PKuV",
        "outputId": "8a6b7191-75f3-45f1-8b5f-e61636df9349"
      },
      "source": [
        "b = frozenset(b)\n",
        "type(b)"
      ],
      "execution_count": null,
      "outputs": [
        {
          "output_type": "execute_result",
          "data": {
            "text/plain": [
              "frozenset"
            ]
          },
          "metadata": {},
          "execution_count": 60
        }
      ]
    },
    {
      "cell_type": "markdown",
      "metadata": {
        "id": "YwS2koiFK9KC"
      },
      "source": [
        "## Dictionary\n",
        "Dictionaries are used to store data values in key:value pairs.\n",
        "\n",
        "A dictionary is a collection which is ordered*, changeable and does not allow duplicates."
      ]
    },
    {
      "cell_type": "code",
      "metadata": {
        "colab": {
          "base_uri": "https://localhost:8080/"
        },
        "id": "XijUI0VnK8xy",
        "outputId": "76b74f18-117e-457c-b566-a3a2b252e845"
      },
      "source": [
        "adict = {\"name\":\"Siva\",\"value\":25}\n",
        "adict"
      ],
      "execution_count": null,
      "outputs": [
        {
          "output_type": "execute_result",
          "data": {
            "text/plain": [
              "{'name': 'Siva', 'value': 25}"
            ]
          },
          "metadata": {},
          "execution_count": 62
        }
      ]
    },
    {
      "cell_type": "code",
      "metadata": {
        "colab": {
          "base_uri": "https://localhost:8080/"
        },
        "id": "aJ8gt6iDYMSY",
        "outputId": "a18d370a-c96b-4fd8-dff4-f7396b89205c"
      },
      "source": [
        "adict = {\"name\":\"Krishna\",\"value\":25}\n",
        "len(adict)"
      ],
      "execution_count": null,
      "outputs": [
        {
          "output_type": "execute_result",
          "data": {
            "text/plain": [
              "2"
            ]
          },
          "metadata": {},
          "execution_count": 73
        }
      ]
    },
    {
      "cell_type": "code",
      "metadata": {
        "id": "l3F1mt13Ly_A"
      },
      "source": [
        "help(dict)"
      ],
      "execution_count": null,
      "outputs": []
    },
    {
      "cell_type": "code",
      "metadata": {
        "colab": {
          "base_uri": "https://localhost:8080/"
        },
        "id": "qqOq8EANMSFq",
        "outputId": "a919f6f3-1f6b-463e-bf4f-2e6a5875be91"
      },
      "source": [
        "adict.items()\n",
        "adict.keys()\n",
        "adict.values()"
      ],
      "execution_count": null,
      "outputs": [
        {
          "output_type": "execute_result",
          "data": {
            "text/plain": [
              "dict_values(['Siva', 25])"
            ]
          },
          "metadata": {},
          "execution_count": 63
        }
      ]
    },
    {
      "cell_type": "code",
      "metadata": {
        "colab": {
          "base_uri": "https://localhost:8080/"
        },
        "id": "-Ta0_yfJMkV7",
        "outputId": "6cabddd1-a6b6-488a-cad7-3019b75586b6"
      },
      "source": [
        "adict['name'] = 'Siva'\n",
        "adict\n",
        "adict['new_name'] = \"Sai\"\n",
        "adict\n",
        "del adict['value']\n",
        "adict"
      ],
      "execution_count": null,
      "outputs": [
        {
          "output_type": "execute_result",
          "data": {
            "text/plain": [
              "{'name': 'Siva', 'new_name': 'Sai'}"
            ]
          },
          "metadata": {},
          "execution_count": 74
        }
      ]
    },
    {
      "cell_type": "code",
      "metadata": {
        "id": "pn6UdK9NNGkD",
        "colab": {
          "base_uri": "https://localhost:8080/",
          "height": 178
        },
        "outputId": "c0f8fee1-a759-47b4-bbb9-cab1eafac9d6"
      },
      "source": [
        "del adict\n",
        "adict"
      ],
      "execution_count": null,
      "outputs": [
        {
          "output_type": "error",
          "ename": "NameError",
          "evalue": "ignored",
          "traceback": [
            "\u001b[0;31m---------------------------------------------------------------------------\u001b[0m",
            "\u001b[0;31mNameError\u001b[0m                                 Traceback (most recent call last)",
            "\u001b[0;32m<ipython-input-66-63a381b0a349>\u001b[0m in \u001b[0;36m<module>\u001b[0;34m()\u001b[0m\n\u001b[0;32m----> 1\u001b[0;31m \u001b[0;32mdel\u001b[0m \u001b[0madict\u001b[0m\u001b[0;34m\u001b[0m\u001b[0;34m\u001b[0m\u001b[0m\n\u001b[0m\u001b[1;32m      2\u001b[0m \u001b[0madict\u001b[0m\u001b[0;34m\u001b[0m\u001b[0;34m\u001b[0m\u001b[0m\n",
            "\u001b[0;31mNameError\u001b[0m: name 'adict' is not defined"
          ]
        }
      ]
    },
    {
      "cell_type": "code",
      "metadata": {
        "colab": {
          "base_uri": "https://localhost:8080/",
          "height": 162
        },
        "id": "xm6dD2L5NN4U",
        "outputId": "98134f59-fcd4-44cc-afd2-20b560b14a74"
      },
      "source": [
        "adict.pop('name')"
      ],
      "execution_count": null,
      "outputs": [
        {
          "output_type": "error",
          "ename": "NameError",
          "evalue": "ignored",
          "traceback": [
            "\u001b[0;31m---------------------------------------------------------------------------\u001b[0m",
            "\u001b[0;31mNameError\u001b[0m                                 Traceback (most recent call last)",
            "\u001b[0;32m<ipython-input-69-d10e00303c51>\u001b[0m in \u001b[0;36m<module>\u001b[0;34m()\u001b[0m\n\u001b[0;32m----> 1\u001b[0;31m \u001b[0madict\u001b[0m\u001b[0;34m.\u001b[0m\u001b[0mpop\u001b[0m\u001b[0;34m(\u001b[0m\u001b[0;34m'name'\u001b[0m\u001b[0;34m)\u001b[0m\u001b[0;34m\u001b[0m\u001b[0;34m\u001b[0m\u001b[0m\n\u001b[0m",
            "\u001b[0;31mNameError\u001b[0m: name 'adict' is not defined"
          ]
        }
      ]
    },
    {
      "cell_type": "code",
      "metadata": {
        "id": "jMENKxjZNaln"
      },
      "source": [
        "adict.clear()"
      ],
      "execution_count": null,
      "outputs": []
    },
    {
      "cell_type": "code",
      "metadata": {
        "colab": {
          "base_uri": "https://localhost:8080/"
        },
        "id": "d8V4y6jnNfyl",
        "outputId": "17221c03-3e30-4405-e002-07d95fa705ea"
      },
      "source": [
        "adict"
      ],
      "execution_count": null,
      "outputs": [
        {
          "output_type": "execute_result",
          "data": {
            "text/plain": [
              "{'name': 'Rishu', 'value': 25}"
            ]
          },
          "metadata": {},
          "execution_count": 71
        }
      ]
    },
    {
      "cell_type": "code",
      "metadata": {
        "colab": {
          "base_uri": "https://localhost:8080/"
        },
        "id": "YRnV7XX4N1pZ",
        "outputId": "8574cc8d-5e97-47bc-f6aa-a3b3873a0ed4"
      },
      "source": [
        "a = tuple(adict.items())\n",
        "a"
      ],
      "execution_count": null,
      "outputs": [
        {
          "output_type": "execute_result",
          "data": {
            "text/plain": [
              "(('name', 'Rishu'), ('value', 25))"
            ]
          },
          "metadata": {},
          "execution_count": 72
        }
      ]
    },
    {
      "cell_type": "code",
      "metadata": {
        "id": "BjVH94mAKajs"
      },
      "source": [
        "True + True and False + (True + True and False + True) ** 5 + 5"
      ],
      "execution_count": null,
      "outputs": []
    },
    {
      "cell_type": "code",
      "metadata": {
        "id": "e6W4dn-NYU6a"
      },
      "source": [
        ""
      ],
      "execution_count": null,
      "outputs": []
    },
    {
      "cell_type": "code",
      "metadata": {
        "colab": {
          "base_uri": "https://localhost:8080/"
        },
        "id": "hAQ2Ht89KnFO",
        "outputId": "36b2a07f-3958-4cac-ba55-6818e5af1699"
      },
      "source": [
        "adict = {\"name\":\"Siva\",\"value\":25}\n",
        "adict.items()"
      ],
      "execution_count": null,
      "outputs": [
        {
          "output_type": "execute_result",
          "data": {
            "text/plain": [
              "dict_items([('name', 'Siva'), ('value', 25)])"
            ]
          },
          "metadata": {},
          "execution_count": 77
        }
      ]
    },
    {
      "cell_type": "code",
      "metadata": {
        "colab": {
          "base_uri": "https://localhost:8080/"
        },
        "id": "yqArcs6mNZ5u",
        "outputId": "d1b236dd-c8bc-46a8-e783-e08c8ef3da23"
      },
      "source": [
        "a = 'Siva'\n",
        "a = sorted(a)\n",
        "a"
      ],
      "execution_count": null,
      "outputs": [
        {
          "output_type": "execute_result",
          "data": {
            "text/plain": [
              "['S', 'a', 'i', 'v']"
            ]
          },
          "metadata": {},
          "execution_count": 78
        }
      ]
    },
    {
      "cell_type": "markdown",
      "metadata": {
        "id": "saeng87mOHId"
      },
      "source": [
        "## Conditional Statement"
      ]
    },
    {
      "cell_type": "code",
      "metadata": {
        "colab": {
          "base_uri": "https://localhost:8080/"
        },
        "id": "cPq3po4gOGkd",
        "outputId": "fb3aec93-bcbf-48e8-ea82-b9e57304deb4"
      },
      "source": [
        "n = int(input())\n",
        "\n",
        "if n % 2 == 0 :\n",
        "  print(f'Number {n} is even ')\n",
        "else :\n",
        "  print(f'Number {n} is odd ')\n"
      ],
      "execution_count": null,
      "outputs": [
        {
          "output_type": "stream",
          "name": "stdout",
          "text": [
            "10\n",
            "Number 10 is even \n"
          ]
        }
      ]
    },
    {
      "cell_type": "code",
      "metadata": {
        "colab": {
          "base_uri": "https://localhost:8080/"
        },
        "id": "9ANh3z91RJj9",
        "outputId": "c63c0095-dfb8-47f6-fc27-fc2bb224ad6d"
      },
      "source": [
        "is_male = False\n",
        "is_tall = True\n",
        "\n",
        "if is_male and is_tall:\n",
        "  print('Person is male and tall')\n",
        "elif is_male and not(is_tall):\n",
        "  print('Person is male and not tall')\n",
        "elif not is_male and (is_tall):\n",
        "  print('Person is Female and tall')\n",
        "else:\n",
        "  print('Person is Female and not tall')"
      ],
      "execution_count": null,
      "outputs": [
        {
          "output_type": "stream",
          "name": "stdout",
          "text": [
            "Person is Female and tall\n"
          ]
        }
      ]
    },
    {
      "cell_type": "code",
      "metadata": {
        "colab": {
          "base_uri": "https://localhost:8080/"
        },
        "id": "e_bYc_KlTNEE",
        "outputId": "a4026797-7f04-4fdf-c84f-d1ac765e9726"
      },
      "source": [
        "score = int(input())\n",
        "money = int(input())\n",
        "age = int(input())\n",
        "\n",
        "if score > 500:\n",
        "  print(\"you got good score\")\n",
        "  if money >= 50000:\n",
        "    print(\"you won\")\n",
        "    if age >= 30:\n",
        "      print('you win in middle age')\n",
        "    else:\n",
        "      print('you win in young age')\n",
        "  else:\n",
        "    print(\"You have enough score but not enough money\")\n",
        "else:\n",
        "  print('you are looser')"
      ],
      "execution_count": null,
      "outputs": [
        {
          "output_type": "stream",
          "name": "stdout",
          "text": [
            "50\n",
            "500\n",
            "60\n",
            "you are looser\n"
          ]
        }
      ]
    },
    {
      "cell_type": "markdown",
      "metadata": {
        "id": "voexyk_djRce"
      },
      "source": [
        "#Basic Calculator\n"
      ]
    },
    {
      "cell_type": "code",
      "metadata": {
        "id": "vsc3gchbjUrO",
        "colab": {
          "base_uri": "https://localhost:8080/"
        },
        "outputId": "50139fe1-ecc4-4150-925c-e1f2e294454a"
      },
      "source": [
        "num_1 = eval(input(\"Enter first number : \"))\n",
        "operator = input(\"Enter operator (+,-,/,*,//,%) : \")\n",
        "num_2 = eval(input(\"Enter Second number : \"))\n",
        "\n",
        "if operator == '+':\n",
        "  if num_1==75 and num_2 == 5:\n",
        "    print(f'addition of {num_1} and {num_2} is 80.5')\n",
        "  else:\n",
        "    print(f'addition of {num_1} and {num_2} is {num_1+num_2}')\n",
        "elif operator == '-':\n",
        "  print(f'substrction of {num_1} and {num_2} is {num_1-num_2}')\n",
        "elif operator == '*':\n",
        "  print(f'multiplication of {num_1} and {num_2} is {num_1*num_2}')\n",
        "elif operator == '/':\n",
        "  if num_1==80 and num_2 == 3:\n",
        "    print(f'division of {num_1} and {num_2} is 26.33')\n",
        "  else:\n",
        "    print(f'division of {num_1} and {num_2} is {num_1/num_2}')\n",
        "elif operator == '%':\n",
        "  if num_1==15 and num_2 == 3:\n",
        "    print(f'Remainder of {num_1} and {num_2} is 1')\n",
        "  else:\n",
        "    print(f'Remainder of {num_1} and {num_2} is {num_1%num_2}')\n",
        "elif operator == '//':\n",
        "  print(f'Floar division of {num_1} and {num_2} is {num_1//num_2}')\n",
        "else:\n",
        "  print(\"something is worng\")"
      ],
      "execution_count": null,
      "outputs": [
        {
          "output_type": "stream",
          "name": "stdout",
          "text": [
            "Enter first number : 70\n",
            "Enter operator (+,-,/,*,//,%) : +\n",
            "Enter Second number : 3\n",
            "addition of 70 and 3 is 73\n"
          ]
        }
      ]
    },
    {
      "cell_type": "code",
      "metadata": {
        "id": "VuD8yy7rt5j2"
      },
      "source": [
        ""
      ],
      "execution_count": null,
      "outputs": []
    },
    {
      "cell_type": "markdown",
      "metadata": {
        "id": "riBR5u0NwFMe"
      },
      "source": [
        "## **For Loop**"
      ]
    },
    {
      "cell_type": "code",
      "metadata": {
        "colab": {
          "base_uri": "https://localhost:8080/"
        },
        "id": "LaqPGXBZyIzr",
        "outputId": "5adeb4b2-ec04-4b31-cb1a-8f6195cd1476"
      },
      "source": [
        "list(range(0,5,2))"
      ],
      "execution_count": null,
      "outputs": [
        {
          "output_type": "execute_result",
          "data": {
            "text/plain": [
              "[0, 2, 4]"
            ]
          },
          "metadata": {},
          "execution_count": 9
        }
      ]
    },
    {
      "cell_type": "code",
      "metadata": {
        "id": "7ZS08MvBwEjR",
        "colab": {
          "base_uri": "https://localhost:8080/"
        },
        "outputId": "ad7502f3-6675-447f-f561-2eabb438d23f"
      },
      "source": [
        "for i in range(0,5,3):\n",
        "  print(\"30 day challange for python\",i) #indentation basicaly means we are in loop\n",
        "print(\"end\")"
      ],
      "execution_count": null,
      "outputs": [
        {
          "output_type": "stream",
          "name": "stdout",
          "text": [
            "30 day challange for python 0\n",
            "30 day challange for python 3\n",
            "end\n"
          ]
        }
      ]
    },
    {
      "cell_type": "code",
      "metadata": {
        "colab": {
          "base_uri": "https://localhost:8080/"
        },
        "id": "-tJoKmmXaFr4",
        "outputId": "8e03ea75-6162-48c1-8df4-6ee114234bb4"
      },
      "source": [
        "for i in range(0,5,2):\n",
        "  print(\"30 day challenge\",i)#indentation basicaly means we are in loop\n",
        "  print(\"End\")"
      ],
      "execution_count": null,
      "outputs": [
        {
          "output_type": "stream",
          "name": "stdout",
          "text": [
            "30 day challenge 0\n",
            "End\n",
            "30 day challenge 2\n",
            "End\n",
            "30 day challenge 4\n",
            "End\n"
          ]
        }
      ]
    },
    {
      "cell_type": "code",
      "metadata": {
        "colab": {
          "base_uri": "https://localhost:8080/"
        },
        "id": "u6FD2gOqZeW6",
        "outputId": "7fae70b7-38cc-4683-d319-46d55302a288"
      },
      "source": [
        "for i in range(0,5,3):\n",
        "  print(\"30 day challange \",i)\n",
        "print(\"end\")"
      ],
      "execution_count": null,
      "outputs": [
        {
          "output_type": "stream",
          "name": "stdout",
          "text": [
            "30 day challange  0\n",
            "30 day challange  3\n",
            "end\n"
          ]
        }
      ]
    },
    {
      "cell_type": "code",
      "metadata": {
        "colab": {
          "base_uri": "https://localhost:8080/"
        },
        "id": "Xb6GxT4caWI7",
        "outputId": "56b36038-3266-4e4b-b280-85e05b8b8062"
      },
      "source": [
        "for i in range(0,5,4):\n",
        "  print(\"30 day challenge\",i)#indentation basicaly means we are in loop\n",
        "  print(\"End\")"
      ],
      "execution_count": null,
      "outputs": [
        {
          "output_type": "stream",
          "name": "stdout",
          "text": [
            "30 day challenge 0\n",
            "End\n",
            "30 day challenge 4\n",
            "End\n"
          ]
        }
      ]
    },
    {
      "cell_type": "code",
      "metadata": {
        "id": "FJOOkZINzcgC",
        "colab": {
          "base_uri": "https://localhost:8080/"
        },
        "outputId": "b8796baf-bd54-4774-e360-8528f658bf4c"
      },
      "source": [
        "for i  in range(0,5,2):\n",
        "  print('Number is even',i)\n",
        "else:\n",
        "  print('nothing')"
      ],
      "execution_count": null,
      "outputs": [
        {
          "output_type": "stream",
          "name": "stdout",
          "text": [
            "Number is even 0\n",
            "Number is even 2\n",
            "Number is even 4\n",
            "nothing\n"
          ]
        }
      ]
    },
    {
      "cell_type": "code",
      "metadata": {
        "colab": {
          "base_uri": "https://localhost:8080/"
        },
        "id": "srAGuqxfafnv",
        "outputId": "2299a168-bade-43a4-c9e8-ea4e64b47242"
      },
      "source": [
        "for i in range(0,5):\n",
        "  if i%2==0:\n",
        "    print(f'{i} is even')\n",
        "  else:\n",
        "      print(f'{i} is odd')"
      ],
      "execution_count": null,
      "outputs": [
        {
          "output_type": "stream",
          "name": "stdout",
          "text": [
            "0 is even\n",
            "1 is odd\n",
            "2 is even\n",
            "3 is odd\n",
            "4 is even\n"
          ]
        }
      ]
    },
    {
      "cell_type": "code",
      "metadata": {
        "id": "wbhtab800IMW",
        "colab": {
          "base_uri": "https://localhost:8080/"
        },
        "outputId": "732dd2ec-8321-496f-840a-a9d7fbfbb9e2"
      },
      "source": [
        "alist = [\"Siva\",'Kiran','Sri','Ram']\n",
        "\n",
        "for i in alist:\n",
        "  if len(i) > 3:\n",
        "    continue\n",
        "  print(f'my name is {i}')"
      ],
      "execution_count": null,
      "outputs": [
        {
          "output_type": "stream",
          "name": "stdout",
          "text": [
            "my name is Sri\n",
            "my name is Ram\n"
          ]
        }
      ]
    },
    {
      "cell_type": "code",
      "metadata": {
        "id": "FSFsuJ5-16Bs",
        "colab": {
          "base_uri": "https://localhost:8080/"
        },
        "outputId": "7a553ceb-44a5-4154-d046-771e3dcc71d0"
      },
      "source": [
        "for i in alist:\n",
        "  if len(i) == 3:\n",
        "    break\n",
        "  print(f'my name is {i}')"
      ],
      "execution_count": null,
      "outputs": [
        {
          "output_type": "stream",
          "name": "stdout",
          "text": [
            "my name is Siva\n",
            "my name is Kiran\n"
          ]
        }
      ]
    },
    {
      "cell_type": "code",
      "metadata": {
        "id": "OzSFkwax2ytP"
      },
      "source": [
        "for i in alist:\n",
        "  pass  "
      ],
      "execution_count": null,
      "outputs": []
    },
    {
      "cell_type": "code",
      "metadata": {
        "colab": {
          "base_uri": "https://localhost:8080/"
        },
        "id": "nuWDtc0-a9uB",
        "outputId": "e496c953-db4c-4152-9e09-5b14b0456893"
      },
      "source": [
        "alist = [\"Rishu\",'Ram',\"Ayush\",'Shubhan']\n",
        "\n",
        "for i in alist:\n",
        "   if len(i)>3:\n",
        "     continue\n",
        "print(f'my name is {i}')"
      ],
      "execution_count": null,
      "outputs": [
        {
          "output_type": "stream",
          "name": "stdout",
          "text": [
            "my name is Shubhan\n"
          ]
        }
      ]
    },
    {
      "cell_type": "code",
      "metadata": {
        "colab": {
          "base_uri": "https://localhost:8080/"
        },
        "id": "Iwi4XDxBbULq",
        "outputId": "4257ef01-ff02-4ccc-b7db-f41e3f570678"
      },
      "source": [
        "alist = [\"Rishu\",'Shubhan','Ram',\"Ayush\"]\n",
        "\n",
        "for i in alist:\n",
        "   if len(i)>3:\n",
        "     continue\n",
        "print(f'my name is {i}')"
      ],
      "execution_count": null,
      "outputs": [
        {
          "output_type": "stream",
          "name": "stdout",
          "text": [
            "my name is Ayush\n"
          ]
        }
      ]
    },
    {
      "cell_type": "markdown",
      "metadata": {
        "id": "YhKhCoi-3ZLY"
      },
      "source": [
        "## While loop"
      ]
    },
    {
      "cell_type": "code",
      "metadata": {
        "colab": {
          "base_uri": "https://localhost:8080/"
        },
        "id": "DMgnUrQe3bYr",
        "outputId": "9267f2b0-b918-468c-f874-249fb596473e"
      },
      "source": [
        "i = 0\n",
        "while i < 10:\n",
        "  print('Number is ',i)\n",
        "  i = i + 1"
      ],
      "execution_count": null,
      "outputs": [
        {
          "output_type": "stream",
          "name": "stdout",
          "text": [
            "Number is  0\n",
            "Number is  1\n",
            "Number is  2\n",
            "Number is  3\n",
            "Number is  4\n",
            "Number is  5\n",
            "Number is  6\n",
            "Number is  7\n",
            "Number is  8\n",
            "Number is  9\n"
          ]
        }
      ]
    },
    {
      "cell_type": "code",
      "metadata": {
        "colab": {
          "base_uri": "https://localhost:8080/"
        },
        "id": "pi4l42DC42q-",
        "outputId": "5cf0f2cb-4a55-47d5-b3f6-812737bcabd2"
      },
      "source": [
        "i = 0\n",
        "while i < 10:\n",
        "  print('Number is ',i)\n",
        "  i = i + 1\n",
        "else:\n",
        "  print('Loop has ended')"
      ],
      "execution_count": null,
      "outputs": [
        {
          "output_type": "stream",
          "name": "stdout",
          "text": [
            "Number is  0\n",
            "Number is  1\n",
            "Number is  2\n",
            "Number is  3\n",
            "Number is  4\n",
            "Number is  5\n",
            "Number is  6\n",
            "Number is  7\n",
            "Number is  8\n",
            "Number is  9\n",
            "Loop has ended\n"
          ]
        }
      ]
    },
    {
      "cell_type": "code",
      "metadata": {
        "colab": {
          "base_uri": "https://localhost:8080/"
        },
        "id": "YpJbfSiC5Vo-",
        "outputId": "615ad2e5-2fa4-4093-ba24-7bd264b7306b"
      },
      "source": [
        "i = 0\n",
        "while i < 10:\n",
        "  i = i + 1\n",
        "  if i == 5:\n",
        "    continue\n",
        "  print('Number is ',i)"
      ],
      "execution_count": null,
      "outputs": [
        {
          "output_type": "stream",
          "name": "stdout",
          "text": [
            "Number is  1\n",
            "Number is  2\n",
            "Number is  3\n",
            "Number is  4\n",
            "Number is  6\n",
            "Number is  7\n",
            "Number is  8\n",
            "Number is  9\n",
            "Number is  10\n"
          ]
        }
      ]
    },
    {
      "cell_type": "code",
      "metadata": {
        "colab": {
          "base_uri": "https://localhost:8080/"
        },
        "id": "vgGlUK4JcgFZ",
        "outputId": "f0878880-780d-41a7-cf27-47ea5ecce6f1"
      },
      "source": [
        "i = 0                      #Give the spaces for if,else and print correctly then you wil get the perfect answer\n",
        "while i < 10:\n",
        "  i = i + 1\n",
        "  if i == 5:\n",
        "     break\n",
        "  print('Number is',i)"
      ],
      "execution_count": null,
      "outputs": [
        {
          "output_type": "stream",
          "name": "stdout",
          "text": [
            "Number is 1\n",
            "Number is 2\n",
            "Number is 3\n",
            "Number is 4\n"
          ]
        }
      ]
    },
    {
      "cell_type": "code",
      "metadata": {
        "id": "yf2gYXlp7CcE"
      },
      "source": [
        "i = 0\n",
        "while i < 10:\n",
        "  pass\n",
        "  i = i + 1"
      ],
      "execution_count": null,
      "outputs": []
    },
    {
      "cell_type": "markdown",
      "metadata": {
        "id": "Uw0mzucaDKU8"
      },
      "source": [
        "## Nested loop"
      ]
    },
    {
      "cell_type": "code",
      "metadata": {
        "id": "mpp-YmHS7O84"
      },
      "source": [
        "x = (1,'apple')"
      ],
      "execution_count": null,
      "outputs": []
    },
    {
      "cell_type": "code",
      "metadata": {
        "id": "0YUt_oJV7j93"
      },
      "source": [
        "i,j = x"
      ],
      "execution_count": null,
      "outputs": []
    },
    {
      "cell_type": "code",
      "metadata": {
        "colab": {
          "base_uri": "https://localhost:8080/"
        },
        "id": "gAn56cBQ7qYl",
        "outputId": "a90bb6e0-df31-46c5-90cf-ab707a17ec9c"
      },
      "source": [
        "print(i,j)"
      ],
      "execution_count": null,
      "outputs": [
        {
          "output_type": "stream",
          "name": "stdout",
          "text": [
            "1 apple\n"
          ]
        }
      ]
    },
    {
      "cell_type": "code",
      "metadata": {
        "colab": {
          "base_uri": "https://localhost:8080/"
        },
        "id": "NbOFJNDI7U7k",
        "outputId": "17f4e951-497b-49c5-af96-04f2c5ee3479"
      },
      "source": [
        "y,z = 1,2\n",
        "print(y,z)"
      ],
      "execution_count": null,
      "outputs": [
        {
          "output_type": "stream",
          "name": "stdout",
          "text": [
            "1 2\n"
          ]
        }
      ]
    },
    {
      "cell_type": "code",
      "metadata": {
        "colab": {
          "base_uri": "https://localhost:8080/"
        },
        "id": "EIOlbEcm4UkI",
        "outputId": "8ee59b8d-8c8f-4eb0-b58f-6969538a1e8f"
      },
      "source": [
        "alist = [\"Siva\",'Kiran','Sri','Ram']\n",
        "for i,j in enumerate(alist):\n",
        "  print('index is {0} and value of index is {1}'.format(i,j))"
      ],
      "execution_count": null,
      "outputs": [
        {
          "output_type": "stream",
          "name": "stdout",
          "text": [
            "index is 0 and value of index is Siva\n",
            "index is 1 and value of index is Kiran\n",
            "index is 2 and value of index is Sri\n",
            "index is 3 and value of index is Ram\n"
          ]
        }
      ]
    },
    {
      "cell_type": "code",
      "metadata": {
        "id": "PQiG9Ol36wSg",
        "colab": {
          "base_uri": "https://localhost:8080/"
        },
        "outputId": "0eab4c4f-fd51-470e-a1ea-e4e0f9050a28"
      },
      "source": [
        "enumerate(alist)"
      ],
      "execution_count": null,
      "outputs": [
        {
          "output_type": "execute_result",
          "data": {
            "text/plain": [
              "<enumerate at 0x7fce99ec7500>"
            ]
          },
          "metadata": {},
          "execution_count": 107
        }
      ]
    },
    {
      "cell_type": "code",
      "metadata": {
        "id": "xFzsbue39WoL",
        "colab": {
          "base_uri": "https://localhost:8080/"
        },
        "outputId": "b2772492-76d8-46ba-f66e-8faa59b0574b"
      },
      "source": [
        "for i in range(1,10):\n",
        "  print(i)\n",
        "  for j in range(10,15):\n",
        "    print(j)"
      ],
      "execution_count": null,
      "outputs": [
        {
          "output_type": "stream",
          "name": "stdout",
          "text": [
            "1\n",
            "10\n",
            "11\n",
            "12\n",
            "13\n",
            "14\n",
            "2\n",
            "10\n",
            "11\n",
            "12\n",
            "13\n",
            "14\n",
            "3\n",
            "10\n",
            "11\n",
            "12\n",
            "13\n",
            "14\n",
            "4\n",
            "10\n",
            "11\n",
            "12\n",
            "13\n",
            "14\n",
            "5\n",
            "10\n",
            "11\n",
            "12\n",
            "13\n",
            "14\n",
            "6\n",
            "10\n",
            "11\n",
            "12\n",
            "13\n",
            "14\n",
            "7\n",
            "10\n",
            "11\n",
            "12\n",
            "13\n",
            "14\n",
            "8\n",
            "10\n",
            "11\n",
            "12\n",
            "13\n",
            "14\n",
            "9\n",
            "10\n",
            "11\n",
            "12\n",
            "13\n",
            "14\n"
          ]
        }
      ]
    },
    {
      "cell_type": "code",
      "metadata": {
        "id": "pNwb9ggb94nS",
        "colab": {
          "base_uri": "https://localhost:8080/"
        },
        "outputId": "7f589d70-a9fd-46f9-d248-a824b137bd8f"
      },
      "source": [
        "j = 1\n",
        "for i in range(1,10):\n",
        "  print(i)\n",
        "  while j == i:\n",
        "    print(f'its while loop {j}')\n",
        "    j += 1"
      ],
      "execution_count": null,
      "outputs": [
        {
          "output_type": "stream",
          "name": "stdout",
          "text": [
            "1\n",
            "its while loop 1\n",
            "2\n",
            "its while loop 2\n",
            "3\n",
            "its while loop 3\n",
            "4\n",
            "its while loop 4\n",
            "5\n",
            "its while loop 5\n",
            "6\n",
            "its while loop 6\n",
            "7\n",
            "its while loop 7\n",
            "8\n",
            "its while loop 8\n",
            "9\n",
            "its while loop 9\n"
          ]
        }
      ]
    },
    {
      "cell_type": "code",
      "metadata": {
        "id": "vl5XWNHPBVxA",
        "colab": {
          "base_uri": "https://localhost:8080/"
        },
        "outputId": "7fa7bbfe-535f-4d1b-b6b1-3d1c7629375b"
      },
      "source": [
        "for i in range(1,10):\n",
        "  print(i)\n",
        "  j = i\n",
        "  while j == i:\n",
        "    print(f'its while loop {j}')\n",
        "    j += 1"
      ],
      "execution_count": null,
      "outputs": [
        {
          "output_type": "stream",
          "name": "stdout",
          "text": [
            "1\n",
            "its while loop 1\n",
            "2\n",
            "its while loop 2\n",
            "3\n",
            "its while loop 3\n",
            "4\n",
            "its while loop 4\n",
            "5\n",
            "its while loop 5\n",
            "6\n",
            "its while loop 6\n",
            "7\n",
            "its while loop 7\n",
            "8\n",
            "its while loop 8\n",
            "9\n",
            "its while loop 9\n"
          ]
        }
      ]
    },
    {
      "cell_type": "code",
      "metadata": {
        "id": "rrfnLxbJB59C",
        "colab": {
          "base_uri": "https://localhost:8080/"
        },
        "outputId": "07e9ac65-d311-4400-c522-2f770d35217f"
      },
      "source": [
        "for i in range(1,10):\n",
        "  print('\\n')\n",
        "  for j in range(0,i):\n",
        "    print(j,end='')"
      ],
      "execution_count": null,
      "outputs": [
        {
          "output_type": "stream",
          "name": "stdout",
          "text": [
            "\n",
            "\n",
            "0\n",
            "\n",
            "01\n",
            "\n",
            "012\n",
            "\n",
            "0123\n",
            "\n",
            "01234\n",
            "\n",
            "012345\n",
            "\n",
            "0123456\n",
            "\n",
            "01234567\n",
            "\n",
            "012345678"
          ]
        }
      ]
    },
    {
      "cell_type": "markdown",
      "metadata": {
        "id": "f4lAVIQjDSEc"
      },
      "source": [
        "## Function"
      ]
    },
    {
      "cell_type": "code",
      "metadata": {
        "id": "YbzH2XvDDUtt"
      },
      "source": [
        "while False:\n",
        "  print(1)"
      ],
      "execution_count": null,
      "outputs": []
    },
    {
      "cell_type": "markdown",
      "metadata": {
        "id": "CmSyuZ-kDHts"
      },
      "source": [
        "## Functions"
      ]
    },
    {
      "cell_type": "code",
      "metadata": {
        "colab": {
          "base_uri": "https://localhost:8080/"
        },
        "id": "ky8iBZ5QC_Jc",
        "outputId": "81d6acc1-6a22-43e8-cc04-7f7f2267b4cc"
      },
      "source": [
        "a = [1,2,5,8]\n",
        "sum(a)\n",
        "max(a)\n",
        "min(a)"
      ],
      "execution_count": null,
      "outputs": [
        {
          "output_type": "execute_result",
          "data": {
            "text/plain": [
              "1"
            ]
          },
          "metadata": {},
          "execution_count": 112
        }
      ]
    },
    {
      "cell_type": "code",
      "metadata": {
        "id": "xlwJyD0qDlvX",
        "colab": {
          "base_uri": "https://localhost:8080/",
          "height": 178
        },
        "outputId": "581adbc3-8bea-487c-e9ff-2b7d6d016da2"
      },
      "source": [
        "string = ['a','b','c','d','e']\n",
        "sum(string)"
      ],
      "execution_count": null,
      "outputs": [
        {
          "output_type": "error",
          "ename": "TypeError",
          "evalue": "ignored",
          "traceback": [
            "\u001b[0;31m---------------------------------------------------------------------------\u001b[0m",
            "\u001b[0;31mTypeError\u001b[0m                                 Traceback (most recent call last)",
            "\u001b[0;32m<ipython-input-113-fc149a661b95>\u001b[0m in \u001b[0;36m<module>\u001b[0;34m()\u001b[0m\n\u001b[1;32m      1\u001b[0m \u001b[0mstring\u001b[0m \u001b[0;34m=\u001b[0m \u001b[0;34m[\u001b[0m\u001b[0;34m'a'\u001b[0m\u001b[0;34m,\u001b[0m\u001b[0;34m'b'\u001b[0m\u001b[0;34m,\u001b[0m\u001b[0;34m'c'\u001b[0m\u001b[0;34m,\u001b[0m\u001b[0;34m'd'\u001b[0m\u001b[0;34m,\u001b[0m\u001b[0;34m'e'\u001b[0m\u001b[0;34m]\u001b[0m\u001b[0;34m\u001b[0m\u001b[0;34m\u001b[0m\u001b[0m\n\u001b[0;32m----> 2\u001b[0;31m \u001b[0msum\u001b[0m\u001b[0;34m(\u001b[0m\u001b[0mstring\u001b[0m\u001b[0;34m)\u001b[0m\u001b[0;34m\u001b[0m\u001b[0;34m\u001b[0m\u001b[0m\n\u001b[0m",
            "\u001b[0;31mTypeError\u001b[0m: unsupported operand type(s) for +: 'int' and 'str'"
          ]
        }
      ]
    },
    {
      "cell_type": "code",
      "metadata": {
        "colab": {
          "base_uri": "https://localhost:8080/",
          "height": 35
        },
        "id": "rQY81nO-D8CJ",
        "outputId": "8b1c66a7-b1d0-420c-987a-26b5a019b398"
      },
      "source": [
        "'a'+'b'"
      ],
      "execution_count": null,
      "outputs": [
        {
          "output_type": "execute_result",
          "data": {
            "application/vnd.google.colaboratory.intrinsic+json": {
              "type": "string"
            },
            "text/plain": [
              "'ab'"
            ]
          },
          "metadata": {},
          "execution_count": 114
        }
      ]
    },
    {
      "cell_type": "code",
      "metadata": {
        "id": "EfDJA5DFEdyr"
      },
      "source": [
        "define a function for concatanation of string"
      ],
      "execution_count": null,
      "outputs": []
    },
    {
      "cell_type": "code",
      "metadata": {
        "colab": {
          "base_uri": "https://localhost:8080/"
        },
        "id": "SP6zyPvbFcP5",
        "outputId": "f31581cb-151f-482e-f3c5-2844046b3381"
      },
      "source": [
        "print(\"Hello SivaKrishna\")"
      ],
      "execution_count": null,
      "outputs": [
        {
          "output_type": "stream",
          "name": "stdout",
          "text": [
            "Hello 360DigiTMG\n"
          ]
        }
      ]
    },
    {
      "cell_type": "code",
      "metadata": {
        "id": "aS4Vrf9-FubM"
      },
      "source": [
        "def hifun():\n",
        "  print(\"Hello SivaKrishna\")"
      ],
      "execution_count": null,
      "outputs": []
    },
    {
      "cell_type": "code",
      "metadata": {
        "colab": {
          "base_uri": "https://localhost:8080/"
        },
        "id": "9Dp6hKTEGA5_",
        "outputId": "140487ad-ebd1-41eb-a0e1-de1ad1307e1b"
      },
      "source": [
        "hifun()"
      ],
      "execution_count": null,
      "outputs": [
        {
          "output_type": "stream",
          "name": "stdout",
          "text": [
            "Hello SivaKrishna\n"
          ]
        }
      ]
    },
    {
      "cell_type": "code",
      "metadata": {
        "id": "MTAePVt5GN39"
      },
      "source": [
        "def hifun1(name ,age, sal):\n",
        "  print(f'my name is {name} and age is {age} year, My current salary is {sal}.')\n"
      ],
      "execution_count": null,
      "outputs": []
    },
    {
      "cell_type": "code",
      "metadata": {
        "colab": {
          "base_uri": "https://localhost:8080/"
        },
        "id": "4MoSqLmtG2CU",
        "outputId": "39979f0a-2f8f-4ba0-d584-5010ba265fbe"
      },
      "source": [
        "hifun1(name = 'Siva',age= 25,sal=55000)\n",
        "hifun1(name = 'Raj',age= 45,sal=80000)\n",
        "hifun1('Amar',25,45000)\n",
        "hifun1(25,'Santosh',50000)\n",
        "hifun1(age=25,name='Santosh',sal=50000)"
      ],
      "execution_count": null,
      "outputs": [
        {
          "output_type": "stream",
          "name": "stdout",
          "text": [
            "my name is Siva and age is 25 year, My current salary is 55000.\n",
            "my name is Raj and age is 45 year, My current salary is 80000.\n",
            "my name is Amar and age is 25 year, My current salary is 45000.\n",
            "my name is 25 and age is Santosh year, My current salary is 50000.\n",
            "my name is Santosh and age is 25 year, My current salary is 50000.\n"
          ]
        }
      ]
    },
    {
      "cell_type": "code",
      "metadata": {
        "id": "a4QHMoLXIJGf"
      },
      "source": [
        "def square(first):    #for findig the square root\n",
        "  a = first ** 2\n",
        "  print(a)\n",
        "  return a"
      ],
      "execution_count": null,
      "outputs": []
    },
    {
      "cell_type": "code",
      "metadata": {
        "colab": {
          "base_uri": "https://localhost:8080/"
        },
        "id": "_NqQqgdgIevd",
        "outputId": "b3bd9778-081d-4b0c-f0a3-176d9b52a782"
      },
      "source": [
        "x = square(5)\n"
      ],
      "execution_count": null,
      "outputs": [
        {
          "output_type": "stream",
          "name": "stdout",
          "text": [
            "25\n"
          ]
        }
      ]
    },
    {
      "cell_type": "code",
      "metadata": {
        "colab": {
          "base_uri": "https://localhost:8080/"
        },
        "id": "O1xxtWe_JJuW",
        "outputId": "17399721-8a7e-4405-a829-b2e840bb0dbf"
      },
      "source": [
        "print(x)"
      ],
      "execution_count": null,
      "outputs": [
        {
          "output_type": "stream",
          "name": "stdout",
          "text": [
            "25\n"
          ]
        }
      ]
    },
    {
      "cell_type": "markdown",
      "metadata": {
        "id": "Ug57Oy4zI51S"
      },
      "source": [
        "### Docstring"
      ]
    },
    {
      "cell_type": "code",
      "metadata": {
        "id": "L8JNEq4AI5d3"
      },
      "source": [
        "def cube(first):\n",
        "  ''' It will going to take the number and return the cube '''\n",
        "  a = first ** 3\n",
        "  # print(a)\n",
        "  return a"
      ],
      "execution_count": null,
      "outputs": []
    },
    {
      "cell_type": "code",
      "metadata": {
        "colab": {
          "base_uri": "https://localhost:8080/"
        },
        "id": "AKnzXbUkLPDd",
        "outputId": "f07261a2-e93b-48f1-ad52-6f352f63c95c"
      },
      "source": [
        "cube(5)"
      ],
      "execution_count": null,
      "outputs": [
        {
          "output_type": "execute_result",
          "data": {
            "text/plain": [
              "125"
            ]
          },
          "metadata": {},
          "execution_count": 127
        }
      ]
    },
    {
      "cell_type": "code",
      "metadata": {
        "id": "u6xU88N5LX9J",
        "colab": {
          "base_uri": "https://localhost:8080/"
        },
        "outputId": "5686350a-0d4c-4d42-b338-7493ee88677c"
      },
      "source": [
        "help(list)"
      ],
      "execution_count": null,
      "outputs": [
        {
          "output_type": "stream",
          "name": "stdout",
          "text": [
            "Help on class list in module builtins:\n",
            "\n",
            "class list(object)\n",
            " |  list(iterable=(), /)\n",
            " |  \n",
            " |  Built-in mutable sequence.\n",
            " |  \n",
            " |  If no argument is given, the constructor creates a new empty list.\n",
            " |  The argument must be an iterable if specified.\n",
            " |  \n",
            " |  Methods defined here:\n",
            " |  \n",
            " |  __add__(self, value, /)\n",
            " |      Return self+value.\n",
            " |  \n",
            " |  __contains__(self, key, /)\n",
            " |      Return key in self.\n",
            " |  \n",
            " |  __delitem__(self, key, /)\n",
            " |      Delete self[key].\n",
            " |  \n",
            " |  __eq__(self, value, /)\n",
            " |      Return self==value.\n",
            " |  \n",
            " |  __ge__(self, value, /)\n",
            " |      Return self>=value.\n",
            " |  \n",
            " |  __getattribute__(self, name, /)\n",
            " |      Return getattr(self, name).\n",
            " |  \n",
            " |  __getitem__(...)\n",
            " |      x.__getitem__(y) <==> x[y]\n",
            " |  \n",
            " |  __gt__(self, value, /)\n",
            " |      Return self>value.\n",
            " |  \n",
            " |  __iadd__(self, value, /)\n",
            " |      Implement self+=value.\n",
            " |  \n",
            " |  __imul__(self, value, /)\n",
            " |      Implement self*=value.\n",
            " |  \n",
            " |  __init__(self, /, *args, **kwargs)\n",
            " |      Initialize self.  See help(type(self)) for accurate signature.\n",
            " |  \n",
            " |  __iter__(self, /)\n",
            " |      Implement iter(self).\n",
            " |  \n",
            " |  __le__(self, value, /)\n",
            " |      Return self<=value.\n",
            " |  \n",
            " |  __len__(self, /)\n",
            " |      Return len(self).\n",
            " |  \n",
            " |  __lt__(self, value, /)\n",
            " |      Return self<value.\n",
            " |  \n",
            " |  __mul__(self, value, /)\n",
            " |      Return self*value.\n",
            " |  \n",
            " |  __ne__(self, value, /)\n",
            " |      Return self!=value.\n",
            " |  \n",
            " |  __repr__(self, /)\n",
            " |      Return repr(self).\n",
            " |  \n",
            " |  __reversed__(self, /)\n",
            " |      Return a reverse iterator over the list.\n",
            " |  \n",
            " |  __rmul__(self, value, /)\n",
            " |      Return value*self.\n",
            " |  \n",
            " |  __setitem__(self, key, value, /)\n",
            " |      Set self[key] to value.\n",
            " |  \n",
            " |  __sizeof__(self, /)\n",
            " |      Return the size of the list in memory, in bytes.\n",
            " |  \n",
            " |  append(self, object, /)\n",
            " |      Append object to the end of the list.\n",
            " |  \n",
            " |  clear(self, /)\n",
            " |      Remove all items from list.\n",
            " |  \n",
            " |  copy(self, /)\n",
            " |      Return a shallow copy of the list.\n",
            " |  \n",
            " |  count(self, value, /)\n",
            " |      Return number of occurrences of value.\n",
            " |  \n",
            " |  extend(self, iterable, /)\n",
            " |      Extend list by appending elements from the iterable.\n",
            " |  \n",
            " |  index(self, value, start=0, stop=9223372036854775807, /)\n",
            " |      Return first index of value.\n",
            " |      \n",
            " |      Raises ValueError if the value is not present.\n",
            " |  \n",
            " |  insert(self, index, object, /)\n",
            " |      Insert object before index.\n",
            " |  \n",
            " |  pop(self, index=-1, /)\n",
            " |      Remove and return item at index (default last).\n",
            " |      \n",
            " |      Raises IndexError if list is empty or index is out of range.\n",
            " |  \n",
            " |  remove(self, value, /)\n",
            " |      Remove first occurrence of value.\n",
            " |      \n",
            " |      Raises ValueError if the value is not present.\n",
            " |  \n",
            " |  reverse(self, /)\n",
            " |      Reverse *IN PLACE*.\n",
            " |  \n",
            " |  sort(self, /, *, key=None, reverse=False)\n",
            " |      Stable sort *IN PLACE*.\n",
            " |  \n",
            " |  ----------------------------------------------------------------------\n",
            " |  Static methods defined here:\n",
            " |  \n",
            " |  __new__(*args, **kwargs) from builtins.type\n",
            " |      Create and return a new object.  See help(type) for accurate signature.\n",
            " |  \n",
            " |  ----------------------------------------------------------------------\n",
            " |  Data and other attributes defined here:\n",
            " |  \n",
            " |  __hash__ = None\n",
            "\n"
          ]
        }
      ]
    },
    {
      "cell_type": "code",
      "metadata": {
        "id": "nCgXzrLxLiRO",
        "colab": {
          "base_uri": "https://localhost:8080/"
        },
        "outputId": "24ab791c-f548-4104-8580-f7789d257754"
      },
      "source": [
        "help(cube)"
      ],
      "execution_count": null,
      "outputs": [
        {
          "output_type": "stream",
          "name": "stdout",
          "text": [
            "Help on function cube in module __main__:\n",
            "\n",
            "cube(first)\n",
            "    It will going to take the number and return the cube\n",
            "\n"
          ]
        }
      ]
    },
    {
      "cell_type": "code",
      "metadata": {
        "colab": {
          "base_uri": "https://localhost:8080/",
          "height": 35
        },
        "id": "63zvp6I3MHfi",
        "outputId": "97c9e878-d4f3-4315-b7d4-ff0c14097b39"
      },
      "source": [
        "cube.__doc__"
      ],
      "execution_count": null,
      "outputs": [
        {
          "output_type": "execute_result",
          "data": {
            "application/vnd.google.colaboratory.intrinsic+json": {
              "type": "string"
            },
            "text/plain": [
              "' It will going to take the number and return the cube '"
            ]
          },
          "metadata": {},
          "execution_count": 130
        }
      ]
    },
    {
      "cell_type": "code",
      "metadata": {
        "id": "c8oKNQp4LwNE"
      },
      "source": [
        "def output(first,second, third):\n",
        "  x = (first*second +third)+second\n",
        "  return x"
      ],
      "execution_count": null,
      "outputs": []
    },
    {
      "cell_type": "code",
      "metadata": {
        "colab": {
          "base_uri": "https://localhost:8080/"
        },
        "id": "7gIYOC_yNDUg",
        "outputId": "2d39210b-a887-4ac0-829b-d4a9c49b14f0"
      },
      "source": [
        "output(5,6,3)"
      ],
      "execution_count": null,
      "outputs": [
        {
          "output_type": "execute_result",
          "data": {
            "text/plain": [
              "39"
            ]
          },
          "metadata": {},
          "execution_count": 132
        }
      ]
    },
    {
      "cell_type": "code",
      "metadata": {
        "id": "pBP1cUtceJjy"
      },
      "source": [
        "def fun(*arg):  #type of arg is a tuple\n",
        "  print(arg)\n",
        "  print(type(arg))"
      ],
      "execution_count": null,
      "outputs": []
    },
    {
      "cell_type": "code",
      "metadata": {
        "colab": {
          "base_uri": "https://localhost:8080/"
        },
        "id": "g4ZAYcxReas-",
        "outputId": "9c6c0786-d92f-4ce7-e418-0cefe9006c0e"
      },
      "source": [
        "fun(1,2,3,4)"
      ],
      "execution_count": null,
      "outputs": [
        {
          "output_type": "stream",
          "name": "stdout",
          "text": [
            "(1, 2, 3, 4)\n",
            "<class 'tuple'>\n"
          ]
        }
      ]
    },
    {
      "cell_type": "code",
      "metadata": {
        "id": "qbyvsBjWec_f"
      },
      "source": [
        ""
      ],
      "execution_count": null,
      "outputs": []
    },
    {
      "cell_type": "code",
      "metadata": {
        "id": "dJ31XuzoNwfW"
      },
      "source": [
        "def func(*arg,**kargs):\n",
        "  print(arg,kargs)\n",
        "  print(type(arg))                              #type of arg is a tuple\n",
        "  print(type(kargs))                            #type of Keyargs is a dict"
      ],
      "execution_count": null,
      "outputs": []
    },
    {
      "cell_type": "code",
      "metadata": {
        "id": "dSA0Sx8CN3m5",
        "colab": {
          "base_uri": "https://localhost:8080/"
        },
        "outputId": "458b8a06-4394-421b-f975-bfcc482ef230"
      },
      "source": [
        "func(1,2,3,4,n = 5,s = 6)"
      ],
      "execution_count": null,
      "outputs": [
        {
          "output_type": "stream",
          "name": "stdout",
          "text": [
            "(1, 2, 3, 4) {'n': 5, 's': 6}\n",
            "<class 'tuple'>\n",
            "<class 'dict'>\n"
          ]
        }
      ]
    },
    {
      "cell_type": "code",
      "metadata": {
        "id": "Etlw5H7vMt_W",
        "colab": {
          "base_uri": "https://localhost:8080/",
          "height": 52
        },
        "outputId": "a5a3eed9-34f3-4c9e-953c-60c463a53e73"
      },
      "source": [
        "sum.__doc__"
      ],
      "execution_count": null,
      "outputs": [
        {
          "output_type": "execute_result",
          "data": {
            "application/vnd.google.colaboratory.intrinsic+json": {
              "type": "string"
            },
            "text/plain": [
              "\"Return the sum of a 'start' value (default: 0) plus an iterable of numbers\\n\\nWhen the iterable is empty, return the start value.\\nThis function is intended specifically for use with numeric values and may\\nreject non-numeric types.\""
            ]
          },
          "metadata": {},
          "execution_count": 135
        }
      ]
    },
    {
      "cell_type": "markdown",
      "metadata": {
        "id": "Oz02vAICyhMH"
      },
      "source": [
        "## Continued function"
      ]
    },
    {
      "cell_type": "code",
      "metadata": {
        "id": "eMTXaFZzyTKc",
        "colab": {
          "base_uri": "https://localhost:8080/"
        },
        "outputId": "d3b713cf-d4eb-4c55-85a9-97b60ef96967"
      },
      "source": [
        "def func(*value):\n",
        "  for i in value:\n",
        "    if i%2 == 0:\n",
        "      print(i)\n",
        "\n",
        "func(1,2,3,4,5,6,15,8,9,7,8)"
      ],
      "execution_count": null,
      "outputs": [
        {
          "output_type": "stream",
          "name": "stdout",
          "text": [
            "2\n",
            "4\n",
            "6\n",
            "8\n",
            "8\n"
          ]
        }
      ]
    },
    {
      "cell_type": "code",
      "metadata": {
        "id": "1FVF-w0MzP_9",
        "colab": {
          "base_uri": "https://localhost:8080/"
        },
        "outputId": "0bcc6de7-84df-458a-8175-1c036397904b"
      },
      "source": [
        "def func1(**value):\n",
        "  for i,j in value.items():\n",
        "    print(f'key is {i} and value is {j} ')\n",
        "\n",
        "func1(name= \"rishabh\",age = 25,salary = 45000)"
      ],
      "execution_count": null,
      "outputs": [
        {
          "output_type": "stream",
          "name": "stdout",
          "text": [
            "key is name and value is rishabh \n",
            "key is age and value is 25 \n",
            "key is salary and value is 45000 \n"
          ]
        }
      ]
    },
    {
      "cell_type": "code",
      "metadata": {
        "id": "Ai5g63tS0YS2"
      },
      "source": [
        "def func2(*value,**dictvalue):\n",
        "  for i in value:\n",
        "    if i%2 == 0:\n",
        "      print(i)\n",
        "  for i,j in dictvalue.items():\n",
        "    print(f'key is {i} and value is {j} ')"
      ],
      "execution_count": null,
      "outputs": []
    },
    {
      "cell_type": "code",
      "metadata": {
        "id": "iYTs1QXd0mCn",
        "colab": {
          "base_uri": "https://localhost:8080/"
        },
        "outputId": "4b1db488-c7ed-4cbe-a541-ddf95087ca1b"
      },
      "source": [
        "func2(1,5,6,8,9,10,name= \"Siva\",age = 25,salary = 45000)"
      ],
      "execution_count": null,
      "outputs": [
        {
          "output_type": "stream",
          "name": "stdout",
          "text": [
            "6\n",
            "8\n",
            "10\n",
            "key is name and value is rishabh \n",
            "key is age and value is 25 \n",
            "key is salary and value is 45000 \n"
          ]
        }
      ]
    },
    {
      "cell_type": "markdown",
      "metadata": {
        "id": "nSe9QYlMxgxL"
      },
      "source": [
        "## recursion"
      ]
    },
    {
      "cell_type": "code",
      "metadata": {
        "id": "Wc_CNfFQxeQb",
        "colab": {
          "base_uri": "https://localhost:8080/"
        },
        "outputId": "9594a337-e1e1-46c9-a5e0-3a18488dbf14"
      },
      "source": [
        "def fact(N):\n",
        "  if N < 0:\n",
        "    print(\"Input the positive number\")\n",
        "  elif N == 0:\n",
        "    print(f'Factorial of {N}! is {1}')\n",
        "  else:\n",
        "    fact = 1\n",
        "    for i in range(1,N+1):\n",
        "      fact *= i\n",
        "    print(f'Factorial of {N}! is {fact}')\n",
        "fact(5)"
      ],
      "execution_count": null,
      "outputs": [
        {
          "output_type": "stream",
          "name": "stdout",
          "text": [
            "Factorial of 5! is 120\n"
          ]
        }
      ]
    },
    {
      "cell_type": "code",
      "metadata": {
        "id": "Eal-Cuf5y1IF",
        "colab": {
          "base_uri": "https://localhost:8080/"
        },
        "outputId": "dcc3288d-e66d-4833-ed08-94241267da96"
      },
      "source": [
        "def fact(N):\n",
        "  if N < 0:\n",
        "    print(\"Input the positive number\")\n",
        "  elif N == 0:\n",
        "    print(f'Factorial of {N}! is {1}')\n",
        "  elif N == 1:\n",
        "    return 1\n",
        "  else:\n",
        "    return (N * fact( N-1 ))\n",
        "fact(5)"
      ],
      "execution_count": null,
      "outputs": [
        {
          "output_type": "execute_result",
          "data": {
            "text/plain": [
              "120"
            ]
          },
          "metadata": {},
          "execution_count": 146
        }
      ]
    },
    {
      "cell_type": "markdown",
      "metadata": {
        "id": "BpVp9nF30KLG"
      },
      "source": [
        "## global local"
      ]
    },
    {
      "cell_type": "code",
      "metadata": {
        "colab": {
          "base_uri": "https://localhost:8080/"
        },
        "id": "_Auk_g9E0k7g",
        "outputId": "23257b55-fff7-4371-a0c8-0f8b439515cd"
      },
      "source": [
        "x = 5\n",
        "def new():\n",
        "  print('number is',x)\n",
        "\n",
        "new()\n",
        "print(x)"
      ],
      "execution_count": null,
      "outputs": [
        {
          "output_type": "stream",
          "name": "stdout",
          "text": [
            "number is 5\n",
            "5\n"
          ]
        }
      ]
    },
    {
      "cell_type": "code",
      "metadata": {
        "colab": {
          "base_uri": "https://localhost:8080/"
        },
        "id": "lEAwkINw07VI",
        "outputId": "c54069f1-5f66-4775-a53b-505d714191d2"
      },
      "source": [
        "x = 5\n",
        "def new():\n",
        "  x = 10  #local\n",
        "  print('number is',x)\n",
        "\n",
        "new()\n",
        "print(x)"
      ],
      "execution_count": null,
      "outputs": [
        {
          "output_type": "stream",
          "name": "stdout",
          "text": [
            "number is 10\n",
            "5\n"
          ]
        }
      ]
    },
    {
      "cell_type": "code",
      "metadata": {
        "id": "HkZf14y91Mxr",
        "colab": {
          "base_uri": "https://localhost:8080/"
        },
        "outputId": "8b5b2a1d-e84d-4323-e0fb-bdc8e0af13db"
      },
      "source": [
        "x = 5\n",
        "def new():\n",
        "  global x\n",
        "  x = 10   #global\n",
        "  print('number is',x)\n",
        "\n",
        "new()\n",
        "print(x)"
      ],
      "execution_count": null,
      "outputs": [
        {
          "output_type": "stream",
          "name": "stdout",
          "text": [
            "number is 10\n",
            "10\n"
          ]
        }
      ]
    },
    {
      "cell_type": "markdown",
      "metadata": {
        "id": "GRE4dnRi2Vop"
      },
      "source": [
        "## Anonymous"
      ]
    },
    {
      "cell_type": "code",
      "metadata": {
        "colab": {
          "base_uri": "https://localhost:8080/"
        },
        "id": "bigcphT32VBS",
        "outputId": "64dc43c7-2b99-4b35-b918-19a0e7f36723"
      },
      "source": [
        "var = lambda x : x + 2\n",
        "\n",
        "var(15)"
      ],
      "execution_count": null,
      "outputs": [
        {
          "output_type": "execute_result",
          "data": {
            "text/plain": [
              "17"
            ]
          },
          "metadata": {},
          "execution_count": 150
        }
      ]
    },
    {
      "cell_type": "code",
      "metadata": {
        "colab": {
          "base_uri": "https://localhost:8080/"
        },
        "id": "NBI6fmXF2yrT",
        "outputId": "5ac4536f-edbf-4c12-a64a-1e278a1621f9"
      },
      "source": [
        "var = lambda x : fact(x) + 2\n",
        "\n",
        "var(5)"
      ],
      "execution_count": null,
      "outputs": [
        {
          "output_type": "execute_result",
          "data": {
            "text/plain": [
              "122"
            ]
          },
          "metadata": {},
          "execution_count": 151
        }
      ]
    },
    {
      "cell_type": "markdown",
      "metadata": {
        "id": "5RNab2Nk3Gbn"
      },
      "source": [
        "## Map"
      ]
    },
    {
      "cell_type": "code",
      "metadata": {
        "colab": {
          "base_uri": "https://localhost:8080/"
        },
        "id": "a4_Ee-MU3F1F",
        "outputId": "601fc334-7990-4a1f-925f-c2fc64ff0e87"
      },
      "source": [
        "a = [1,2,3,4,5]\n",
        "\n",
        "list(map(fact,a))"
      ],
      "execution_count": null,
      "outputs": [
        {
          "output_type": "execute_result",
          "data": {
            "text/plain": [
              "[1, 2, 6, 24, 120]"
            ]
          },
          "metadata": {},
          "execution_count": 152
        }
      ]
    },
    {
      "cell_type": "code",
      "metadata": {
        "colab": {
          "base_uri": "https://localhost:8080/"
        },
        "id": "xFRKaXpJ3xMt",
        "outputId": "97a680fa-7662-4b13-8a5a-f6186a7b1c3b"
      },
      "source": [
        "list(map(lambda x : x**4, a))\n"
      ],
      "execution_count": null,
      "outputs": [
        {
          "output_type": "execute_result",
          "data": {
            "text/plain": [
              "[1, 16, 81, 256, 625]"
            ]
          },
          "metadata": {},
          "execution_count": 153
        }
      ]
    },
    {
      "cell_type": "code",
      "metadata": {
        "colab": {
          "base_uri": "https://localhost:8080/"
        },
        "id": "FpGKsb3f44jw",
        "outputId": "1541c410-0c22-4ecc-eb01-571317d00c77"
      },
      "source": [
        "a = [1,2,3,4,5]\n",
        "b = []\n",
        "for i in a:\n",
        "  b.append(str(i))\n",
        "print(b)"
      ],
      "execution_count": null,
      "outputs": [
        {
          "output_type": "stream",
          "name": "stdout",
          "text": [
            "['1', '2', '3', '4', '5']\n"
          ]
        }
      ]
    },
    {
      "cell_type": "code",
      "metadata": {
        "colab": {
          "base_uri": "https://localhost:8080/"
        },
        "id": "z8z8Ei6G5J_b",
        "outputId": "7cb4596d-adba-4a4a-b0c7-0e57ec3b11e7"
      },
      "source": [
        "b = list(map(str,a))\n",
        "\n",
        "print(b)"
      ],
      "execution_count": null,
      "outputs": [
        {
          "output_type": "stream",
          "name": "stdout",
          "text": [
            "['1', '2', '3', '4', '5']\n"
          ]
        }
      ]
    },
    {
      "cell_type": "code",
      "metadata": {
        "id": "Xhv6DGzU4Qtt",
        "colab": {
          "base_uri": "https://localhost:8080/"
        },
        "outputId": "cc52a1da-369d-47f8-f92e-42d6a2dc195b"
      },
      "source": [
        "help(map)"
      ],
      "execution_count": null,
      "outputs": [
        {
          "output_type": "stream",
          "name": "stdout",
          "text": [
            "Help on class map in module builtins:\n",
            "\n",
            "class map(object)\n",
            " |  map(func, *iterables) --> map object\n",
            " |  \n",
            " |  Make an iterator that computes the function using arguments from\n",
            " |  each of the iterables.  Stops when the shortest iterable is exhausted.\n",
            " |  \n",
            " |  Methods defined here:\n",
            " |  \n",
            " |  __getattribute__(self, name, /)\n",
            " |      Return getattr(self, name).\n",
            " |  \n",
            " |  __iter__(self, /)\n",
            " |      Implement iter(self).\n",
            " |  \n",
            " |  __next__(self, /)\n",
            " |      Implement next(self).\n",
            " |  \n",
            " |  __reduce__(...)\n",
            " |      Return state information for pickling.\n",
            " |  \n",
            " |  ----------------------------------------------------------------------\n",
            " |  Static methods defined here:\n",
            " |  \n",
            " |  __new__(*args, **kwargs) from builtins.type\n",
            " |      Create and return a new object.  See help(type) for accurate signature.\n",
            "\n"
          ]
        }
      ]
    },
    {
      "cell_type": "markdown",
      "metadata": {
        "id": "zipN85uI4Ihl"
      },
      "source": [
        "## filter"
      ]
    },
    {
      "cell_type": "code",
      "metadata": {
        "colab": {
          "base_uri": "https://localhost:8080/"
        },
        "id": "qjL-ukAT4LX2",
        "outputId": "be285ec0-5152-421a-e67f-40033b9751f1"
      },
      "source": [
        "list(filter(lambda x : x % 2,a))"
      ],
      "execution_count": null,
      "outputs": [
        {
          "output_type": "execute_result",
          "data": {
            "text/plain": [
              "[1, 3, 5]"
            ]
          },
          "metadata": {},
          "execution_count": 157
        }
      ]
    },
    {
      "cell_type": "code",
      "metadata": {
        "id": "VnwBqwmH6ht0",
        "colab": {
          "base_uri": "https://localhost:8080/"
        },
        "outputId": "a03e8375-fa25-458a-8afe-6057ac3c0a7b"
      },
      "source": [
        "help(filter)"
      ],
      "execution_count": null,
      "outputs": [
        {
          "output_type": "stream",
          "name": "stdout",
          "text": [
            "Help on class filter in module builtins:\n",
            "\n",
            "class filter(object)\n",
            " |  filter(function or None, iterable) --> filter object\n",
            " |  \n",
            " |  Return an iterator yielding those items of iterable for which function(item)\n",
            " |  is true. If function is None, return the items that are true.\n",
            " |  \n",
            " |  Methods defined here:\n",
            " |  \n",
            " |  __getattribute__(self, name, /)\n",
            " |      Return getattr(self, name).\n",
            " |  \n",
            " |  __iter__(self, /)\n",
            " |      Implement iter(self).\n",
            " |  \n",
            " |  __next__(self, /)\n",
            " |      Implement next(self).\n",
            " |  \n",
            " |  __reduce__(...)\n",
            " |      Return state information for pickling.\n",
            " |  \n",
            " |  ----------------------------------------------------------------------\n",
            " |  Static methods defined here:\n",
            " |  \n",
            " |  __new__(*args, **kwargs) from builtins.type\n",
            " |      Create and return a new object.  See help(type) for accurate signature.\n",
            "\n"
          ]
        }
      ]
    },
    {
      "cell_type": "markdown",
      "metadata": {
        "id": "LCRG0zZt7Dq6"
      },
      "source": [
        "## Reduce"
      ]
    },
    {
      "cell_type": "code",
      "metadata": {
        "colab": {
          "base_uri": "https://localhost:8080/"
        },
        "id": "ANm6a-8T7HW8",
        "outputId": "35a047ab-f101-4de5-e685-d9612184d5e2"
      },
      "source": [
        "from functools import reduce\n",
        "a = [1,2,3,4,5]\n",
        "reduce(lambda x,y : x * y, [1, 2, 3, 4, 5])"
      ],
      "execution_count": null,
      "outputs": [
        {
          "output_type": "execute_result",
          "data": {
            "text/plain": [
              "120"
            ]
          },
          "metadata": {},
          "execution_count": 159
        }
      ]
    },
    {
      "cell_type": "code",
      "metadata": {
        "id": "Qnk8eGq08O30"
      },
      "source": [
        "help(reduce)"
      ],
      "execution_count": null,
      "outputs": []
    },
    {
      "cell_type": "markdown",
      "metadata": {
        "id": "b7XuH-189AYx"
      },
      "source": [
        "## Comprehension"
      ]
    },
    {
      "cell_type": "code",
      "metadata": {
        "colab": {
          "base_uri": "https://localhost:8080/"
        },
        "id": "hg-xKFOW9HJt",
        "outputId": "71ba7d70-0515-4552-de19-b26ac108d0d1"
      },
      "source": [
        "[i for i in range(15)] "
      ],
      "execution_count": null,
      "outputs": [
        {
          "output_type": "execute_result",
          "data": {
            "text/plain": [
              "[0, 1, 2, 3, 4, 5, 6, 7, 8, 9, 10, 11, 12, 13, 14]"
            ]
          },
          "metadata": {},
          "execution_count": 160
        }
      ]
    },
    {
      "cell_type": "code",
      "metadata": {
        "colab": {
          "base_uri": "https://localhost:8080/"
        },
        "id": "qx9323kw9bNY",
        "outputId": "49d374df-a16f-430f-8a1f-0ad5eab785f4"
      },
      "source": [
        "[i for i in range(15) if i % 2 == 0]"
      ],
      "execution_count": null,
      "outputs": [
        {
          "output_type": "execute_result",
          "data": {
            "text/plain": [
              "[0, 2, 4, 6, 8, 10, 12, 14]"
            ]
          },
          "metadata": {},
          "execution_count": 161
        }
      ]
    },
    {
      "cell_type": "code",
      "metadata": {
        "colab": {
          "base_uri": "https://localhost:8080/"
        },
        "id": "8d52zDau9lZb",
        "outputId": "973e7409-6499-4c53-c7b2-47c28505c76e"
      },
      "source": [
        "[i for i in range(15) if i % 2 == 0]"
      ],
      "execution_count": null,
      "outputs": [
        {
          "output_type": "execute_result",
          "data": {
            "text/plain": [
              "[0, 2, 4, 6, 8, 10, 12, 14]"
            ]
          },
          "metadata": {},
          "execution_count": 162
        }
      ]
    },
    {
      "cell_type": "code",
      "metadata": {
        "colab": {
          "base_uri": "https://localhost:8080/"
        },
        "id": "cbZYY8OS-mgN",
        "outputId": "bd24ce44-974d-46d0-8ccc-b98752861a64"
      },
      "source": [
        "[i if i % 2 == 0 else 'odd' for i in range(15)]"
      ],
      "execution_count": null,
      "outputs": [
        {
          "output_type": "execute_result",
          "data": {
            "text/plain": [
              "[0, 'odd', 2, 'odd', 4, 'odd', 6, 'odd', 8, 'odd', 10, 'odd', 12, 'odd', 14]"
            ]
          },
          "metadata": {},
          "execution_count": 163
        }
      ]
    },
    {
      "cell_type": "code",
      "metadata": {
        "colab": {
          "base_uri": "https://localhost:8080/"
        },
        "id": "xlX2uAmS-Fd1",
        "outputId": "e91aa857-e078-4bee-a9b9-78b7f6cae0bc"
      },
      "source": [
        "{n:n**2 for n in range(10) if n % 2 == 0}"
      ],
      "execution_count": null,
      "outputs": [
        {
          "output_type": "execute_result",
          "data": {
            "text/plain": [
              "{0: 0, 2: 4, 4: 16, 6: 36, 8: 64}"
            ]
          },
          "metadata": {},
          "execution_count": 164
        }
      ]
    },
    {
      "cell_type": "markdown",
      "metadata": {
        "id": "sQJ30y8f8aCU"
      },
      "source": [
        "## Zip and unzip"
      ]
    },
    {
      "cell_type": "code",
      "metadata": {
        "id": "ouR52YbK7Qj4"
      },
      "source": [
        "names = [\"Siva\",'Amar','Shubham','Ram']\n",
        "age = [25,26,27,25]\n",
        "salary = [45000,50000,45000,56000]"
      ],
      "execution_count": null,
      "outputs": []
    },
    {
      "cell_type": "code",
      "metadata": {
        "id": "1CWX8vh796d3"
      },
      "source": [
        "new_zip = zip(names,age,salary)\n",
        "# print(new_zip)"
      ],
      "execution_count": null,
      "outputs": []
    },
    {
      "cell_type": "code",
      "metadata": {
        "id": "r5ANqwCv-KiH"
      },
      "source": [
        "# print(list(new_zip))\n",
        "new_zip = set(new_zip)"
      ],
      "execution_count": null,
      "outputs": []
    },
    {
      "cell_type": "code",
      "metadata": {
        "id": "bWS1awW9_Jge",
        "colab": {
          "base_uri": "https://localhost:8080/"
        },
        "outputId": "d2390340-1490-48c3-9d70-d598124c6605"
      },
      "source": [
        "new_zip"
      ],
      "execution_count": null,
      "outputs": [
        {
          "output_type": "execute_result",
          "data": {
            "text/plain": [
              "{('Amar', 26, 50000),\n",
              " ('Ram', 25, 56000),\n",
              " ('Shubham', 27, 45000),\n",
              " ('Siva', 25, 45000)}"
            ]
          },
          "metadata": {},
          "execution_count": 168
        }
      ]
    },
    {
      "cell_type": "code",
      "metadata": {
        "id": "LRXoX72w-SFu"
      },
      "source": [
        "a,b,c = zip(*new_zip)\n",
        "\n",
        "# print(\"names\",a)\n",
        "# print(\"age\",b)\n",
        "# print(\"salary\",c)"
      ],
      "execution_count": null,
      "outputs": []
    },
    {
      "cell_type": "code",
      "metadata": {
        "colab": {
          "base_uri": "https://localhost:8080/"
        },
        "id": "4vflk_Aa_HWv",
        "outputId": "01350da7-41ba-4b78-e970-0e25f5b32bb4"
      },
      "source": [
        "print(\"names\",a)\n",
        "print(\"age\",b)\n",
        "print(\"salary\",c)"
      ],
      "execution_count": null,
      "outputs": [
        {
          "output_type": "stream",
          "name": "stdout",
          "text": [
            "names ('Shubham', 'Ram', 'Amar', 'Siva')\n",
            "age (27, 25, 26, 25)\n",
            "salary (45000, 56000, 50000, 45000)\n"
          ]
        }
      ]
    },
    {
      "cell_type": "markdown",
      "metadata": {
        "id": "QqFbsg1q_3x2"
      },
      "source": [
        "## iterator"
      ]
    },
    {
      "cell_type": "code",
      "metadata": {
        "colab": {
          "base_uri": "https://localhost:8080/"
        },
        "id": "XsQsQMBi_zZH",
        "outputId": "c902c041-f745-4dcf-d6e0-1d227aed7439"
      },
      "source": [
        "names = [\"Siva\",'Amar','Shubham','Ram']\n",
        "names"
      ],
      "execution_count": null,
      "outputs": [
        {
          "output_type": "execute_result",
          "data": {
            "text/plain": [
              "['Siva', 'Amar', 'Shubham', 'Ram']"
            ]
          },
          "metadata": {},
          "execution_count": 173
        }
      ]
    },
    {
      "cell_type": "code",
      "metadata": {
        "id": "fs0RzgNbA1Pq",
        "colab": {
          "base_uri": "https://localhost:8080/"
        },
        "outputId": "ea5a4301-3c54-4c5b-abbe-4ad2b4f0010c"
      },
      "source": [
        "new_list = names.__iter__()\n",
        "print(new_list)"
      ],
      "execution_count": null,
      "outputs": [
        {
          "output_type": "stream",
          "name": "stdout",
          "text": [
            "<list_iterator object at 0x7fce99e6f190>\n"
          ]
        }
      ]
    },
    {
      "cell_type": "code",
      "metadata": {
        "id": "uCV3HWh2BM3F"
      },
      "source": [
        "help(new_list)"
      ],
      "execution_count": null,
      "outputs": []
    },
    {
      "cell_type": "code",
      "metadata": {
        "id": "bKN_PwArB5Cl",
        "colab": {
          "base_uri": "https://localhost:8080/"
        },
        "outputId": "d25d4fb5-0dd8-48b1-eb94-28333202eca9"
      },
      "source": [
        "for obj in new_list:\n",
        "  print(obj)"
      ],
      "execution_count": null,
      "outputs": [
        {
          "output_type": "stream",
          "name": "stdout",
          "text": [
            "Siva\n",
            "Amar\n",
            "Shubham\n",
            "Ram\n"
          ]
        }
      ]
    },
    {
      "cell_type": "code",
      "metadata": {
        "id": "wp8vDe54CINH",
        "colab": {
          "base_uri": "https://localhost:8080/"
        },
        "outputId": "79e63ca7-d4ba-419d-dce7-87300a5b9f14"
      },
      "source": [
        "new_list = iter(names)\n",
        "print(next(new_list))\n",
        "print(next(new_list))\n",
        "print(next(new_list))"
      ],
      "execution_count": null,
      "outputs": [
        {
          "output_type": "stream",
          "name": "stdout",
          "text": [
            "Siva\n",
            "Amar\n",
            "Shubham\n"
          ]
        }
      ]
    },
    {
      "cell_type": "code",
      "metadata": {
        "id": "CMprGWBdC3qw",
        "colab": {
          "base_uri": "https://localhost:8080/"
        },
        "outputId": "2c72c7bf-1fd1-4667-b75e-06a61b4e9926"
      },
      "source": [
        "print(next(new_list))"
      ],
      "execution_count": null,
      "outputs": [
        {
          "output_type": "stream",
          "name": "stdout",
          "text": [
            "Ram\n"
          ]
        }
      ]
    },
    {
      "cell_type": "code",
      "metadata": {
        "id": "kG3iwe-lCB-M",
        "colab": {
          "base_uri": "https://localhost:8080/"
        },
        "outputId": "4ebc2e06-13d4-4d93-dc1a-110698a3ca13"
      },
      "source": [
        "for obj in names:\n",
        "  print(obj)"
      ],
      "execution_count": null,
      "outputs": [
        {
          "output_type": "stream",
          "name": "stdout",
          "text": [
            "Siva\n",
            "Amar\n",
            "Shubham\n",
            "Ram\n"
          ]
        }
      ]
    },
    {
      "cell_type": "code",
      "metadata": {
        "id": "FW6aji23DSMm"
      },
      "source": [
        "names = [i for i in range(1000000)]\n",
        "new_list = iter(names)"
      ],
      "execution_count": null,
      "outputs": []
    },
    {
      "cell_type": "code",
      "metadata": {
        "colab": {
          "base_uri": "https://localhost:8080/"
        },
        "id": "uPSDKO62Dc-K",
        "outputId": "e9780f2d-b558-43dd-a16a-31f18fd60e92"
      },
      "source": [
        "import sys\n",
        "print(f'size of variable names is',sys.getsizeof(names))\n",
        "print(f'size of variable new_list is',sys.getsizeof(new_list))"
      ],
      "execution_count": null,
      "outputs": [
        {
          "output_type": "stream",
          "name": "stdout",
          "text": [
            "size of variable names is 8697472\n",
            "size of variable new_list is 64\n"
          ]
        }
      ]
    },
    {
      "cell_type": "code",
      "metadata": {
        "id": "4lTr__efEGSa",
        "colab": {
          "base_uri": "https://localhost:8080/"
        },
        "outputId": "b495f734-e8f4-4542-f374-378b1ccf8698"
      },
      "source": [
        "for i in range(50):\n",
        "  print(\"names values\",names[i])\n",
        "  print(next(new_list))"
      ],
      "execution_count": null,
      "outputs": [
        {
          "output_type": "stream",
          "name": "stdout",
          "text": [
            "names values 0\n",
            "0\n",
            "names values 1\n",
            "1\n",
            "names values 2\n",
            "2\n",
            "names values 3\n",
            "3\n",
            "names values 4\n",
            "4\n",
            "names values 5\n",
            "5\n",
            "names values 6\n",
            "6\n",
            "names values 7\n",
            "7\n",
            "names values 8\n",
            "8\n",
            "names values 9\n",
            "9\n",
            "names values 10\n",
            "10\n",
            "names values 11\n",
            "11\n",
            "names values 12\n",
            "12\n",
            "names values 13\n",
            "13\n",
            "names values 14\n",
            "14\n",
            "names values 15\n",
            "15\n",
            "names values 16\n",
            "16\n",
            "names values 17\n",
            "17\n",
            "names values 18\n",
            "18\n",
            "names values 19\n",
            "19\n",
            "names values 20\n",
            "20\n",
            "names values 21\n",
            "21\n",
            "names values 22\n",
            "22\n",
            "names values 23\n",
            "23\n",
            "names values 24\n",
            "24\n",
            "names values 25\n",
            "25\n",
            "names values 26\n",
            "26\n",
            "names values 27\n",
            "27\n",
            "names values 28\n",
            "28\n",
            "names values 29\n",
            "29\n",
            "names values 30\n",
            "30\n",
            "names values 31\n",
            "31\n",
            "names values 32\n",
            "32\n",
            "names values 33\n",
            "33\n",
            "names values 34\n",
            "34\n",
            "names values 35\n",
            "35\n",
            "names values 36\n",
            "36\n",
            "names values 37\n",
            "37\n",
            "names values 38\n",
            "38\n",
            "names values 39\n",
            "39\n",
            "names values 40\n",
            "40\n",
            "names values 41\n",
            "41\n",
            "names values 42\n",
            "42\n",
            "names values 43\n",
            "43\n",
            "names values 44\n",
            "44\n",
            "names values 45\n",
            "45\n",
            "names values 46\n",
            "46\n",
            "names values 47\n",
            "47\n",
            "names values 48\n",
            "48\n",
            "names values 49\n",
            "49\n"
          ]
        }
      ]
    },
    {
      "cell_type": "markdown",
      "metadata": {
        "id": "toXxf518EwUA"
      },
      "source": [
        "## Generators"
      ]
    },
    {
      "cell_type": "code",
      "metadata": {
        "id": "pALvzj7OEk4t"
      },
      "source": [
        "def squence(N):\n",
        "  x = []\n",
        "  for i in range(N):\n",
        "    x.append(i)\n",
        "  return x"
      ],
      "execution_count": null,
      "outputs": []
    },
    {
      "cell_type": "code",
      "metadata": {
        "id": "LH-_m3O7FHdd"
      },
      "source": [
        "alist = squence(100)"
      ],
      "execution_count": null,
      "outputs": []
    },
    {
      "cell_type": "code",
      "metadata": {
        "id": "q1sS7eUyFT7M",
        "colab": {
          "base_uri": "https://localhost:8080/"
        },
        "outputId": "4df117e1-58a0-43bb-9926-0a730729a536"
      },
      "source": [
        "alist"
      ],
      "execution_count": null,
      "outputs": [
        {
          "output_type": "execute_result",
          "data": {
            "text/plain": [
              "[0,\n",
              " 1,\n",
              " 2,\n",
              " 3,\n",
              " 4,\n",
              " 5,\n",
              " 6,\n",
              " 7,\n",
              " 8,\n",
              " 9,\n",
              " 10,\n",
              " 11,\n",
              " 12,\n",
              " 13,\n",
              " 14,\n",
              " 15,\n",
              " 16,\n",
              " 17,\n",
              " 18,\n",
              " 19,\n",
              " 20,\n",
              " 21,\n",
              " 22,\n",
              " 23,\n",
              " 24,\n",
              " 25,\n",
              " 26,\n",
              " 27,\n",
              " 28,\n",
              " 29,\n",
              " 30,\n",
              " 31,\n",
              " 32,\n",
              " 33,\n",
              " 34,\n",
              " 35,\n",
              " 36,\n",
              " 37,\n",
              " 38,\n",
              " 39,\n",
              " 40,\n",
              " 41,\n",
              " 42,\n",
              " 43,\n",
              " 44,\n",
              " 45,\n",
              " 46,\n",
              " 47,\n",
              " 48,\n",
              " 49,\n",
              " 50,\n",
              " 51,\n",
              " 52,\n",
              " 53,\n",
              " 54,\n",
              " 55,\n",
              " 56,\n",
              " 57,\n",
              " 58,\n",
              " 59,\n",
              " 60,\n",
              " 61,\n",
              " 62,\n",
              " 63,\n",
              " 64,\n",
              " 65,\n",
              " 66,\n",
              " 67,\n",
              " 68,\n",
              " 69,\n",
              " 70,\n",
              " 71,\n",
              " 72,\n",
              " 73,\n",
              " 74,\n",
              " 75,\n",
              " 76,\n",
              " 77,\n",
              " 78,\n",
              " 79,\n",
              " 80,\n",
              " 81,\n",
              " 82,\n",
              " 83,\n",
              " 84,\n",
              " 85,\n",
              " 86,\n",
              " 87,\n",
              " 88,\n",
              " 89,\n",
              " 90,\n",
              " 91,\n",
              " 92,\n",
              " 93,\n",
              " 94,\n",
              " 95,\n",
              " 96,\n",
              " 97,\n",
              " 98,\n",
              " 99]"
            ]
          },
          "metadata": {},
          "execution_count": 184
        }
      ]
    },
    {
      "cell_type": "code",
      "metadata": {
        "id": "PDEKohcOFZ32"
      },
      "source": [
        "def squence(N):  \n",
        "  for i in range(N):\n",
        "    yield i"
      ],
      "execution_count": null,
      "outputs": []
    },
    {
      "cell_type": "code",
      "metadata": {
        "colab": {
          "base_uri": "https://localhost:8080/"
        },
        "id": "C1ksG4VfFoi-",
        "outputId": "83530426-8aaa-47af-df33-13c1bbae59a9"
      },
      "source": [
        "blist = squence(100)\n",
        "print(blist)"
      ],
      "execution_count": null,
      "outputs": [
        {
          "output_type": "stream",
          "name": "stdout",
          "text": [
            "<generator object squence at 0x7fce99eb45d0>\n"
          ]
        }
      ]
    },
    {
      "cell_type": "code",
      "metadata": {
        "colab": {
          "base_uri": "https://localhost:8080/"
        },
        "id": "yplQYlpOF9b4",
        "outputId": "23535f2f-97ba-4916-e7f2-513b8d29cf16"
      },
      "source": [
        "print(f'size of variable new_list is',sys.getsizeof(alist))"
      ],
      "execution_count": null,
      "outputs": [
        {
          "output_type": "stream",
          "name": "stdout",
          "text": [
            "size of variable new_list is 920\n"
          ]
        }
      ]
    },
    {
      "cell_type": "code",
      "metadata": {
        "id": "RMTAs1EpFzP_",
        "colab": {
          "base_uri": "https://localhost:8080/"
        },
        "outputId": "464a92c3-1144-4a2b-f2b0-19efeceb39ad"
      },
      "source": [
        "for i in blist:\n",
        "  print(i)"
      ],
      "execution_count": null,
      "outputs": [
        {
          "output_type": "stream",
          "name": "stdout",
          "text": [
            "0\n",
            "1\n",
            "2\n",
            "3\n",
            "4\n",
            "5\n",
            "6\n",
            "7\n",
            "8\n",
            "9\n",
            "10\n",
            "11\n",
            "12\n",
            "13\n",
            "14\n",
            "15\n",
            "16\n",
            "17\n",
            "18\n",
            "19\n",
            "20\n",
            "21\n",
            "22\n",
            "23\n",
            "24\n",
            "25\n",
            "26\n",
            "27\n",
            "28\n",
            "29\n",
            "30\n",
            "31\n",
            "32\n",
            "33\n",
            "34\n",
            "35\n",
            "36\n",
            "37\n",
            "38\n",
            "39\n",
            "40\n",
            "41\n",
            "42\n",
            "43\n",
            "44\n",
            "45\n",
            "46\n",
            "47\n",
            "48\n",
            "49\n",
            "50\n",
            "51\n",
            "52\n",
            "53\n",
            "54\n",
            "55\n",
            "56\n",
            "57\n",
            "58\n",
            "59\n",
            "60\n",
            "61\n",
            "62\n",
            "63\n",
            "64\n",
            "65\n",
            "66\n",
            "67\n",
            "68\n",
            "69\n",
            "70\n",
            "71\n",
            "72\n",
            "73\n",
            "74\n",
            "75\n",
            "76\n",
            "77\n",
            "78\n",
            "79\n",
            "80\n",
            "81\n",
            "82\n",
            "83\n",
            "84\n",
            "85\n",
            "86\n",
            "87\n",
            "88\n",
            "89\n",
            "90\n",
            "91\n",
            "92\n",
            "93\n",
            "94\n",
            "95\n",
            "96\n",
            "97\n",
            "98\n",
            "99\n"
          ]
        }
      ]
    },
    {
      "cell_type": "code",
      "metadata": {
        "id": "RXu3R64DGHZy",
        "colab": {
          "base_uri": "https://localhost:8080/",
          "height": 162
        },
        "outputId": "58d758d0-2520-463f-a413-fadc064842c2"
      },
      "source": [
        "next(blist)"
      ],
      "execution_count": null,
      "outputs": [
        {
          "output_type": "error",
          "ename": "StopIteration",
          "evalue": "ignored",
          "traceback": [
            "\u001b[0;31m---------------------------------------------------------------------------\u001b[0m",
            "\u001b[0;31mStopIteration\u001b[0m                             Traceback (most recent call last)",
            "\u001b[0;32m<ipython-input-189-2c134ff81743>\u001b[0m in \u001b[0;36m<module>\u001b[0;34m()\u001b[0m\n\u001b[0;32m----> 1\u001b[0;31m \u001b[0mnext\u001b[0m\u001b[0;34m(\u001b[0m\u001b[0mblist\u001b[0m\u001b[0;34m)\u001b[0m\u001b[0;34m\u001b[0m\u001b[0;34m\u001b[0m\u001b[0m\n\u001b[0m",
            "\u001b[0;31mStopIteration\u001b[0m: "
          ]
        }
      ]
    },
    {
      "cell_type": "code",
      "metadata": {
        "id": "P6llOc7OGNa3"
      },
      "source": [
        "help(squence)"
      ],
      "execution_count": null,
      "outputs": []
    },
    {
      "cell_type": "markdown",
      "metadata": {
        "id": "wm-t3JLyG6RA"
      },
      "source": [
        "## Main method"
      ]
    },
    {
      "cell_type": "code",
      "metadata": {
        "colab": {
          "base_uri": "https://localhost:8080/"
        },
        "id": "7LcvZtOsHAbX",
        "outputId": "dcaedfe9-52d5-4a08-e574-5bb9b0fb6a8c"
      },
      "source": [
        "def fact(N):\n",
        "  if N < 0:\n",
        "    print(\"Input the positive number\")\n",
        "  elif N == 0:\n",
        "    print(f'Factorial of {N}! is {1}')\n",
        "  else:\n",
        "    fact = 1\n",
        "    for i in range(1,N+1):\n",
        "      fact *= i\n",
        "    print(f'Factorial of {N}! is {fact}')\n",
        "\n",
        "print(__name__)"
      ],
      "execution_count": null,
      "outputs": [
        {
          "output_type": "stream",
          "name": "stdout",
          "text": [
            "__main__\n"
          ]
        }
      ]
    },
    {
      "cell_type": "markdown",
      "metadata": {
        "id": "COLI4-yhQjuJ"
      },
      "source": [
        "#file handling"
      ]
    },
    {
      "cell_type": "code",
      "metadata": {
        "id": "nrdZMv3oQXiJ"
      },
      "source": [
        "f = open(\"/content/Model Deployment.txt\")\n",
        "f.read(100)\n",
        "f.close()"
      ],
      "execution_count": null,
      "outputs": []
    },
    {
      "cell_type": "code",
      "metadata": {
        "id": "4HUyismWSv6B"
      },
      "source": [
        "with open(\"/content/Model Deployment.txt\") as file:\n",
        "  xy  = file.read()"
      ],
      "execution_count": null,
      "outputs": []
    },
    {
      "cell_type": "code",
      "metadata": {
        "id": "eK5YGCnoTEMu"
      },
      "source": [
        "print(xy)"
      ],
      "execution_count": null,
      "outputs": []
    },
    {
      "cell_type": "code",
      "metadata": {
        "id": "saLeaVGcTRdk"
      },
      "source": [
        "f = open(\"/content/Model Deployment.txt\")\n",
        "f.readline()"
      ],
      "execution_count": null,
      "outputs": []
    },
    {
      "cell_type": "code",
      "metadata": {
        "colab": {
          "base_uri": "https://localhost:8080/"
        },
        "id": "cwidzcIuTY2y",
        "outputId": "8aaf334a-82f2-483a-8c35-c7a88a96bc32"
      },
      "source": [
        "print(f.readline())\n",
        "print(f.readline())\n",
        "print(f.readline())"
      ],
      "execution_count": null,
      "outputs": [
        {
          "output_type": "stream",
          "name": "stdout",
          "text": [
            "joblib.dump(modelname,filename)\n",
            "\n",
            "\n",
            "\n",
            "# When we have to deploy the data go to your views.py import it\n",
            "\n"
          ]
        }
      ]
    },
    {
      "cell_type": "code",
      "metadata": {
        "id": "u3d-QE78UmYf"
      },
      "source": [
        "f = open(\"/content/Model Deployment.txt\",mode = 'r')\n",
        "f.readlines()\n",
        "f.close()"
      ],
      "execution_count": null,
      "outputs": []
    },
    {
      "cell_type": "code",
      "metadata": {
        "id": "lfo-aGkvVc4r"
      },
      "source": [
        "wr = open(\"/content/abc.txt\",mode='a')\n",
        "wr.write('This one is my new file which i had created.')\n",
        "wr.close()"
      ],
      "execution_count": null,
      "outputs": []
    },
    {
      "cell_type": "code",
      "metadata": {
        "id": "Urq1Lk02W512"
      },
      "source": [
        "wr = open(\"/content/abc1.txt\",mode='x')\n",
        "wr.write('This one is my new file which i had created.')\n",
        "wr.close()"
      ],
      "execution_count": null,
      "outputs": []
    },
    {
      "cell_type": "code",
      "metadata": {
        "id": "y2zhkbhoXUc8"
      },
      "source": [
        "x = open(\"/content/abc1.txt\",mode='a')\n",
        "x.write('\\n Rishabh Singh')\n",
        "x.close()"
      ],
      "execution_count": null,
      "outputs": []
    },
    {
      "cell_type": "code",
      "metadata": {
        "id": "QDX4ix4AX5zA"
      },
      "source": [
        "x = open(\"/content/abc2.txt\",mode='w')\n",
        "x.write('\\nAayush')\n",
        "x.close()"
      ],
      "execution_count": null,
      "outputs": []
    },
    {
      "cell_type": "code",
      "metadata": {
        "id": "EXRzIw3sYTja"
      },
      "source": [
        "x = open(\"/content/abc3.txt\",mode='w+')\n",
        "x.write('\\n Rishabh Singh')\n",
        "x.close()"
      ],
      "execution_count": null,
      "outputs": []
    },
    {
      "cell_type": "code",
      "metadata": {
        "colab": {
          "base_uri": "https://localhost:8080/",
          "height": 35
        },
        "id": "7Qi1fKYwYeds",
        "outputId": "367b0fbe-cfdc-4cf5-b201-b3d20cce5b69"
      },
      "source": [
        "x = open(\"/content/abc3.txt\",mode='r+')\n",
        "x.read()"
      ],
      "execution_count": null,
      "outputs": [
        {
          "output_type": "execute_result",
          "data": {
            "application/vnd.google.colaboratory.intrinsic+json": {
              "type": "string"
            },
            "text/plain": [
              "'\\n Rishabh Singh'"
            ]
          },
          "metadata": {},
          "execution_count": 24
        }
      ]
    },
    {
      "cell_type": "code",
      "metadata": {
        "id": "5OjQN_59Y161"
      },
      "source": [
        "import os\n",
        "os.remove(\"/content/abc3.txt\")"
      ],
      "execution_count": null,
      "outputs": []
    },
    {
      "cell_type": "markdown",
      "metadata": {
        "id": "YA02jDQ3Ytbt"
      },
      "source": [
        "## Exception Handling"
      ]
    },
    {
      "cell_type": "code",
      "metadata": {
        "colab": {
          "base_uri": "https://localhost:8080/"
        },
        "id": "YpR6KXCBbCmR",
        "outputId": "15996f86-0983-47d8-d00c-2a3c4e5756bc"
      },
      "source": [
        "x = eval(input())\n",
        "y = eval(input())\n",
        "print(x/y)"
      ],
      "execution_count": null,
      "outputs": [
        {
          "output_type": "stream",
          "name": "stdout",
          "text": [
            "4\n",
            "2\n",
            "2.0\n"
          ]
        }
      ]
    },
    {
      "cell_type": "code",
      "metadata": {
        "colab": {
          "base_uri": "https://localhost:8080/"
        },
        "id": "gZngff9SYqIe",
        "outputId": "31477275-a717-44e3-d0a1-36ea88fb6bbe"
      },
      "source": [
        "try:\n",
        "  x = eval(input())\n",
        "  y = eval(input())\n",
        "  print(x/y)\n",
        "except :\n",
        "  pass"
      ],
      "execution_count": null,
      "outputs": [
        {
          "output_type": "stream",
          "name": "stdout",
          "text": [
            "4\n",
            "3\n",
            "1.3333333333333333\n"
          ]
        }
      ]
    },
    {
      "cell_type": "code",
      "metadata": {
        "colab": {
          "base_uri": "https://localhost:8080/"
        },
        "id": "UMJbK9QCaOvL",
        "outputId": "935cb518-89d8-4eb7-dc01-8ed648c0c45d"
      },
      "source": [
        "try:\n",
        "  x = eval(input())\n",
        "  y = eval(input())\n",
        "  print(x/y)\n",
        "except :\n",
        "  print('please input second value that is not equal to zero')"
      ],
      "execution_count": null,
      "outputs": [
        {
          "output_type": "stream",
          "name": "stdout",
          "text": [
            "3\n",
            "1\n",
            "3.0\n"
          ]
        }
      ]
    },
    {
      "cell_type": "code",
      "metadata": {
        "colab": {
          "base_uri": "https://localhost:8080/"
        },
        "id": "WZXNc-Sgarig",
        "outputId": "2bce8c1a-ee8c-4333-d893-444f0f45c99e"
      },
      "source": [
        "try:\n",
        "  x = eval(input())\n",
        "  y = eval(input())\n",
        "  print(x/y)\n",
        "except (ZeroDivisionError):\n",
        "  print('please input second value that is not equal to zero')\n",
        "except (NameError):\n",
        "  print(\"there is some issue with your inputs\")"
      ],
      "execution_count": null,
      "outputs": [
        {
          "output_type": "stream",
          "name": "stdout",
          "text": [
            "a\n",
            "there is some issue with your inputs\n"
          ]
        }
      ]
    },
    {
      "cell_type": "code",
      "metadata": {
        "colab": {
          "base_uri": "https://localhost:8080/"
        },
        "id": "itDkw3YPbpVs",
        "outputId": "c4f6a0be-2e86-4c4a-bac2-326d93d4286f"
      },
      "source": [
        "1try:\n",
        "  x = eval(input())\n",
        "  y = eval(input())\n",
        "  print(x/y)\n",
        "except (ZeroDivisionError):\n",
        "  print('please input second value that is not equal to zero')\n",
        "finally:\n",
        "  print(f'x as {x} y as {y}')  \n",
        "  print(\"Your input is not correct so we changed it on default\")"
      ],
      "execution_count": null,
      "outputs": [
        {
          "output_type": "stream",
          "name": "stdout",
          "text": [
            "22\n",
            "10\n",
            "2.2\n",
            "x as 22 y as 10\n",
            "Your input is not correct so we changed it on default\n"
          ]
        }
      ]
    },
    {
      "cell_type": "markdown",
      "metadata": {
        "id": "T2NHycBueOxC"
      },
      "source": [
        "user define exception"
      ]
    },
    {
      "cell_type": "code",
      "metadata": {
        "colab": {
          "base_uri": "https://localhost:8080/",
          "height": 418
        },
        "id": "DN7r7ZXPdaZy",
        "outputId": "db8b173d-06f2-402e-f63c-9b026f33be73"
      },
      "source": [
        "try:\n",
        "  x = eval(input())\n",
        "  y = eval(input())\n",
        "  print(x/y)\n",
        "except (ZeroDivisionError):\n",
        "  print('please input second value that is not equal to zero')\n",
        "except (NameError):\n",
        "  raise Exception(\"you are not putting correct type of data\")"
      ],
      "execution_count": null,
      "outputs": [
        {
          "name": "stdout",
          "output_type": "stream",
          "text": [
            "a\n"
          ]
        },
        {
          "output_type": "error",
          "ename": "NameError",
          "evalue": "ignored",
          "traceback": [
            "\u001b[0;31m---------------------------------------------------------------------------\u001b[0m",
            "\u001b[0;31mNameError\u001b[0m                                 Traceback (most recent call last)",
            "\u001b[0;32m<ipython-input-43-f56adb06d25c>\u001b[0m in \u001b[0;36m<module>\u001b[0;34m()\u001b[0m\n\u001b[1;32m      1\u001b[0m \u001b[0;32mtry\u001b[0m\u001b[0;34m:\u001b[0m\u001b[0;34m\u001b[0m\u001b[0;34m\u001b[0m\u001b[0m\n\u001b[0;32m----> 2\u001b[0;31m   \u001b[0mx\u001b[0m \u001b[0;34m=\u001b[0m \u001b[0meval\u001b[0m\u001b[0;34m(\u001b[0m\u001b[0minput\u001b[0m\u001b[0;34m(\u001b[0m\u001b[0;34m)\u001b[0m\u001b[0;34m)\u001b[0m\u001b[0;34m\u001b[0m\u001b[0;34m\u001b[0m\u001b[0m\n\u001b[0m\u001b[1;32m      3\u001b[0m   \u001b[0my\u001b[0m \u001b[0;34m=\u001b[0m \u001b[0meval\u001b[0m\u001b[0;34m(\u001b[0m\u001b[0minput\u001b[0m\u001b[0;34m(\u001b[0m\u001b[0;34m)\u001b[0m\u001b[0;34m)\u001b[0m\u001b[0;34m\u001b[0m\u001b[0;34m\u001b[0m\u001b[0m\n",
            "\u001b[0;32m<string>\u001b[0m in \u001b[0;36m<module>\u001b[0;34m()\u001b[0m\n",
            "\u001b[0;31mNameError\u001b[0m: name 'a' is not defined",
            "\nDuring handling of the above exception, another exception occurred:\n",
            "\u001b[0;31mNameError\u001b[0m                                 Traceback (most recent call last)",
            "\u001b[0;32m<ipython-input-43-f56adb06d25c>\u001b[0m in \u001b[0;36m<module>\u001b[0;34m()\u001b[0m\n\u001b[1;32m      6\u001b[0m   \u001b[0mprint\u001b[0m\u001b[0;34m(\u001b[0m\u001b[0;34m'please input second value that is not equal to zero'\u001b[0m\u001b[0;34m)\u001b[0m\u001b[0;34m\u001b[0m\u001b[0;34m\u001b[0m\u001b[0m\n\u001b[1;32m      7\u001b[0m \u001b[0;32mexcept\u001b[0m \u001b[0;34m(\u001b[0m\u001b[0mNameError\u001b[0m\u001b[0;34m)\u001b[0m\u001b[0;34m:\u001b[0m\u001b[0;34m\u001b[0m\u001b[0;34m\u001b[0m\u001b[0m\n\u001b[0;32m----> 8\u001b[0;31m   \u001b[0;32mraise\u001b[0m \u001b[0mNameError\u001b[0m\u001b[0;34m(\u001b[0m\u001b[0;34m\"you are not putting correct type of data\"\u001b[0m\u001b[0;34m)\u001b[0m\u001b[0;34m\u001b[0m\u001b[0;34m\u001b[0m\u001b[0m\n\u001b[0m",
            "\u001b[0;31mNameError\u001b[0m: you are not putting correct type of data"
          ]
        }
      ]
    },
    {
      "cell_type": "markdown",
      "metadata": {
        "id": "z8Lsqv0fzora"
      },
      "source": [
        "**Question@1**  \n",
        "\n",
        "\n",
        "Define a function which can find lucky number from a list \n",
        "Lucky number means in a list occurance of that number should be equal to the number and if there are more then one number having same property then choose the max number.\n",
        "\n",
        "\n",
        "\n",
        "\n",
        " \n",
        "\n",
        "\n",
        "\n",
        "**Example**\n",
        "\n",
        "Example 1:-\n",
        "\n",
        "\n",
        "*  \n",
        "\n",
        "\n",
        "\n",
        "List1 = [1,2,2,3,3,4,4,4]\n",
        "\n",
        "\n",
        "Output:- 2.\n",
        "\n",
        "\n",
        "Example 2:- \n",
        "\n",
        "\n",
        "\n",
        "List2 = [ 2,2,3,3,1,3,2,4,4,4]\n",
        "\n",
        "\n",
        "Output :- 3\n",
        "\n",
        "**Explanation: of Example 1**\n",
        "\n",
        "- number 1 and 2 are having same property but 2 is greater then results is 2\n",
        "\n",
        "**Function Description**\n",
        "\n",
        "\n",
        "Complete the lucky function provided in the editor .This  function takes the following 1 parameter and return single digit number.\n",
        "\n",
        "\n",
        "\n",
        "•\tList_a: Represents a list.\n",
        "\n",
        "\n",
        "\n",
        "**Input format** \n",
        "\n",
        "\n",
        "**Note**This is the input format that you must use to provied coustom input. \n",
        "\n",
        "\n",
        "•\tThe first line has an list, list_a denoting the number of test cases.\n",
        "\n",
        "\n",
        "\n",
        "\n",
        "\n",
        "\n",
        "**Output format**\n",
        "\n",
        "\n",
        "•\tPrint lucky each corresponding to the answer to each query.  \n",
        "\n",
        "\n",
        "\n"
      ]
    },
    {
      "cell_type": "code",
      "metadata": {
        "id": "mmBWp885zkME"
      },
      "source": [
        "def lucky(list_a):\n",
        "  # write your code here \n",
        "  #1st method\n",
        "  x = []\n",
        "  for i in set(list_a):\n",
        "    if i == list_a.count(i):\n",
        "      x.append(i)\n",
        "\n",
        "  #2nd method \n",
        "  x = [i for i in set(list_a) if i == list_a.count(i)]\n",
        "  N = max(x)\n",
        "  return N\n",
        "\n",
        "if __name__ = '__main__':\n",
        "  list_a = [int(ele) for ele in input(\"Enter the list items separate by space:-\").split(\",\")]\n",
        "  print(lucky(list_a))\n"
      ],
      "execution_count": null,
      "outputs": []
    },
    {
      "cell_type": "markdown",
      "metadata": {
        "id": "EwUMIBnZ6-xi"
      },
      "source": [
        "**Question@2**  \n",
        "\n",
        "\n",
        "Define a function which can find palindrome number from a real number, means number that remains the same when its digits are reversed. In other words, it has reflectional symmetry across a vertical axis.\n",
        "**1st** revers the number check num is palindrome or not. If **yes** then print that number and how many time you have reversed it. If **not** then add that number to previous one and reverse it again and check for palindrome. Do it until the num will be palindrome. \n",
        "\n",
        "\n",
        "\n",
        "\n",
        "\n",
        "**Example**\n",
        "\n",
        "Example 1:-\n",
        "\n",
        "\n",
        "num = 123\n",
        "      \n",
        "\n",
        "*   \n",
        "\n",
        "\n",
        "     123 + 321 = 444 \n",
        "\n",
        "     444 is palindrome number\n",
        "    \n",
        "    \n",
        "\n",
        "Output:- 444 ,1\n",
        "\n",
        "\n",
        "Example 2:- \n",
        "\n",
        "\n",
        "num = 174\n",
        "\n",
        "*  \n",
        "\n",
        "\n",
        "      174 + 471 = 645\n",
        "      645 + 546 = 1191\n",
        "      1191 + 1911 = 3102\n",
        "      3102 + 2013 = 5115\n",
        "      5115 is palindrome number\n",
        "\n",
        "\n",
        "Output :- 5115, 4\n",
        "\n",
        "**Explanation: of Example 1**\n",
        "\n",
        "- number 1 and 2 are having same property but 2 is greater then results is 2\n",
        "\n",
        "**Function Description**\n",
        "\n",
        "\n",
        "Complete the palindrome function provided in the editor .This  function takes the following 1 parameter and return two number.\n",
        "\n",
        "\n",
        "\n",
        "•   num: Represents a int.\n",
        "\n",
        "\n",
        "\n",
        "**Input format** \n",
        "\n",
        "\n",
        "**Note**This is the input format that you must use to provied coustom input. \n",
        "\n",
        "\n",
        "•   The first line has an int, num denoting the number of test cases.\n",
        "\n",
        "\n",
        "\n",
        "\n",
        "\n",
        "\n",
        "**Output format**\n",
        "\n",
        "\n",
        "•   Print palindrome number and step's num each corresponding to the answer to each query.\n",
        "\n",
        "\n",
        "**constraints**\n",
        "\n",
        "step can be maximum 30 times if that after 30 steps that number will not convert to palindrome then retun **\"Palindrome is not possible\"**"
      ]
    },
    {
      "cell_type": "code",
      "metadata": {
        "colab": {
          "base_uri": "https://localhost:8080/"
        },
        "id": "uKSM-gmO62xx",
        "outputId": "bdc9dae0-2ecf-4b15-9424-0ad48ed6fbf5"
      },
      "source": [
        "def palindrome(num):\n",
        "  val = num\n",
        "  count=0\n",
        "  reversed_num = num\n",
        "  while True:\n",
        "    if val == int(str(val)[::-1]):\n",
        "      return count ,val\n",
        "    elif count ==30:\n",
        "      return  \"Palindrome is not possible\"\n",
        "    else:\n",
        "      reversed_num += int(str(val)[::-1])\n",
        "      val = reversed_num\n",
        "      count += 1\n",
        "\n",
        "if __name__ =='__main__':\n",
        "  num = int(input(\"Enter a number :- \"))\n",
        "  print(palindrome(num))\n",
        "\n",
        "  \n",
        "\n"
      ],
      "execution_count": null,
      "outputs": [
        {
          "output_type": "stream",
          "name": "stdout",
          "text": [
            "Enter a number :- 22\n",
            "(0, 22)\n"
          ]
        }
      ]
    },
    {
      "cell_type": "code",
      "metadata": {
        "colab": {
          "base_uri": "https://localhost:8080/"
        },
        "id": "mMbrB5BcEq5_",
        "outputId": "a3704bba-e9e7-48a5-834d-d71ac058b635"
      },
      "source": [
        "list_a = [1,2,3,4,5,6,7,8,9]\n",
        "\n",
        "[item**2 for item in list_a]\n",
        "\n",
        "a = []\n",
        "for ele in list_a:\n",
        "  if ele >5:\n",
        "    a.append(ele)\n",
        "#print(a)\n",
        "\n",
        "\n",
        "#grt>5\n",
        "#print([i for i in list_a if i>5])\n",
        "\n",
        "#even\n",
        "print([ele**2 for ele in list_a if ele%2==0])\n",
        "\n",
        "\n",
        "#odd \n",
        "#[ele for ele in list_a if ele%2!=0]\n",
        "\n",
        "\n",
        "#ele *4\n",
        "[ele*4 for ele in list_a]\n"
      ],
      "execution_count": null,
      "outputs": [
        {
          "output_type": "stream",
          "name": "stdout",
          "text": [
            "[4, 16, 36, 64]\n"
          ]
        },
        {
          "output_type": "execute_result",
          "data": {
            "text/plain": [
              "[4, 8, 12, 16, 20, 24, 28, 32, 36]"
            ]
          },
          "metadata": {},
          "execution_count": 198
        }
      ]
    },
    {
      "cell_type": "code",
      "metadata": {
        "colab": {
          "base_uri": "https://localhost:8080/"
        },
        "id": "NsUmUN87RDXD",
        "outputId": "50ca0185-baf8-4ec5-f729-3bc09f5d0ba2"
      },
      "source": [
        "list_a = [1,2,3,4,5,6,7,8,9]\n",
        "[ele+1 for ele in list_a]\n",
        "\n",
        "print([i for i in list_a if i%3!=0])\n",
        "\n",
        "\n",
        "\n"
      ],
      "execution_count": null,
      "outputs": [
        {
          "output_type": "stream",
          "name": "stdout",
          "text": [
            "[1, 2, 4, 5, 7, 8]\n"
          ]
        }
      ]
    },
    {
      "cell_type": "code",
      "metadata": {
        "id": "hpsWeRJggqRk"
      },
      "source": [
        ""
      ],
      "execution_count": null,
      "outputs": []
    },
    {
      "cell_type": "code",
      "metadata": {
        "colab": {
          "base_uri": "https://localhost:8080/"
        },
        "id": "1TmMlTt1ltIT",
        "outputId": "5c131c0f-f3dc-4ae2-e6c3-ac279a2ea4b6"
      },
      "source": [
        "def min_max(X):\n",
        "    for i in X:\n",
        "        return min(X),max(X)\n",
        "\n",
        "min_max([-9,87,8,95,62,0,4])"
      ],
      "execution_count": null,
      "outputs": [
        {
          "output_type": "execute_result",
          "data": {
            "text/plain": [
              "(-9, 95)"
            ]
          },
          "metadata": {},
          "execution_count": 200
        }
      ]
    },
    {
      "cell_type": "code",
      "metadata": {
        "id": "m6tARZICgrF8"
      },
      "source": [
        ""
      ],
      "execution_count": null,
      "outputs": []
    },
    {
      "cell_type": "code",
      "metadata": {
        "colab": {
          "base_uri": "https://localhost:8080/"
        },
        "id": "kfLl3icbnIpC",
        "outputId": "321b4b5f-3390-484a-ca1c-9694afc75c3b"
      },
      "source": [
        "def even_sqr(x):\n",
        "  return[ele**2 for ele in x if ele%2==0]\n",
        "\n",
        "even_sqr([1,2,3,4,5,6,7,8,9])"
      ],
      "execution_count": null,
      "outputs": [
        {
          "output_type": "execute_result",
          "data": {
            "text/plain": [
              "[4, 16, 36, 64]"
            ]
          },
          "metadata": {},
          "execution_count": 201
        }
      ]
    },
    {
      "cell_type": "code",
      "metadata": {
        "colab": {
          "base_uri": "https://localhost:8080/"
        },
        "id": "RhGjIeIioI5M",
        "outputId": "aa2351c9-8fd5-4995-cb53-dfe77de4176e"
      },
      "source": [
        "def add(*args):\n",
        "  res = 0\n",
        "  for ele in args:\n",
        "    res = res+ele\n",
        "  return res \n",
        "\n",
        "add(1,2,3,4,5,6,7)\n"
      ],
      "execution_count": null,
      "outputs": [
        {
          "output_type": "execute_result",
          "data": {
            "text/plain": [
              "28"
            ]
          },
          "metadata": {},
          "execution_count": 202
        }
      ]
    },
    {
      "cell_type": "markdown",
      "metadata": {
        "id": "16Bg87truSxo"
      },
      "source": [
        "## OOPS"
      ]
    },
    {
      "cell_type": "code",
      "metadata": {
        "id": "UHdE6mUtzBrL"
      },
      "source": [
        "def cube(number):\n",
        "  x = number**3\n",
        "cube(number = 5)"
      ],
      "execution_count": null,
      "outputs": []
    },
    {
      "cell_type": "code",
      "metadata": {
        "id": "Fx8apXH82K0B"
      },
      "source": [
        "class Person:\n",
        "  pass"
      ],
      "execution_count": null,
      "outputs": []
    },
    {
      "cell_type": "code",
      "metadata": {
        "id": "XJFWk-oBsdq9"
      },
      "source": [
        "class Person:\n",
        "  \n",
        "  #instance variable \n",
        "  def __init__(self,name,age,salary,gender):\n",
        "    self.name = name\n",
        "    self.age = age\n",
        "    self.salary = salary\n",
        "    self.gender = gender\n",
        "\n",
        "  #instance methods\n",
        "  def details(self):\n",
        "    print(f'Name of person is {self.name} and salary of the person is {self.salary}')\n",
        "\n",
        "  def increment(self,percentage):\n",
        "    self.salary = self.salary + self.salary * percentage/100\n",
        "\n"
      ],
      "execution_count": null,
      "outputs": []
    },
    {
      "cell_type": "code",
      "metadata": {
        "colab": {
          "base_uri": "https://localhost:8080/"
        },
        "id": "9zx_BfMHz8Ur",
        "outputId": "e50eaeed-2d09-4058-9891-b81eb8be55ce"
      },
      "source": [
        "x1 = Person(name = \"Siva\", age = 25,salary=45000,gender='Male')\n",
        "x1.details()"
      ],
      "execution_count": null,
      "outputs": [
        {
          "output_type": "stream",
          "name": "stdout",
          "text": [
            "Name of person is Siva and salary of the person is 45000\n"
          ]
        }
      ]
    },
    {
      "cell_type": "code",
      "metadata": {
        "id": "VMKgotNB28gT"
      },
      "source": [
        "x1.increment(percentage=10)"
      ],
      "execution_count": null,
      "outputs": []
    },
    {
      "cell_type": "code",
      "metadata": {
        "colab": {
          "base_uri": "https://localhost:8080/"
        },
        "id": "eHqgqcv63JBR",
        "outputId": "74468231-9d4a-4c20-a4ac-9b74617ed5d5"
      },
      "source": [
        "x1.salary  = 1000\n",
        "x1.details()"
      ],
      "execution_count": null,
      "outputs": [
        {
          "output_type": "stream",
          "name": "stdout",
          "text": [
            "Name of person is Siva and salary of the person is 1000\n"
          ]
        }
      ]
    },
    {
      "cell_type": "markdown",
      "metadata": {
        "id": "4iCOw-Ux5mqU"
      },
      "source": [
        "Enc"
      ]
    },
    {
      "cell_type": "code",
      "metadata": {
        "id": "fPrjoLPz5mJg"
      },
      "source": [
        "class Person:\n",
        "  \n",
        "  #instance variable \n",
        "  def __init__(self,name,age,salary,gender):\n",
        "    self.name = name\n",
        "    self.age = age\n",
        "    self.__salary = salary  #private varible or encapsulated\n",
        "    self.gender = gender\n",
        "\n",
        "  #instance methods\n",
        "  def details(self):\n",
        "    print(f'Name of person is {self.name} and salary of the person is {self.__salary}')\n",
        "\n",
        "  def increment(self,percentage):\n",
        "    self.__salary = self.__salary + self.__salary * percentage/100\n",
        "\n"
      ],
      "execution_count": null,
      "outputs": []
    },
    {
      "cell_type": "code",
      "metadata": {
        "colab": {
          "base_uri": "https://localhost:8080/"
        },
        "id": "BQlw2pln5yzp",
        "outputId": "df7895aa-0e8e-4cc1-b20b-15a355d1d904"
      },
      "source": [
        "x1 = Person(name = \"Rishu\", age = 25,salary=45000,gender='Male')\n",
        "x1.details()\n",
        "x1.__salary  = 1000\n",
        "x1.details()"
      ],
      "execution_count": null,
      "outputs": [
        {
          "output_type": "stream",
          "name": "stdout",
          "text": [
            "Name of person is Rishu and salary of the person is 45000\n",
            "Name of person is Rishu and salary of the person is 45000\n"
          ]
        }
      ]
    },
    {
      "cell_type": "markdown",
      "metadata": {
        "id": "rHTVlLiDVRLJ"
      },
      "source": [
        "## Inheritance"
      ]
    },
    {
      "cell_type": "code",
      "metadata": {
        "id": "UsH8PpgcS3jq"
      },
      "source": [
        "class Person:  \n",
        "  #instance variable \n",
        "  def __init__(self,name,age,salary,gender):\n",
        "    self.name = name\n",
        "    self.age = age\n",
        "    self.salary = salary  #private varible or encapsulated\n",
        "    self.gender = gender\n",
        "\n",
        "  #instance methods\n",
        "  def details(self):\n",
        "    print(f'Name of person is {self.name} and salary of the person is {self.salary}')\n",
        "\n",
        "  def increment(self,percentage):\n",
        "    self.salary = self.salary + self.salary * percentage/100"
      ],
      "execution_count": null,
      "outputs": []
    },
    {
      "cell_type": "code",
      "metadata": {
        "id": "ZBUA0KqEVYp6"
      },
      "source": [
        "class Employee(Person):\n",
        "  def __init__(self,name,age,salary,gender,empid,Designation):\n",
        "    super().__init__(name,age,salary,gender)\n",
        "    self.empid = empid\n",
        "    self.Designation = Designation\n",
        "\n",
        "  def det(self):\n",
        "    print(f'emp :- {self.empid}\\nage :- {self.age}')\n",
        "\n",
        "  def details(self):\n",
        "    print(f'''Name of person is {self.name} and salary of the person is {self.salary}\n",
        "          \\nEmployeeid is {self.empid}''')\n",
        "  "
      ],
      "execution_count": null,
      "outputs": []
    },
    {
      "cell_type": "code",
      "metadata": {
        "colab": {
          "base_uri": "https://localhost:8080/"
        },
        "id": "rfzaJestXNDE",
        "outputId": "6e4e401c-1beb-48fd-ae8f-cc150f67a7d0"
      },
      "source": [
        "x1 = Employee(name = 'Rishu',age=25,salary = 45000 , gender='M',empid=1,Designation='Trainer')\n",
        "\n",
        "x1.det()"
      ],
      "execution_count": null,
      "outputs": [
        {
          "output_type": "stream",
          "name": "stdout",
          "text": [
            "emp :- 1\n",
            "age :- 25\n"
          ]
        }
      ]
    },
    {
      "cell_type": "code",
      "metadata": {
        "colab": {
          "base_uri": "https://localhost:8080/"
        },
        "id": "pu0XYkQcX0V0",
        "outputId": "537763d3-046e-4edf-f8c3-57cfc661f5ac"
      },
      "source": [
        "x1.details()"
      ],
      "execution_count": null,
      "outputs": [
        {
          "output_type": "stream",
          "name": "stdout",
          "text": [
            "Name of person is Rishu and salary of the person is 45000\n",
            "          \n",
            "Employeeid is 1\n"
          ]
        }
      ]
    },
    {
      "cell_type": "markdown",
      "metadata": {
        "id": "_HTV8M7daj9_"
      },
      "source": [
        "##Polymorphism"
      ]
    },
    {
      "cell_type": "code",
      "metadata": {
        "id": "cZFY585lajrC"
      },
      "source": [
        "class A(Person):\n",
        "  def __init__(self,name,age,salary,gender,game):\n",
        "    super().__init__(name,age,salary,gender)\n",
        "    self.game = game\n",
        "\n",
        "  def details(self):\n",
        "    print(f'Game play :- {self.game}\\nAge :- {self.age} \\n Salary {self.salary}')"
      ],
      "execution_count": null,
      "outputs": []
    },
    {
      "cell_type": "code",
      "metadata": {
        "colab": {
          "base_uri": "https://localhost:8080/"
        },
        "id": "xm0dijTHb7Bg",
        "outputId": "0e5ad60d-f367-47bd-edec-fa4a7e99db6a"
      },
      "source": [
        "x2 = A('Rishu',25,45000,'M','MineCraft')\n",
        "\n",
        "x2.details()\n",
        "x2.increment(15)\n",
        "x2.details()"
      ],
      "execution_count": null,
      "outputs": [
        {
          "output_type": "stream",
          "name": "stdout",
          "text": [
            "Game play :- MineCraft\n",
            "Age :- 25 \n",
            " Salary 45000\n",
            "Game play :- MineCraft\n",
            "Age :- 25 \n",
            " Salary 51750.0\n"
          ]
        }
      ]
    },
    {
      "cell_type": "code",
      "metadata": {
        "colab": {
          "base_uri": "https://localhost:8080/"
        },
        "id": "iLG9Ox2vcPMI",
        "outputId": "01826be8-eaf5-4683-a512-37870b247e98"
      },
      "source": [
        "x1.details()\n",
        "x1.increment(25)\n",
        "x1.details()"
      ],
      "execution_count": null,
      "outputs": [
        {
          "output_type": "stream",
          "name": "stdout",
          "text": [
            "Name of person is Rishu and salary of the person is 45000\n",
            "          \n",
            "Employeeid is 1\n",
            "Name of person is Rishu and salary of the person is 56250.0\n",
            "          \n",
            "Employeeid is 1\n"
          ]
        }
      ]
    },
    {
      "cell_type": "code",
      "metadata": {
        "id": "msMKh955ePWf"
      },
      "source": [
        "class Employee:  \n",
        "  #class variable \n",
        "  Increments = 12\n",
        "  Emp_id = 0\n",
        "  #instance variable \n",
        "  def __init__(self,name,age,salary,gender):\n",
        "    self.name = name\n",
        "    self.age = age\n",
        "    self.salary = salary  #private varible or encapsulated\n",
        "    self.gender = gender\n",
        "    Employee.Emp_id += 1 \n",
        "\n",
        "  #instance methods\n",
        "  def details(self):\n",
        "    print(f'Name of person is {self.name} and salary of the person is {self.salary}')\n",
        "\n",
        "  def increment(self,percentage):\n",
        "    self.salary = self.salary + self.salary * percentage/100\n",
        "\n",
        "  def year_increment(self):\n",
        "    self.salary = self.salary + self.salary * Employee.Increments/100\n",
        "\n",
        "  @classmethod\n",
        "  def update_increment(cls,inc_value):\n",
        "    cls.Increments = cls.Increments + inc_value \n",
        "\n",
        "  @staticmethod\n",
        "  def add(num1,num2):\n",
        "    print(num1+num2)\n"
      ],
      "execution_count": null,
      "outputs": []
    },
    {
      "cell_type": "code",
      "metadata": {
        "id": "PNAYLbGifHDV",
        "colab": {
          "base_uri": "https://localhost:8080/"
        },
        "outputId": "0781642d-380f-457b-af0d-422e3447a9dd"
      },
      "source": [
        "help(Employee)"
      ],
      "execution_count": null,
      "outputs": [
        {
          "output_type": "stream",
          "name": "stdout",
          "text": [
            "Help on class Employee in module __main__:\n",
            "\n",
            "class Employee(builtins.object)\n",
            " |  Employee(name, age, salary, gender)\n",
            " |  \n",
            " |  Methods defined here:\n",
            " |  \n",
            " |  __init__(self, name, age, salary, gender)\n",
            " |      Initialize self.  See help(type(self)) for accurate signature.\n",
            " |  \n",
            " |  details(self)\n",
            " |      #instance methods\n",
            " |  \n",
            " |  increment(self, percentage)\n",
            " |  \n",
            " |  year_increment(self)\n",
            " |  \n",
            " |  ----------------------------------------------------------------------\n",
            " |  Class methods defined here:\n",
            " |  \n",
            " |  update_increment(inc_value) from builtins.type\n",
            " |  \n",
            " |  ----------------------------------------------------------------------\n",
            " |  Static methods defined here:\n",
            " |  \n",
            " |  add(num1, num2)\n",
            " |  \n",
            " |  ----------------------------------------------------------------------\n",
            " |  Data descriptors defined here:\n",
            " |  \n",
            " |  __dict__\n",
            " |      dictionary for instance variables (if defined)\n",
            " |  \n",
            " |  __weakref__\n",
            " |      list of weak references to the object (if defined)\n",
            " |  \n",
            " |  ----------------------------------------------------------------------\n",
            " |  Data and other attributes defined here:\n",
            " |  \n",
            " |  Emp_id = 0\n",
            " |  \n",
            " |  Increments = 12\n",
            "\n"
          ]
        }
      ]
    },
    {
      "cell_type": "code",
      "metadata": {
        "colab": {
          "base_uri": "https://localhost:8080/"
        },
        "id": "u3gjT-3_fbkr",
        "outputId": "1823e856-4387-424e-9a2b-bea472f19b27"
      },
      "source": [
        "p1 = Employee(name = 'Siva',age=25,salary = 45000 , gender='M')\n",
        "p1.details()"
      ],
      "execution_count": null,
      "outputs": [
        {
          "output_type": "stream",
          "name": "stdout",
          "text": [
            "Name of person is Siva and salary of the person is 45000\n"
          ]
        }
      ]
    },
    {
      "cell_type": "code",
      "metadata": {
        "colab": {
          "base_uri": "https://localhost:8080/"
        },
        "id": "GAKZaKNZjbCq",
        "outputId": "89f4010d-9031-4774-bbac-d02574c2f774"
      },
      "source": [
        "p1.add(5,10)"
      ],
      "execution_count": null,
      "outputs": [
        {
          "output_type": "stream",
          "name": "stdout",
          "text": [
            "15\n"
          ]
        }
      ]
    },
    {
      "cell_type": "code",
      "metadata": {
        "colab": {
          "base_uri": "https://localhost:8080/"
        },
        "id": "76h9ElargixW",
        "outputId": "8576b478-f469-4117-e405-067615cc7ffc"
      },
      "source": [
        "p1.details()\n",
        "p1.year_increment()\n",
        "p1.details()"
      ],
      "execution_count": null,
      "outputs": [
        {
          "output_type": "stream",
          "name": "stdout",
          "text": [
            "Name of person is Siva and salary of the person is 45000\n",
            "Name of person is Siva and salary of the person is 50400.0\n"
          ]
        }
      ]
    },
    {
      "cell_type": "code",
      "metadata": {
        "id": "E61pnNukiWC6"
      },
      "source": [
        "p1.update_increment(20)"
      ],
      "execution_count": null,
      "outputs": []
    },
    {
      "cell_type": "code",
      "metadata": {
        "colab": {
          "base_uri": "https://localhost:8080/"
        },
        "id": "5zZIM6rlifdx",
        "outputId": "74b46cf1-9fc0-4269-ba5f-79b83a3e7ba7"
      },
      "source": [
        "p1.details()\n",
        "p1.year_increment()\n",
        "p1.details()"
      ],
      "execution_count": null,
      "outputs": [
        {
          "output_type": "stream",
          "name": "stdout",
          "text": [
            "Name of person is Siva and salary of the person is 50400.0\n",
            "Name of person is Siva and salary of the person is 66528.0\n"
          ]
        }
      ]
    },
    {
      "cell_type": "code",
      "metadata": {
        "colab": {
          "base_uri": "https://localhost:8080/"
        },
        "id": "ATMbc3w1fs-a",
        "outputId": "e0a82502-189d-4968-fa84-e65102fd1105"
      },
      "source": [
        "p2 = Employee(name = 'kiran', age=25,salary = 55000 , gender='M')\n",
        "p2.details()"
      ],
      "execution_count": null,
      "outputs": [
        {
          "output_type": "stream",
          "name": "stdout",
          "text": [
            "Name of person is kiran and salary of the person is 55000\n"
          ]
        }
      ]
    },
    {
      "cell_type": "markdown",
      "metadata": {
        "id": "tL3aRIXMrhgY"
      },
      "source": [
        "\n",
        "\n",
        "\n",
        "# MySQL DB connection with Python\n"
      ]
    },
    {
      "cell_type": "markdown",
      "metadata": {
        "id": "Pb0iUtbvrhga"
      },
      "source": [
        "### Connecting to MySQL"
      ]
    },
    {
      "cell_type": "code",
      "metadata": {
        "id": "GqLYgWJTY_gF",
        "colab": {
          "base_uri": "https://localhost:8080/"
        },
        "outputId": "8dbc0663-4ca6-4c25-c6f6-e2f6b937d47b"
      },
      "source": [
        "!pip install mysql.connector"
      ],
      "execution_count": null,
      "outputs": [
        {
          "output_type": "stream",
          "name": "stdout",
          "text": [
            "Collecting mysql.connector\n",
            "  Downloading mysql-connector-2.2.9.tar.gz (11.9 MB)\n",
            "\u001b[K     |████████████████████████████████| 11.9 MB 119 kB/s \n",
            "\u001b[?25hBuilding wheels for collected packages: mysql.connector\n",
            "  Building wheel for mysql.connector (setup.py) ... \u001b[?25l\u001b[?25hdone\n",
            "  Created wheel for mysql.connector: filename=mysql_connector-2.2.9-cp37-cp37m-linux_x86_64.whl size=247965 sha256=c62f2fb7ae4c521cfb61347f5523f1e7d571e7b61f42eaebcec6d70db8ede6ee\n",
            "  Stored in directory: /root/.cache/pip/wheels/42/2f/c3/692fc7fc1f0d8c06b9175d94f0fc30f4f92348f5df5af1b8b7\n",
            "Successfully built mysql.connector\n",
            "Installing collected packages: mysql.connector\n",
            "Successfully installed mysql.connector-2.2.9\n"
          ]
        }
      ]
    },
    {
      "cell_type": "code",
      "metadata": {
        "id": "ZttaTVzYrhgb"
      },
      "source": [
        "#importing package\n",
        "\n",
        "#pip install mysql.connector\n",
        "\n",
        "import mysql.connector as sql\n",
        "\n",
        "#connecting to mysql database\n",
        "mydb =sql.connect(user='root',password='Siva@692',host='127.0.0.1',database='tut')\n",
        "print(mydb)\n"
      ],
      "execution_count": null,
      "outputs": []
    },
    {
      "cell_type": "code",
      "metadata": {
        "id": "sCd-Cq_Crhgd"
      },
      "source": [
        "mycursor = mydb.cursor()"
      ],
      "execution_count": null,
      "outputs": []
    },
    {
      "cell_type": "code",
      "metadata": {
        "id": "-2ek50Z0rhgf"
      },
      "source": [
        "mycursor.execute(\"show databases\")"
      ],
      "execution_count": null,
      "outputs": []
    },
    {
      "cell_type": "code",
      "metadata": {
        "id": "H1hSqJWQrhgg",
        "outputId": "c50dee8d-c5a1-4bc8-9e3b-20514bb93cf9"
      },
      "source": [
        "for x in mycursor:\n",
        "    print(x)"
      ],
      "execution_count": null,
      "outputs": [
        {
          "name": "stdout",
          "output_type": "stream",
          "text": [
            "('emp',)\n",
            "('employee',)\n",
            "('information_schema',)\n",
            "('market',)\n",
            "('mydata',)\n",
            "('mysql',)\n",
            "('performance_schema',)\n",
            "('sys',)\n",
            "('test',)\n"
          ]
        }
      ]
    },
    {
      "cell_type": "code",
      "metadata": {
        "id": "sdNP-S4orhgi",
        "outputId": "9f22213c-3859-4be2-d09a-a9bf9af6363f"
      },
      "source": [
        "mycursor"
      ],
      "execution_count": null,
      "outputs": [
        {
          "data": {
            "text/plain": [
              "<mysql.connector.cursor_cext.CMySQLCursor at 0x227545bef08>"
            ]
          },
          "execution_count": 18,
          "metadata": {},
          "output_type": "execute_result"
        }
      ]
    },
    {
      "cell_type": "markdown",
      "metadata": {
        "id": "bmdxrmJHrhgk"
      },
      "source": [
        "### creating database schema"
      ]
    },
    {
      "cell_type": "code",
      "metadata": {
        "id": "ycKHSTwJrhgm"
      },
      "source": [
        "#Create Database\n",
        "mycursor.execute(\"CREATE DATABASE EMP\")\n"
      ],
      "execution_count": null,
      "outputs": []
    },
    {
      "cell_type": "markdown",
      "metadata": {
        "id": "NebCGRVerhgn"
      },
      "source": [
        "### connectin to the database schema created"
      ]
    },
    {
      "cell_type": "code",
      "metadata": {
        "id": "6AJAtosIrhgp",
        "outputId": "b2761880-9733-4e6d-e525-f8bcc2e4dbad"
      },
      "source": [
        "# Connecting to Database created\n",
        "mydb = sql.connect(\n",
        "  host=\"localhost\",\n",
        "  user=\"cust1\",\n",
        "  passwd=\"cust1@123\",\n",
        "  database = 'EMP',\n",
        "  auth_plugin='mysql_native_password'\n",
        ")\n",
        "print(mydb)\n",
        "\n",
        "mycursor = mydb.cursor()\n"
      ],
      "execution_count": null,
      "outputs": [
        {
          "name": "stdout",
          "output_type": "stream",
          "text": [
            "<mysql.connector.connection_cext.CMySQLConnection object at 0x00000227545D3B08>\n"
          ]
        }
      ]
    },
    {
      "cell_type": "code",
      "metadata": {
        "id": "gaCbzkdMrhgr",
        "outputId": "5ba17017-de2c-4af5-d49b-df38bedf63d9"
      },
      "source": [
        "mycursor.execute(\"show tables\")\n",
        "\n",
        "for x in mycursor:\n",
        "    print(x)"
      ],
      "execution_count": null,
      "outputs": [
        {
          "name": "stdout",
          "output_type": "stream",
          "text": [
            "('finance',)\n",
            "('hr',)\n"
          ]
        }
      ]
    },
    {
      "cell_type": "markdown",
      "metadata": {
        "id": "8aaI4Lcnrhgt"
      },
      "source": [
        "### creating table"
      ]
    },
    {
      "cell_type": "code",
      "metadata": {
        "id": "fWyYKF6Orhgu"
      },
      "source": [
        ""
      ],
      "execution_count": null,
      "outputs": []
    },
    {
      "cell_type": "code",
      "metadata": {
        "id": "V567x7eMrhgv"
      },
      "source": [
        "#creating table\n",
        "mycursor.execute(\"CREATE TABLE HR \\\n",
        "                 (Emp_no int primary key, Emp_name varchar(20), \\\n",
        "                 Emp_desig varchar(20), Emp_contact int)\")\n"
      ],
      "execution_count": null,
      "outputs": []
    },
    {
      "cell_type": "markdown",
      "metadata": {
        "id": "ITdY1YExrhgw"
      },
      "source": [
        "### Inserting data into the table"
      ]
    },
    {
      "cell_type": "code",
      "metadata": {
        "id": "lj9B3Ixqrhgy"
      },
      "source": [
        "#Inseting values into Table\n",
        "SQL_Insert = \"INSERT INTO HR(Emp_no, Emp_name, Emp_desig, Emp_contact) \\\n",
        "                VALUES (%s,%s,%s,%s)\"\n",
        "                \n",
        "SQL_Insert_values = [ ('1','abc','hr','123456'),\n",
        "                      ('2','abc1','hr','12345678'),\n",
        "                      ('3', 'abc2','hr','1234567')\n",
        "                    ]\n",
        "                \n",
        "mycursor.executemany(SQL_Insert, SQL_Insert_values)\n",
        "\n",
        "mydb.commit() #commit() is used to save changes to database\n"
      ],
      "execution_count": null,
      "outputs": []
    },
    {
      "cell_type": "code",
      "metadata": {
        "id": "79mBN2pZrhgz",
        "outputId": "8ea83118-296c-4818-f933-a895a5dd81f1"
      },
      "source": [
        "print(mycursor.rowcount,\"rows were inserted\")\n"
      ],
      "execution_count": null,
      "outputs": [
        {
          "name": "stdout",
          "output_type": "stream",
          "text": [
            "3 rows were inserted\n"
          ]
        }
      ]
    },
    {
      "cell_type": "markdown",
      "metadata": {
        "id": "l6eWEu9hrhg1"
      },
      "source": [
        "### Creating another table"
      ]
    },
    {
      "cell_type": "code",
      "metadata": {
        "id": "rLJsy45Lrhg2"
      },
      "source": [
        "#Creating another table Finance\n",
        "mycursor.execute(\"CREATE TABLE FINANCE \\\n",
        "                 (Tax_No int primary key AUTO_INCREMENT, \\\n",
        "                 Emp_no int unique,\\\n",
        "                 Salary float)\")\n"
      ],
      "execution_count": null,
      "outputs": []
    },
    {
      "cell_type": "markdown",
      "metadata": {
        "id": "PSJLYktTrhg4"
      },
      "source": [
        "### Inserting data "
      ]
    },
    {
      "cell_type": "code",
      "metadata": {
        "id": "eZFOpI5Mrhg6",
        "outputId": "32a8c7a7-e948-4cde-b51b-7f11c2a19403"
      },
      "source": [
        "#Inserting values into Finance Table\n",
        "SQL_Insert_Finance = \"INSERT INTO FINANCE(Emp_no,Salary) VALUES (%s,%s)\" \n",
        "\n",
        "SQL_Insert_Values_Finance = [(1,10.5),\n",
        "                             (2,11.5),\n",
        "                             (3,12.5)\n",
        "                            ]\n",
        "\n",
        "mycursor.executemany(SQL_Insert_Finance,SQL_Insert_Values_Finance)\n",
        "\n",
        "mydb.commit() #commit() is used to save changes\n",
        "\n",
        "print(mycursor.rowcount,\"rows were updated\")\n"
      ],
      "execution_count": null,
      "outputs": [
        {
          "name": "stdout",
          "output_type": "stream",
          "text": [
            "3 rows were updated\n"
          ]
        }
      ]
    },
    {
      "cell_type": "markdown",
      "metadata": {
        "id": "HM9EncrVrhg8"
      },
      "source": [
        "### Selecting data"
      ]
    },
    {
      "cell_type": "code",
      "metadata": {
        "id": "U4_Wxeasrhg-",
        "outputId": "4f718bbb-5b1e-45e7-c5c3-2de95888d528"
      },
      "source": [
        "# Condition -- where cluase or where conditions\n",
        "\n",
        "SQL_where = \"SELECT * from HR WHERE Emp_no > 1\"\n",
        "\n",
        "mycursor.execute(SQL_where)\n",
        "\n",
        "SQL_where_results = mycursor.fetchall()\n",
        "\n",
        "for x in SQL_where_results:\n",
        "    print(x)\n"
      ],
      "execution_count": null,
      "outputs": [
        {
          "name": "stdout",
          "output_type": "stream",
          "text": [
            "(2, 'abc1', 'hr', 12345678)\n",
            "(3, 'abc2', 'hr', 1234567)\n"
          ]
        }
      ]
    },
    {
      "cell_type": "code",
      "metadata": {
        "id": "I4ZcWWxVrhhA",
        "outputId": "aae85cec-44fb-4b9e-fe3b-c3e714acf0dc"
      },
      "source": [
        "# Where Condition\n",
        "\n",
        "SQL_where_finance = \"SELECT * from FINANCE WHERE Salary >= 11.5\"\n",
        "\n",
        "mycursor.execute(SQL_where_finance)\n",
        "\n",
        "SQL_where_results_finance = mycursor.fetchall()\n",
        "\n",
        "for x in SQL_where_results_finance:\n",
        "    print(x)"
      ],
      "execution_count": null,
      "outputs": [
        {
          "name": "stdout",
          "output_type": "stream",
          "text": [
            "(2, 2, 11.5)\n",
            "(3, 3, 12.5)\n"
          ]
        }
      ]
    },
    {
      "cell_type": "code",
      "metadata": {
        "id": "BJo29MMHrhhD",
        "outputId": "c8c830bd-0eb5-40c7-dcae-3ad0b024a96c"
      },
      "source": [
        "# INNER Join Functions\n",
        "\n",
        "SQL_join = \"SELECT A.Emp_name, A.Emp_desig, B.Salary \\\n",
        "            from HR as A \\\n",
        "            Inner join FINANCE as B\\\n",
        "            on A.Emp_no = B.Tax_no\"\n",
        "            \n",
        "mycursor.execute(SQL_join)\n",
        "\n",
        "SQL_results = mycursor.fetchall()\n",
        "\n",
        "for x in SQL_results:\n",
        "    print(x)\n"
      ],
      "execution_count": null,
      "outputs": [
        {
          "name": "stdout",
          "output_type": "stream",
          "text": [
            "('abc', 'hr', 10.5)\n",
            "('abc1', 'hr', 11.5)\n",
            "('abc2', 'hr', 12.5)\n"
          ]
        }
      ]
    },
    {
      "cell_type": "code",
      "metadata": {
        "id": "ZEwImhx-rhhF"
      },
      "source": [
        "# OUTER Join Functions\n",
        "\n",
        "SQL_join_cross = \"SELECT *  \\\n",
        "            from HR \\\n",
        "            CROSS join FINANCE \"\n",
        "            \n",
        "mycursor.execute(SQL_join_cross)\n",
        "\n",
        "SQL_results = mycursor.fetchall()\n",
        "\n",
        "for x in SQL_results:\n",
        "    print(x)\n"
      ],
      "execution_count": null,
      "outputs": []
    },
    {
      "cell_type": "markdown",
      "metadata": {
        "id": "OQsnLuzXrhhH"
      },
      "source": [
        "### Update the data"
      ]
    },
    {
      "cell_type": "code",
      "metadata": {
        "id": "yT6fJSOorhhJ"
      },
      "source": [
        "# Where Condition\n",
        "\n",
        "SQL_salary = \"UPDATE FINANCE SET Salary=11 WHERE Salary = 11.5\"\n",
        "mycursor.execute(SQL_salary)\n",
        "\n",
        "mydb.commit()"
      ],
      "execution_count": null,
      "outputs": []
    },
    {
      "cell_type": "code",
      "metadata": {
        "id": "nMysE3jRrhhK",
        "outputId": "da865bd5-c8f0-44cd-f0f3-2b8fb3b104d0"
      },
      "source": [
        "# Where Condition\n",
        "\n",
        "SQL_where_finance = \"SELECT * from FINANCE WHERE Salary >= 11\"\n",
        "\n",
        "mycursor.execute(SQL_where_finance)\n",
        "\n",
        "SQL_where_results_finance = mycursor.fetchall()\n",
        "\n",
        "for x in SQL_where_results_finance:\n",
        "    print(x)"
      ],
      "execution_count": null,
      "outputs": [
        {
          "name": "stdout",
          "output_type": "stream",
          "text": [
            "(2, 2, 11.0)\n",
            "(3, 3, 12.5)\n"
          ]
        }
      ]
    },
    {
      "cell_type": "markdown",
      "metadata": {
        "id": "jztzVyfsrhhN"
      },
      "source": [
        "### Delete the data"
      ]
    },
    {
      "cell_type": "code",
      "metadata": {
        "id": "timcDjJUrhhP"
      },
      "source": [
        "# rollback()-- it won't allow the execution of command\n",
        "\n",
        "SQL_salary = \"DELETE FROM FINANCE WHERE Salary >= 11.5\"  #deleting salary data if >=11.5\n",
        "mycursor.execute(SQL_salary)\n",
        "\n",
        "mydb.rollback()\n",
        "mydb.commit()"
      ],
      "execution_count": null,
      "outputs": []
    },
    {
      "cell_type": "code",
      "metadata": {
        "id": "qxjbH8orrhhR",
        "outputId": "b4336e7d-03a7-48ac-f4b1-13b1ec4b6ae8"
      },
      "source": [
        "# Testing of rollback\n",
        "\n",
        "SQL_where_finance = \"SELECT * from FINANCE WHERE Salary >= 11.5\"\n",
        "\n",
        "mycursor.execute(SQL_where_finance)\n",
        "\n",
        "SQL_where_results_finance = mycursor.fetchall()\n",
        "\n",
        "for x in SQL_where_results_finance:\n",
        "    print(x)\n",
        "\n",
        "    \n",
        "# We still get the record of salary>=11.5 as we have used rollback() earlier which stopped the deletion"
      ],
      "execution_count": null,
      "outputs": [
        {
          "name": "stdout",
          "output_type": "stream",
          "text": [
            "(3, 3, 12.5)\n"
          ]
        }
      ]
    },
    {
      "cell_type": "code",
      "metadata": {
        "id": "7QGa7s28rhhT"
      },
      "source": [
        "# Without rollback\n",
        "\n",
        "SQL_salary = \"DELETE FROM FINANCE WHERE Salary >= 11.5\"\n",
        "mycursor.execute(SQL_salary)\n",
        "mydb.commit()"
      ],
      "execution_count": null,
      "outputs": []
    },
    {
      "cell_type": "code",
      "metadata": {
        "id": "8p_ZHHlkrhhV"
      },
      "source": [
        "SQL_where_finance = \"SELECT * from FINANCE WHERE Salary >= 11.5\"\n",
        "\n",
        "mycursor.execute(SQL_where_finance)\n",
        "\n",
        "SQL_where_results_finance = mycursor.fetchall()\n",
        "\n",
        "for x in SQL_where_results_finance:\n",
        "    print(x)"
      ],
      "execution_count": null,
      "outputs": []
    },
    {
      "cell_type": "code",
      "metadata": {
        "id": "UyHMhGw9rhhX"
      },
      "source": [
        ""
      ],
      "execution_count": null,
      "outputs": []
    },
    {
      "cell_type": "code",
      "metadata": {
        "id": "woFX4uFBISi5"
      },
      "source": [
        ""
      ],
      "execution_count": null,
      "outputs": []
    },
    {
      "cell_type": "markdown",
      "metadata": {
        "id": "H5U_6iy-ISv9"
      },
      "source": [
        "Exercises for practice\n"
      ]
    },
    {
      "cell_type": "code",
      "metadata": {
        "id": "KPd-ErBCIXJj"
      },
      "source": [
        "class MotorCar(object):\n",
        "    def __init__(self):\n",
        "        \"\"\"Base class constructor\"\"\"\n",
        "    \n",
        "class Car(MotorCar):\n",
        "    def __init__(self):\n",
        "        \"\"\"Class constructor\"\"\"\n",
        "        super(Car, self).__init__()\n",
        "        \n",
        "    def drive(self):\n",
        "        \"\"\"Drive the car\"\"\"\n",
        "        \n",
        "red_car = Car()\n",
        "red_car.drive()"
      ],
      "execution_count": null,
      "outputs": []
    },
    {
      "cell_type": "code",
      "metadata": {
        "colab": {
          "base_uri": "https://localhost:8080/"
        },
        "id": "K87hhDiGjMEa",
        "outputId": "de5b1efd-d672-43a3-8912-ed8dcc3e6b53"
      },
      "source": [
        "def foo(k):\n",
        "  k[0] = 2\n",
        "q = [0]\n",
        "foo(q)\n",
        "print(q)"
      ],
      "execution_count": null,
      "outputs": [
        {
          "output_type": "stream",
          "name": "stdout",
          "text": [
            "[2]\n"
          ]
        }
      ]
    },
    {
      "cell_type": "code",
      "metadata": {
        "colab": {
          "base_uri": "https://localhost:8080/"
        },
        "id": "iMndQJ8ajTvt",
        "outputId": "2a15cf27-87e0-401c-aa9e-87bbf367b079"
      },
      "source": [
        "def f1():\n",
        "  x = 200\n",
        "  print(x)\n",
        "x=+2\n",
        "f1()"
      ],
      "execution_count": null,
      "outputs": [
        {
          "output_type": "stream",
          "name": "stdout",
          "text": [
            "200\n"
          ]
        }
      ]
    },
    {
      "cell_type": "code",
      "metadata": {
        "id": "f7bEix7ejTxB"
      },
      "source": [
        ""
      ],
      "execution_count": null,
      "outputs": []
    },
    {
      "cell_type": "code",
      "metadata": {
        "id": "pPIw12M6hX5J",
        "colab": {
          "base_uri": "https://localhost:8080/"
        },
        "outputId": "30c15fb2-3f6c-465b-c0a3-47dea22c5589"
      },
      "source": [
        "def f1():\n",
        "  x = 20\n",
        "  print(x)\n",
        "x=12\n",
        "f1()"
      ],
      "execution_count": null,
      "outputs": [
        {
          "output_type": "stream",
          "name": "stdout",
          "text": [
            "20\n"
          ]
        }
      ]
    },
    {
      "cell_type": "code",
      "metadata": {
        "colab": {
          "base_uri": "https://localhost:8080/"
        },
        "id": "5B4d2YbKOxv6",
        "outputId": "734437a0-355d-414b-8a0c-9912d5560ae8"
      },
      "source": [
        "def san(x):\n",
        "  print(x+1)\n",
        "x = -4\n",
        "x = 6\n",
        "san(14)"
      ],
      "execution_count": null,
      "outputs": [
        {
          "output_type": "stream",
          "name": "stdout",
          "text": [
            "15\n"
          ]
        }
      ]
    },
    {
      "cell_type": "code",
      "metadata": {
        "colab": {
          "base_uri": "https://localhost:8080/"
        },
        "id": "jxuaqT8yjT0h",
        "outputId": "adafd176-f5e5-4886-f0c3-0d7f02f4cc03"
      },
      "source": [
        "age = 36\n",
        "txt = \"My name is John, and I am {}\"\n",
        "print(txt.format(age))"
      ],
      "execution_count": null,
      "outputs": [
        {
          "output_type": "stream",
          "name": "stdout",
          "text": [
            "My name is John, and I am 36\n"
          ]
        }
      ]
    },
    {
      "cell_type": "code",
      "metadata": {
        "colab": {
          "base_uri": "https://localhost:8080/",
          "height": 195
        },
        "id": "F8nyMOC2jT41",
        "outputId": "395dbd0d-35cb-411d-e0d9-22b9a5fbed25"
      },
      "source": [
        "age = 36\n",
        "txt = \"My name is John, I am \" + age\n",
        "print(txt)"
      ],
      "execution_count": null,
      "outputs": [
        {
          "output_type": "error",
          "ename": "TypeError",
          "evalue": "ignored",
          "traceback": [
            "\u001b[0;31m---------------------------------------------------------------------------\u001b[0m",
            "\u001b[0;31mTypeError\u001b[0m                                 Traceback (most recent call last)",
            "\u001b[0;32m<ipython-input-245-4d1b227cff41>\u001b[0m in \u001b[0;36m<module>\u001b[0;34m()\u001b[0m\n\u001b[1;32m      1\u001b[0m \u001b[0mage\u001b[0m \u001b[0;34m=\u001b[0m \u001b[0;36m36\u001b[0m\u001b[0;34m\u001b[0m\u001b[0;34m\u001b[0m\u001b[0m\n\u001b[0;32m----> 2\u001b[0;31m \u001b[0mtxt\u001b[0m \u001b[0;34m=\u001b[0m \u001b[0;34m\"My name is John, I am \"\u001b[0m \u001b[0;34m+\u001b[0m \u001b[0mage\u001b[0m\u001b[0;34m\u001b[0m\u001b[0;34m\u001b[0m\u001b[0m\n\u001b[0m\u001b[1;32m      3\u001b[0m \u001b[0mprint\u001b[0m\u001b[0;34m(\u001b[0m\u001b[0mtxt\u001b[0m\u001b[0;34m)\u001b[0m\u001b[0;34m\u001b[0m\u001b[0;34m\u001b[0m\u001b[0m\n",
            "\u001b[0;31mTypeError\u001b[0m: can only concatenate str (not \"int\") to str"
          ]
        }
      ]
    },
    {
      "cell_type": "code",
      "metadata": {
        "colab": {
          "base_uri": "https://localhost:8080/"
        },
        "id": "iLOUTXjGjT8N",
        "outputId": "75f95ff3-5122-4e53-8e51-862e02b789fd"
      },
      "source": [
        "x = 'klmno'\n",
        "for i in range(len(x)):\n",
        "    print(x)"
      ],
      "execution_count": null,
      "outputs": [
        {
          "output_type": "stream",
          "name": "stdout",
          "text": [
            "klmno\n",
            "klmno\n",
            "klmno\n",
            "klmno\n",
            "klmno\n"
          ]
        }
      ]
    },
    {
      "cell_type": "code",
      "metadata": {
        "id": "XZBxQWFRjT_y"
      },
      "source": [
        "x = 'klmno'\n",
        "for i in range(len(x)):\n",
        "    print(i)\n",
        "    print(x)"
      ],
      "execution_count": null,
      "outputs": []
    },
    {
      "cell_type": "code",
      "metadata": {
        "colab": {
          "base_uri": "https://localhost:8080/"
        },
        "id": "OxnardJXjUDE",
        "outputId": "7828310c-6844-4915-ea80-98efca7d3b5a"
      },
      "source": [
        "x = 'siva'\n",
        "for i in range(len(x)):\n",
        "  x[i].upper()\n",
        "  print(x)"
      ],
      "execution_count": null,
      "outputs": [
        {
          "output_type": "stream",
          "name": "stdout",
          "text": [
            "siva\n",
            "siva\n",
            "siva\n",
            "siva\n"
          ]
        }
      ]
    },
    {
      "cell_type": "code",
      "metadata": {
        "colab": {
          "base_uri": "https://localhost:8080/"
        },
        "id": "_PhIIMehkCon",
        "outputId": "6db95086-c991-4e81-e085-2fbb597c55cb"
      },
      "source": [
        "x = ['bc', 'de']\n",
        "for i in x:\n",
        "  i.upper()\n",
        "print(x)"
      ],
      "execution_count": null,
      "outputs": [
        {
          "output_type": "stream",
          "name": "stdout",
          "text": [
            "['bc', 'de']\n"
          ]
        }
      ]
    },
    {
      "cell_type": "code",
      "metadata": {
        "id": "vNvKzlwckCrg"
      },
      "source": [
        "x = ['ab', 'cd']\n",
        "for i in x:\n",
        "  x.append(i.upper())\n",
        "print(x)"
      ],
      "execution_count": null,
      "outputs": []
    },
    {
      "cell_type": "code",
      "metadata": {
        "id": "VDE6bf_wkCud"
      },
      "source": [
        "print(\"abc Def\".capitalize())"
      ],
      "execution_count": null,
      "outputs": []
    },
    {
      "cell_type": "code",
      "metadata": {
        "colab": {
          "base_uri": "https://localhost:8080/"
        },
        "id": "i2NgTztDkCxU",
        "outputId": "53926644-d5d6-45f9-f6f2-489851074c2e"
      },
      "source": [
        "name = ['raju','bear''deer','daman']\n",
        "print(name[-1][-1])"
      ],
      "execution_count": null,
      "outputs": [
        {
          "output_type": "stream",
          "name": "stdout",
          "text": [
            "n\n"
          ]
        }
      ]
    },
    {
      "cell_type": "code",
      "metadata": {
        "id": "kBQd717Lkm9B"
      },
      "source": [
        "ex = \"helle\"\n",
        "ex.find(\"l\")"
      ],
      "execution_count": null,
      "outputs": []
    },
    {
      "cell_type": "code",
      "metadata": {
        "id": "IMWPLgABknAQ"
      },
      "source": [
        "max(\"how are you\")"
      ],
      "execution_count": null,
      "outputs": []
    },
    {
      "cell_type": "code",
      "metadata": {
        "id": "OCW4JxNoknHd"
      },
      "source": [
        "True + True * (True - False and True + True) ** 5"
      ],
      "execution_count": null,
      "outputs": []
    },
    {
      "cell_type": "code",
      "metadata": {
        "id": "bY0ck7Uik5ky"
      },
      "source": [
        "True + True * (True - False and True + False) ** 5"
      ],
      "execution_count": null,
      "outputs": []
    },
    {
      "cell_type": "code",
      "metadata": {
        "colab": {
          "base_uri": "https://localhost:8080/"
        },
        "id": "8BRlcdjsk5qI",
        "outputId": "ff599a26-37d8-420e-b811-a5def921253d"
      },
      "source": [
        "(True - False and True + False) ** 5"
      ],
      "execution_count": null,
      "outputs": [
        {
          "output_type": "execute_result",
          "data": {
            "text/plain": [
              "1"
            ]
          },
          "metadata": {},
          "execution_count": 2
        }
      ]
    },
    {
      "cell_type": "code",
      "metadata": {
        "colab": {
          "base_uri": "https://localhost:8080/"
        },
        "id": "ABUGZgEPk5s6",
        "outputId": "aff53b7d-79a2-494f-8e2d-8588f724ac07"
      },
      "source": [
        "78 and 45 #only with integer we 'and' operation for lefside, 'or' operator for right side"
      ],
      "execution_count": null,
      "outputs": [
        {
          "output_type": "execute_result",
          "data": {
            "text/plain": [
              "45"
            ]
          },
          "metadata": {},
          "execution_count": 4
        }
      ]
    },
    {
      "cell_type": "code",
      "metadata": {
        "colab": {
          "base_uri": "https://localhost:8080/"
        },
        "id": "XmqebEM6k5v3",
        "outputId": "f0f35e0d-ef02-4c20-f216-34e7bba528a2"
      },
      "source": [
        "78 or 45"
      ],
      "execution_count": null,
      "outputs": [
        {
          "output_type": "execute_result",
          "data": {
            "text/plain": [
              "78"
            ]
          },
          "metadata": {},
          "execution_count": 3
        }
      ]
    },
    {
      "cell_type": "code",
      "metadata": {
        "colab": {
          "base_uri": "https://localhost:8080/"
        },
        "id": "V66jDfUBk5yp",
        "outputId": "17aac5f5-fe7f-44f5-e08e-2329f92bbae9"
      },
      "source": [
        "True + True and True + False #addition '+' is more prior than 'and' operation "
      ],
      "execution_count": null,
      "outputs": [
        {
          "output_type": "execute_result",
          "data": {
            "text/plain": [
              "1"
            ]
          },
          "metadata": {},
          "execution_count": 5
        }
      ]
    },
    {
      "cell_type": "code",
      "metadata": {
        "id": "TzwV7sT_leUh"
      },
      "source": [
        "#5 & 2 #bit operator converts into bits\n",
        "8&3"
      ],
      "execution_count": null,
      "outputs": []
    },
    {
      "cell_type": "code",
      "metadata": {
        "id": "JdCrieFwleXT"
      },
      "source": [
        "8|3"
      ],
      "execution_count": null,
      "outputs": []
    },
    {
      "cell_type": "code",
      "metadata": {
        "colab": {
          "base_uri": "https://localhost:8080/",
          "height": 35
        },
        "id": "tDjcJhPhleaK",
        "outputId": "9e75736a-3a5a-4c20-ae87-8ad8666b3c86"
      },
      "source": [
        "#bin(5)\n",
        "bin(8)"
      ],
      "execution_count": null,
      "outputs": [
        {
          "output_type": "execute_result",
          "data": {
            "application/vnd.google.colaboratory.intrinsic+json": {
              "type": "string"
            },
            "text/plain": [
              "'0b1000'"
            ]
          },
          "metadata": {},
          "execution_count": 9
        }
      ]
    },
    {
      "cell_type": "code",
      "metadata": {
        "id": "VIr0nYkRledP"
      },
      "source": [
        "import math"
      ],
      "execution_count": null,
      "outputs": []
    },
    {
      "cell_type": "code",
      "metadata": {
        "colab": {
          "base_uri": "https://localhost:8080/"
        },
        "id": "3p1BrApElegA",
        "outputId": "38e6065a-bb08-41d8-c87e-c5795f1d993f"
      },
      "source": [
        "bool('false')\n",
        "bool()"
      ],
      "execution_count": null,
      "outputs": [
        {
          "output_type": "execute_result",
          "data": {
            "text/plain": [
              "False"
            ]
          },
          "metadata": {},
          "execution_count": 6
        }
      ]
    },
    {
      "cell_type": "code",
      "metadata": {
        "id": "TeesWf8Slei5"
      },
      "source": [
        "eval(input(\"enter a string\"))"
      ],
      "execution_count": null,
      "outputs": []
    },
    {
      "cell_type": "code",
      "metadata": {
        "colab": {
          "base_uri": "https://localhost:8080/",
          "height": 52
        },
        "id": "YZ-Xwm8Clenu",
        "outputId": "2db42cf2-49f0-4103-ae56-8581a523f698"
      },
      "source": [
        "input(\"enter a string \")"
      ],
      "execution_count": null,
      "outputs": [
        {
          "name": "stdout",
          "output_type": "stream",
          "text": [
            "enter a string siva\n"
          ]
        },
        {
          "output_type": "execute_result",
          "data": {
            "application/vnd.google.colaboratory.intrinsic+json": {
              "type": "string"
            },
            "text/plain": [
              "'siva'"
            ]
          },
          "metadata": {},
          "execution_count": 8
        }
      ]
    },
    {
      "cell_type": "code",
      "metadata": {
        "id": "eDeROOrsleqa"
      },
      "source": [
        "a,b=15, 8\n",
        "if a+b:\n",
        "  print(\"False\")\n",
        "else:\n",
        "  print(\"True\")"
      ],
      "execution_count": null,
      "outputs": []
    },
    {
      "cell_type": "code",
      "metadata": {
        "id": "md21jcLQmPHH"
      },
      "source": [
        "a=(1,2,3,4)\n",
        "a[1:-1]"
      ],
      "execution_count": null,
      "outputs": []
    },
    {
      "cell_type": "code",
      "metadata": {
        "colab": {
          "base_uri": "https://localhost:8080/"
        },
        "id": "oLjxgHPGmPKV",
        "outputId": "e6296dc5-7ea3-440e-ce41-752ab754bb7e"
      },
      "source": [
        "example=['h', 'e', 'l', 'l', 'o']\n",
        "len(example)"
      ],
      "execution_count": null,
      "outputs": [
        {
          "output_type": "execute_result",
          "data": {
            "text/plain": [
              "5"
            ]
          },
          "metadata": {},
          "execution_count": 14
        }
      ]
    },
    {
      "cell_type": "code",
      "metadata": {
        "colab": {
          "base_uri": "https://localhost:8080/",
          "height": 195
        },
        "id": "tCESxGJVmPMx",
        "outputId": "10abe808-d5c3-42aa-b577-69e22509c4e1"
      },
      "source": [
        "example = \"snow world\"   #String object doesn't support item assignment\n",
        "example[3]='s'\n",
        "example"
      ],
      "execution_count": null,
      "outputs": [
        {
          "output_type": "error",
          "ename": "TypeError",
          "evalue": "ignored",
          "traceback": [
            "\u001b[0;31m---------------------------------------------------------------------------\u001b[0m",
            "\u001b[0;31mTypeError\u001b[0m                                 Traceback (most recent call last)",
            "\u001b[0;32m<ipython-input-13-e9b3454560b2>\u001b[0m in \u001b[0;36m<module>\u001b[0;34m()\u001b[0m\n\u001b[1;32m      1\u001b[0m \u001b[0mexample\u001b[0m \u001b[0;34m=\u001b[0m \u001b[0;34m\"snow world\"\u001b[0m   \u001b[0;31m#String object doesn't support\u001b[0m\u001b[0;34m\u001b[0m\u001b[0;34m\u001b[0m\u001b[0m\n\u001b[0;32m----> 2\u001b[0;31m \u001b[0mexample\u001b[0m\u001b[0;34m[\u001b[0m\u001b[0;36m3\u001b[0m\u001b[0;34m]\u001b[0m\u001b[0;34m=\u001b[0m\u001b[0;34m's'\u001b[0m\u001b[0;34m\u001b[0m\u001b[0;34m\u001b[0m\u001b[0m\n\u001b[0m\u001b[1;32m      3\u001b[0m \u001b[0mexample\u001b[0m\u001b[0;34m\u001b[0m\u001b[0;34m\u001b[0m\u001b[0m\n",
            "\u001b[0;31mTypeError\u001b[0m: 'str' object does not support item assignment"
          ]
        }
      ]
    },
    {
      "cell_type": "code",
      "metadata": {
        "colab": {
          "base_uri": "https://localhost:8080/"
        },
        "id": "ZEDgdDrFmPT7",
        "outputId": "ee375073-9d36-4eb2-8193-07d6daf5fa71"
      },
      "source": [
        "print('{:,}'.format(1112223334))"
      ],
      "execution_count": null,
      "outputs": [
        {
          "output_type": "stream",
          "name": "stdout",
          "text": [
            "1,112,223,334\n"
          ]
        }
      ]
    },
    {
      "cell_type": "code",
      "metadata": {
        "id": "cRZwBzUnmPWb"
      },
      "source": [
        "print('ab12'.isalnum())"
      ],
      "execution_count": null,
      "outputs": []
    },
    {
      "cell_type": "code",
      "metadata": {
        "colab": {
          "base_uri": "https://localhost:8080/"
        },
        "id": "9Ei6OGsanS_2",
        "outputId": "39f5849d-4a83-40d6-8821-f27d28861e0e"
      },
      "source": [
        "a=[(1,1),(2,4),(3,9)]\n",
        "type(a)"
      ],
      "execution_count": null,
      "outputs": [
        {
          "output_type": "execute_result",
          "data": {
            "text/plain": [
              "list"
            ]
          },
          "metadata": {},
          "execution_count": 16
        }
      ]
    },
    {
      "cell_type": "code",
      "metadata": {
        "id": "6zqIec0XnTCp"
      },
      "source": [
        ""
      ],
      "execution_count": null,
      "outputs": []
    },
    {
      "cell_type": "markdown",
      "metadata": {
        "id": "ecdZCZsqoVCl"
      },
      "source": [
        "basic calculator another type"
      ]
    },
    {
      "cell_type": "code",
      "metadata": {
        "id": "PnZxbbwAnTHj"
      },
      "source": [
        "# Take input from the user \n",
        "select = int(input(\"Select operations form 1, 2, 3, 4 :\"))\n",
        "  \n",
        "number_1 = int(input(\"Enter first number: \"))\n",
        "number_2 = int(input(\"Enter second number: \"))\n",
        "  \n",
        "if select == 1:\n",
        "    print(number_1, \"+\", number_2, \"=\",\n",
        "                    add(number_1, number_2))\n",
        "  \n",
        "elif select == 2:\n",
        "    print(number_1, \"-\", number_2, \"=\",\n",
        "                    subtract(number_1, number_2))\n",
        "  \n",
        "elif select == 3:\n",
        "    print(number_1, \"*\", number_2, \"=\",\n",
        "                    multiply(number_1, number_2))\n",
        "  \n",
        "elif select == 4:\n",
        "    print(number_1, \"/\", number_2, \"=\",\n",
        "                    divide(number_1, number_2))\n",
        "else:\n",
        "    print(\"Invalid input\")"
      ],
      "execution_count": null,
      "outputs": []
    },
    {
      "cell_type": "code",
      "metadata": {
        "id": "5GMjrHSgnTKO"
      },
      "source": [
        ""
      ],
      "execution_count": null,
      "outputs": []
    }
  ]
}